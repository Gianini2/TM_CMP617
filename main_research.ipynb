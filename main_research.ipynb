{
 "cells": [
  {
   "cell_type": "code",
   "execution_count": 1,
   "metadata": {},
   "outputs": [],
   "source": [
    "# unused here:\n",
    "# !pip install --upgrade huggingface_hub -q\n",
    "# !pip install --upgrade pip\n",
    "# !pip install ipywidgets"
   ]
  },
  {
   "cell_type": "code",
   "execution_count": 21,
   "metadata": {},
   "outputs": [],
   "source": [
    "# # BERTopic only work's properly with torch 2.2.1, higher versions you can have issues\n",
    "# !pip install torch==2.2.1\n",
    "# !pip install bertopic\n",
    "# !pip install bertopic[flair]\n",
    "# !pip install bertopic[gensim]\n",
    "# !pip install bertopic[spacy]\n",
    "\n",
    "#(necessary for \"topic_model.visualize_barchart\")\n",
    "# !pip install nbformat \n",
    "\n",
    "# # this one is having an issue:\n",
    "# # !pip install bertopic[use]\n",
    " \n",
    " \n",
    "# LDA:\n",
    "!pip install wordcloud\n",
    "!pip install gensim\n",
    "!pip install pyLDAvis\n",
    " \n",
    " \n",
    "from IPython.display import clear_output\n",
    "clear_output()"
   ]
  },
  {
   "cell_type": "code",
   "execution_count": 3,
   "metadata": {},
   "outputs": [],
   "source": [
    "import nbformat"
   ]
  },
  {
   "cell_type": "markdown",
   "metadata": {},
   "source": [
    "In case bertopic complains to install in windows due to long paths, enable long paths to install **bertopic** in windows:\n",
    "1. Open PowerShell as Administrator.\n",
    "2. In the PowerShell window that opened with administrative privileges, type the following command and press Enter:\n",
    "```bash\n",
    "New-ItemProperty -Path \"HKLM:\\SYSTEM\\CurrentControlSet\\Control\\FileSystem\" -Name \"LongPathsEnabled\" -Value 1 -PropertyType DWORD -Force\n",
    "```\n",
    "3. Restart your computer."
   ]
  },
  {
   "cell_type": "code",
   "execution_count": 55,
   "metadata": {},
   "outputs": [
    {
     "name": "stderr",
     "output_type": "stream",
     "text": [
      "[nltk_data] Downloading package punkt to\n",
      "[nltk_data]     C:\\Users\\gutog\\AppData\\Roaming\\nltk_data...\n",
      "[nltk_data]   Package punkt is already up-to-date!\n",
      "[nltk_data] Downloading package stopwords to\n",
      "[nltk_data]     C:\\Users\\gutog\\AppData\\Roaming\\nltk_data...\n",
      "[nltk_data]   Package stopwords is already up-to-date!\n"
     ]
    },
    {
     "data": {
      "text/plain": [
       "True"
      ]
     },
     "execution_count": 55,
     "metadata": {},
     "output_type": "execute_result"
    }
   ],
   "source": [
    "import json\n",
    "import random\n",
    "import re\n",
    "import os\n",
    "import gensim\n",
    "from bertopic import BERTopic\n",
    "from sklearn.datasets import fetch_20newsgroups\n",
    "from pprint import pprint\n",
    "from sentence_transformers import SentenceTransformer\n",
    "from gensim.utils import simple_preprocess\n",
    "\n",
    "import nltk\n",
    "from nltk.corpus import stopwords\n",
    "nltk.download('punkt')\n",
    "nltk.download('stopwords')\n",
    "\n",
    "# import pandas as pd\n",
    "# import numpy as np"
   ]
  },
  {
   "cell_type": "code",
   "execution_count": 5,
   "metadata": {},
   "outputs": [],
   "source": [
    "# ~1m40s to append the data into a list\n",
    "# Open the jsonl file\n",
    "\n",
    "BabyProductsDict = []\n",
    "\n",
    "with open('data/Baby_Products.jsonl', 'r') as file:\n",
    "    # Read each line in the file\n",
    "    for line in file:\n",
    "        # Parse the JSON data on the line\n",
    "        BabyProductsDict.append(json.loads(line))\n",
    "        # Now data is a dictionary representing the JSON object\n",
    "        # print(data)"
   ]
  },
  {
   "cell_type": "code",
   "execution_count": 6,
   "metadata": {},
   "outputs": [
    {
     "name": "stdout",
     "output_type": "stream",
     "text": [
      "len(): 6028884 type: <class 'list'>\n"
     ]
    }
   ],
   "source": [
    "print('len():',len(BabyProductsDict),'type:',type(BabyProductsDict))"
   ]
  },
  {
   "cell_type": "code",
   "execution_count": 7,
   "metadata": {},
   "outputs": [],
   "source": [
    "# sample\n",
    "# BabyProductsDict[0]['text']"
   ]
  },
  {
   "cell_type": "code",
   "execution_count": 8,
   "metadata": {},
   "outputs": [
    {
     "name": "stdout",
     "output_type": "stream",
     "text": [
      "5000\n"
     ]
    }
   ],
   "source": [
    "# max_samples = 100000\n",
    "max_samples = 5000\n",
    "\n",
    "\n",
    "if len(BabyProductsDict) > max_samples:\n",
    "    sampled_list = random.sample(BabyProductsDict, max_samples)\n",
    "else:\n",
    "    sampled_list = BabyProductsDict\n",
    "\n",
    "# Print or use the sampled list as needed\n",
    "print(len(sampled_list))  # Should be max_samples if the original list has more than max_samples items"
   ]
  },
  {
   "cell_type": "code",
   "execution_count": 9,
   "metadata": {},
   "outputs": [
    {
     "data": {
      "text/plain": [
       "{'rating': 5.0,\n",
       " 'title': 'Best bib ever!',\n",
       " 'text': 'Adorable prints, super soft, love this product!',\n",
       " 'images': [],\n",
       " 'asin': 'B010J7ZW88',\n",
       " 'parent_asin': 'B08716GMGC',\n",
       " 'user_id': 'AG57HDMDVZRDLTBZ54CKNJBDIKIA',\n",
       " 'timestamp': 1469103586000,\n",
       " 'helpful_vote': 0,\n",
       " 'verified_purchase': True}"
      ]
     },
     "execution_count": 9,
     "metadata": {},
     "output_type": "execute_result"
    }
   ],
   "source": [
    "sampled_list[0]"
   ]
  },
  {
   "cell_type": "code",
   "execution_count": 10,
   "metadata": {},
   "outputs": [
    {
     "data": {
      "text/html": [
       "<div>\n",
       "<style scoped>\n",
       "    .dataframe tbody tr th:only-of-type {\n",
       "        vertical-align: middle;\n",
       "    }\n",
       "\n",
       "    .dataframe tbody tr th {\n",
       "        vertical-align: top;\n",
       "    }\n",
       "\n",
       "    .dataframe thead th {\n",
       "        text-align: right;\n",
       "    }\n",
       "</style>\n",
       "<table border=\"1\" class=\"dataframe\">\n",
       "  <thead>\n",
       "    <tr style=\"text-align: right;\">\n",
       "      <th></th>\n",
       "      <th>rating</th>\n",
       "      <th>title</th>\n",
       "      <th>text</th>\n",
       "      <th>images</th>\n",
       "      <th>asin</th>\n",
       "      <th>parent_asin</th>\n",
       "      <th>user_id</th>\n",
       "      <th>timestamp</th>\n",
       "      <th>helpful_vote</th>\n",
       "      <th>verified_purchase</th>\n",
       "    </tr>\n",
       "  </thead>\n",
       "  <tbody>\n",
       "    <tr>\n",
       "      <th>0</th>\n",
       "      <td>5.0</td>\n",
       "      <td>Best bib ever!</td>\n",
       "      <td>Adorable prints, super soft, love this product!</td>\n",
       "      <td>[]</td>\n",
       "      <td>B010J7ZW88</td>\n",
       "      <td>B08716GMGC</td>\n",
       "      <td>AG57HDMDVZRDLTBZ54CKNJBDIKIA</td>\n",
       "      <td>1469103586000</td>\n",
       "      <td>0</td>\n",
       "      <td>True</td>\n",
       "    </tr>\n",
       "    <tr>\n",
       "      <th>1</th>\n",
       "      <td>5.0</td>\n",
       "      <td>Great for Newborns</td>\n",
       "      <td>I always get these for new moms. I used them w...</td>\n",
       "      <td>[]</td>\n",
       "      <td>B0016A7QYQ</td>\n",
       "      <td>B0016A7QYQ</td>\n",
       "      <td>AH3U6H45GQCBVMX53UZFL2BL67IA</td>\n",
       "      <td>1391616143000</td>\n",
       "      <td>0</td>\n",
       "      <td>True</td>\n",
       "    </tr>\n",
       "    <tr>\n",
       "      <th>2</th>\n",
       "      <td>3.0</td>\n",
       "      <td>Adorable but has an odor</td>\n",
       "      <td>The item was adorable. My only complaint is th...</td>\n",
       "      <td>[]</td>\n",
       "      <td>B01N1QJ5R7</td>\n",
       "      <td>B01N1QJ5R7</td>\n",
       "      <td>AHHGWDRA6IDKLX2N4RFFIPITUOWA</td>\n",
       "      <td>1628616097351</td>\n",
       "      <td>0</td>\n",
       "      <td>True</td>\n",
       "    </tr>\n",
       "    <tr>\n",
       "      <th>3</th>\n",
       "      <td>5.0</td>\n",
       "      <td>Great for 2 in the backseat of most cars though</td>\n",
       "      <td>My tall 6, 7 and 9-year-olds use these as a sp...</td>\n",
       "      <td>[{'small_image_url': 'https://images-na.ssl-im...</td>\n",
       "      <td>B00ISS2S88</td>\n",
       "      <td>B00ISS2S88</td>\n",
       "      <td>AE7JOVNS4C7U322U2UIIZLDBKBOA</td>\n",
       "      <td>1437159678000</td>\n",
       "      <td>11</td>\n",
       "      <td>True</td>\n",
       "    </tr>\n",
       "    <tr>\n",
       "      <th>4</th>\n",
       "      <td>4.0</td>\n",
       "      <td>GREAT for price!</td>\n",
       "      <td>I loved it when my daughter was a bitty thing!...</td>\n",
       "      <td>[]</td>\n",
       "      <td>B0002XO5LK</td>\n",
       "      <td>B0002XO5LK</td>\n",
       "      <td>AFEGCFQJZUDKKHSVNC5RT3PUPXKA</td>\n",
       "      <td>1140796432000</td>\n",
       "      <td>4</td>\n",
       "      <td>False</td>\n",
       "    </tr>\n",
       "  </tbody>\n",
       "</table>\n",
       "</div>"
      ],
      "text/plain": [
       "   rating                                            title  \\\n",
       "0     5.0                                   Best bib ever!   \n",
       "1     5.0                               Great for Newborns   \n",
       "2     3.0                         Adorable but has an odor   \n",
       "3     5.0  Great for 2 in the backseat of most cars though   \n",
       "4     4.0                                 GREAT for price!   \n",
       "\n",
       "                                                text  \\\n",
       "0    Adorable prints, super soft, love this product!   \n",
       "1  I always get these for new moms. I used them w...   \n",
       "2  The item was adorable. My only complaint is th...   \n",
       "3  My tall 6, 7 and 9-year-olds use these as a sp...   \n",
       "4  I loved it when my daughter was a bitty thing!...   \n",
       "\n",
       "                                              images        asin parent_asin  \\\n",
       "0                                                 []  B010J7ZW88  B08716GMGC   \n",
       "1                                                 []  B0016A7QYQ  B0016A7QYQ   \n",
       "2                                                 []  B01N1QJ5R7  B01N1QJ5R7   \n",
       "3  [{'small_image_url': 'https://images-na.ssl-im...  B00ISS2S88  B00ISS2S88   \n",
       "4                                                 []  B0002XO5LK  B0002XO5LK   \n",
       "\n",
       "                        user_id      timestamp  helpful_vote  \\\n",
       "0  AG57HDMDVZRDLTBZ54CKNJBDIKIA  1469103586000             0   \n",
       "1  AH3U6H45GQCBVMX53UZFL2BL67IA  1391616143000             0   \n",
       "2  AHHGWDRA6IDKLX2N4RFFIPITUOWA  1628616097351             0   \n",
       "3  AE7JOVNS4C7U322U2UIIZLDBKBOA  1437159678000            11   \n",
       "4  AFEGCFQJZUDKKHSVNC5RT3PUPXKA  1140796432000             4   \n",
       "\n",
       "   verified_purchase  \n",
       "0               True  \n",
       "1               True  \n",
       "2               True  \n",
       "3               True  \n",
       "4              False  "
      ]
     },
     "execution_count": 10,
     "metadata": {},
     "output_type": "execute_result"
    }
   ],
   "source": [
    "# function that transformos a list of dictionaries into a dataframe:\n",
    "\n",
    "def dict_to_df(dict_list):\n",
    "    df = pd.DataFrame.from_dict(dict_list)\n",
    "    return df\n",
    "\n",
    "BabyProducts_Df = dict_to_df(sampled_list)\n",
    "BabyProducts_Df.head()"
   ]
  },
  {
   "cell_type": "code",
   "execution_count": 11,
   "metadata": {},
   "outputs": [
    {
     "name": "stderr",
     "output_type": "stream",
     "text": [
      "[nltk_data] Downloading package stopwords to\n",
      "[nltk_data]     C:\\Users\\gutog\\AppData\\Roaming\\nltk_data...\n",
      "[nltk_data]   Package stopwords is already up-to-date!\n"
     ]
    }
   ],
   "source": [
    "# uma funcao basica de limpeza\n",
    "\n",
    "nltk.download('stopwords')\n",
    "from nltk.corpus import stopwords\n",
    "stop_words = stopwords.words('english')\n",
    "\n",
    "special_chars = \"¨'!#$%&()*+,-./:;<=>?@[\\]^_`{|}~\"\n",
    "def preprocess(x):\n",
    "    new_x = x\n",
    "    # new_x = x.replace('\"',' ')\n",
    "    new_x = new_x.replace('\\n',' ')\n",
    "    new_x = new_x.replace('\\t',' ')\n",
    "    new_x = new_x.replace('\\r',' ')\n",
    "    # new_x = ' '.join([word for word in nltk.word_tokenize(new_x.lower(), language='portuguese') if word not in stop_words]) #removendo stop words\n",
    "    # new_x = re.sub(r'[^\\w\\s]', ' ', new_x) #removendo pontuação do texto\n",
    "    new_x = re.sub(\"http\\S+\", ' ',new_x) # remove links\n",
    "    new_x = re.sub(\"@\\w+\", ' ',new_x) # remove contas com @\n",
    "    # new_x = re.sub('#\\S+', ' ',new_x) # hashtags\n",
    "    # new_x = re.sub('[0-9]+', ' ',new_x) # remove numeros e palavras com numeros\n",
    "    for c in special_chars:\n",
    "        new_x = new_x.replace(c,' ') # caracteres especiais\n",
    "    new_x = re.sub(\"\\s+\", ' ',new_x) # espaços\n",
    "    new_x = new_x.strip()\n",
    "    return new_x.lower()"
   ]
  },
  {
   "cell_type": "code",
   "execution_count": 12,
   "metadata": {},
   "outputs": [
    {
     "data": {
      "text/html": [
       "<div>\n",
       "<style scoped>\n",
       "    .dataframe tbody tr th:only-of-type {\n",
       "        vertical-align: middle;\n",
       "    }\n",
       "\n",
       "    .dataframe tbody tr th {\n",
       "        vertical-align: top;\n",
       "    }\n",
       "\n",
       "    .dataframe thead th {\n",
       "        text-align: right;\n",
       "    }\n",
       "</style>\n",
       "<table border=\"1\" class=\"dataframe\">\n",
       "  <thead>\n",
       "    <tr style=\"text-align: right;\">\n",
       "      <th></th>\n",
       "      <th>rating</th>\n",
       "      <th>title</th>\n",
       "      <th>text</th>\n",
       "      <th>images</th>\n",
       "      <th>asin</th>\n",
       "      <th>parent_asin</th>\n",
       "      <th>user_id</th>\n",
       "      <th>timestamp</th>\n",
       "      <th>helpful_vote</th>\n",
       "      <th>verified_purchase</th>\n",
       "    </tr>\n",
       "  </thead>\n",
       "  <tbody>\n",
       "    <tr>\n",
       "      <th>0</th>\n",
       "      <td>5.0</td>\n",
       "      <td>Best bib ever!</td>\n",
       "      <td>adorable prints super soft love this product</td>\n",
       "      <td>[]</td>\n",
       "      <td>B010J7ZW88</td>\n",
       "      <td>B08716GMGC</td>\n",
       "      <td>AG57HDMDVZRDLTBZ54CKNJBDIKIA</td>\n",
       "      <td>1469103586000</td>\n",
       "      <td>0</td>\n",
       "      <td>True</td>\n",
       "    </tr>\n",
       "    <tr>\n",
       "      <th>1</th>\n",
       "      <td>5.0</td>\n",
       "      <td>Great for Newborns</td>\n",
       "      <td>i always get these for new moms i used them wi...</td>\n",
       "      <td>[]</td>\n",
       "      <td>B0016A7QYQ</td>\n",
       "      <td>B0016A7QYQ</td>\n",
       "      <td>AH3U6H45GQCBVMX53UZFL2BL67IA</td>\n",
       "      <td>1391616143000</td>\n",
       "      <td>0</td>\n",
       "      <td>True</td>\n",
       "    </tr>\n",
       "    <tr>\n",
       "      <th>2</th>\n",
       "      <td>3.0</td>\n",
       "      <td>Adorable but has an odor</td>\n",
       "      <td>the item was adorable my only complaint is tha...</td>\n",
       "      <td>[]</td>\n",
       "      <td>B01N1QJ5R7</td>\n",
       "      <td>B01N1QJ5R7</td>\n",
       "      <td>AHHGWDRA6IDKLX2N4RFFIPITUOWA</td>\n",
       "      <td>1628616097351</td>\n",
       "      <td>0</td>\n",
       "      <td>True</td>\n",
       "    </tr>\n",
       "    <tr>\n",
       "      <th>3</th>\n",
       "      <td>5.0</td>\n",
       "      <td>Great for 2 in the backseat of most cars though</td>\n",
       "      <td>my tall 6 7 and 9 year olds use these as a spa...</td>\n",
       "      <td>[{'small_image_url': 'https://images-na.ssl-im...</td>\n",
       "      <td>B00ISS2S88</td>\n",
       "      <td>B00ISS2S88</td>\n",
       "      <td>AE7JOVNS4C7U322U2UIIZLDBKBOA</td>\n",
       "      <td>1437159678000</td>\n",
       "      <td>11</td>\n",
       "      <td>True</td>\n",
       "    </tr>\n",
       "    <tr>\n",
       "      <th>4</th>\n",
       "      <td>4.0</td>\n",
       "      <td>GREAT for price!</td>\n",
       "      <td>i loved it when my daughter was a bitty thing ...</td>\n",
       "      <td>[]</td>\n",
       "      <td>B0002XO5LK</td>\n",
       "      <td>B0002XO5LK</td>\n",
       "      <td>AFEGCFQJZUDKKHSVNC5RT3PUPXKA</td>\n",
       "      <td>1140796432000</td>\n",
       "      <td>4</td>\n",
       "      <td>False</td>\n",
       "    </tr>\n",
       "  </tbody>\n",
       "</table>\n",
       "</div>"
      ],
      "text/plain": [
       "   rating                                            title  \\\n",
       "0     5.0                                   Best bib ever!   \n",
       "1     5.0                               Great for Newborns   \n",
       "2     3.0                         Adorable but has an odor   \n",
       "3     5.0  Great for 2 in the backseat of most cars though   \n",
       "4     4.0                                 GREAT for price!   \n",
       "\n",
       "                                                text  \\\n",
       "0       adorable prints super soft love this product   \n",
       "1  i always get these for new moms i used them wi...   \n",
       "2  the item was adorable my only complaint is tha...   \n",
       "3  my tall 6 7 and 9 year olds use these as a spa...   \n",
       "4  i loved it when my daughter was a bitty thing ...   \n",
       "\n",
       "                                              images        asin parent_asin  \\\n",
       "0                                                 []  B010J7ZW88  B08716GMGC   \n",
       "1                                                 []  B0016A7QYQ  B0016A7QYQ   \n",
       "2                                                 []  B01N1QJ5R7  B01N1QJ5R7   \n",
       "3  [{'small_image_url': 'https://images-na.ssl-im...  B00ISS2S88  B00ISS2S88   \n",
       "4                                                 []  B0002XO5LK  B0002XO5LK   \n",
       "\n",
       "                        user_id      timestamp  helpful_vote  \\\n",
       "0  AG57HDMDVZRDLTBZ54CKNJBDIKIA  1469103586000             0   \n",
       "1  AH3U6H45GQCBVMX53UZFL2BL67IA  1391616143000             0   \n",
       "2  AHHGWDRA6IDKLX2N4RFFIPITUOWA  1628616097351             0   \n",
       "3  AE7JOVNS4C7U322U2UIIZLDBKBOA  1437159678000            11   \n",
       "4  AFEGCFQJZUDKKHSVNC5RT3PUPXKA  1140796432000             4   \n",
       "\n",
       "   verified_purchase  \n",
       "0               True  \n",
       "1               True  \n",
       "2               True  \n",
       "3               True  \n",
       "4              False  "
      ]
     },
     "execution_count": 12,
     "metadata": {},
     "output_type": "execute_result"
    }
   ],
   "source": [
    "#pre process the text:\n",
    "\n",
    "# BabyProducts_Df['text'] = BabyProducts_Df['text'].apply(lambda x: preprocess(x))\n",
    "BabyProducts_Df['text'] = BabyProducts_Df['text'].apply(preprocess)\n",
    "\n",
    "BabyProducts_Df.head()"
   ]
  },
  {
   "cell_type": "markdown",
   "metadata": {},
   "source": [
    "### Aplicando BERTopic:"
   ]
  },
  {
   "cell_type": "code",
   "execution_count": 13,
   "metadata": {},
   "outputs": [
    {
     "name": "stdout",
     "output_type": "stream",
     "text": [
      "CPU times: total: 0 ns\n",
      "Wall time: 0 ns\n"
     ]
    },
    {
     "data": {
      "application/vnd.jupyter.widget-view+json": {
       "model_id": "e5cf69643c93482d81feae16977ca12c",
       "version_major": 2,
       "version_minor": 0
      },
      "text/plain": [
       "Batches:   0%|          | 0/157 [00:00<?, ?it/s]"
      ]
     },
     "metadata": {},
     "output_type": "display_data"
    }
   ],
   "source": [
    "# embeddings and docs format\n",
    "%time # this is for local VS Code jupyter notebook\n",
    "\n",
    "docs = list(BabyProducts_Df['text'])\n",
    "sentence_model = SentenceTransformer(\"all-MiniLM-L6-v2\")\n",
    "# sentence_model = SentenceTransformer(\"all-mpnet-base-v2\", device=\"cuda\")\n",
    "embeddings = sentence_model.encode(docs, show_progress_bar=True)\n",
    "topic_model = BERTopic(embedding_model=sentence_model)"
   ]
  },
  {
   "cell_type": "code",
   "execution_count": 14,
   "metadata": {},
   "outputs": [
    {
     "name": "stdout",
     "output_type": "stream",
     "text": [
      "CPU times: total: 0 ns\n",
      "Wall time: 0 ns\n"
     ]
    }
   ],
   "source": [
    "%time\n",
    "topics, probs = topic_model.fit_transform(docs, embeddings=embeddings)"
   ]
  },
  {
   "cell_type": "code",
   "execution_count": 15,
   "metadata": {},
   "outputs": [
    {
     "name": "stdout",
     "output_type": "stream",
     "text": [
      "quantidade de tópicos:  94\n"
     ]
    },
    {
     "data": {
      "text/html": [
       "<div>\n",
       "<style scoped>\n",
       "    .dataframe tbody tr th:only-of-type {\n",
       "        vertical-align: middle;\n",
       "    }\n",
       "\n",
       "    .dataframe tbody tr th {\n",
       "        vertical-align: top;\n",
       "    }\n",
       "\n",
       "    .dataframe thead th {\n",
       "        text-align: right;\n",
       "    }\n",
       "</style>\n",
       "<table border=\"1\" class=\"dataframe\">\n",
       "  <thead>\n",
       "    <tr style=\"text-align: right;\">\n",
       "      <th></th>\n",
       "      <th>Topic</th>\n",
       "      <th>Count</th>\n",
       "      <th>Name</th>\n",
       "      <th>Representation</th>\n",
       "      <th>Representative_Docs</th>\n",
       "    </tr>\n",
       "  </thead>\n",
       "  <tbody>\n",
       "    <tr>\n",
       "      <th>0</th>\n",
       "      <td>-1</td>\n",
       "      <td>1218</td>\n",
       "      <td>-1_it_and_the_for</td>\n",
       "      <td>[it, and, the, for, to, this, my, is, with, baby]</td>\n",
       "      <td>[love this cover i was skeptical at first wond...</td>\n",
       "    </tr>\n",
       "    <tr>\n",
       "      <th>1</th>\n",
       "      <td>0</td>\n",
       "      <td>160</td>\n",
       "      <td>0_diapers_diaper_these_they</td>\n",
       "      <td>[diapers, diaper, these, they, pampers, are, h...</td>\n",
       "      <td>[i ve used these diapers from 0 to 2 with my f...</td>\n",
       "    </tr>\n",
       "    <tr>\n",
       "      <th>2</th>\n",
       "      <td>1</td>\n",
       "      <td>148</td>\n",
       "      <td>1_cup_cups_straw_sippy</td>\n",
       "      <td>[cup, cups, straw, sippy, drink, leak, these, ...</td>\n",
       "      <td>[we have 6 cups 2 for each of our three little...</td>\n",
       "    </tr>\n",
       "    <tr>\n",
       "      <th>3</th>\n",
       "      <td>2</td>\n",
       "      <td>142</td>\n",
       "      <td>2_rash_skin_soap_smell</td>\n",
       "      <td>[rash, skin, soap, smell, smells, diaper, loti...</td>\n",
       "      <td>[have bought and used this exact brand from wa...</td>\n",
       "    </tr>\n",
       "    <tr>\n",
       "      <th>4</th>\n",
       "      <td>3</td>\n",
       "      <td>135</td>\n",
       "      <td>3_seat_car_seats_the</td>\n",
       "      <td>[seat, car, seats, the, straps, in, is, instal...</td>\n",
       "      <td>[our lo s infant seat with the handle bar down...</td>\n",
       "    </tr>\n",
       "    <tr>\n",
       "      <th>5</th>\n",
       "      <td>4</td>\n",
       "      <td>126</td>\n",
       "      <td>4_gate_gates_open_latch</td>\n",
       "      <td>[gate, gates, open, latch, the, close, door, t...</td>\n",
       "      <td>[bought the gate for the top of the stairs con...</td>\n",
       "    </tr>\n",
       "    <tr>\n",
       "      <th>6</th>\n",
       "      <td>5</td>\n",
       "      <td>119</td>\n",
       "      <td>5_basket_storage_toys_baskets</td>\n",
       "      <td>[basket, storage, toys, baskets, stuffed, hold...</td>\n",
       "      <td>[excellent storage basket material is durable ...</td>\n",
       "    </tr>\n",
       "    <tr>\n",
       "      <th>7</th>\n",
       "      <td>6</td>\n",
       "      <td>95</td>\n",
       "      <td>6_wall_stick_off_outlet</td>\n",
       "      <td>[wall, stick, off, outlet, decals, them, decal...</td>\n",
       "      <td>[we actually really liked them on the wall of ...</td>\n",
       "    </tr>\n",
       "    <tr>\n",
       "      <th>8</th>\n",
       "      <td>7</td>\n",
       "      <td>94</td>\n",
       "      <td>7_monitor_camera_br_the</td>\n",
       "      <td>[monitor, camera, br, the, video, room, we, ni...</td>\n",
       "      <td>[this baby monitor is a great purchase i initi...</td>\n",
       "    </tr>\n",
       "    <tr>\n",
       "      <th>9</th>\n",
       "      <td>8</td>\n",
       "      <td>85</td>\n",
       "      <td>8_soft_wash_thin_they</td>\n",
       "      <td>[soft, wash, thin, they, these, softness, them...</td>\n",
       "      <td>[they are soft and a great size, they are soft...</td>\n",
       "    </tr>\n",
       "    <tr>\n",
       "      <th>10</th>\n",
       "      <td>9</td>\n",
       "      <td>85</td>\n",
       "      <td>9_them_these_cute_headbands</td>\n",
       "      <td>[them, these, cute, headbands, they, are, she,...</td>\n",
       "      <td>[these are super cute and easy to use we love ...</td>\n",
       "    </tr>\n",
       "    <tr>\n",
       "      <th>11</th>\n",
       "      <td>10</td>\n",
       "      <td>80</td>\n",
       "      <td>10_stroller_br_strollers_the</td>\n",
       "      <td>[stroller, br, strollers, the, is, and, it, th...</td>\n",
       "      <td>[as a 5 2 34 petite woman who weighs less than...</td>\n",
       "    </tr>\n",
       "    <tr>\n",
       "      <th>12</th>\n",
       "      <td>11</td>\n",
       "      <td>78</td>\n",
       "      <td>11_chair_tray_high_table</td>\n",
       "      <td>[chair, tray, high, table, clean, the, br, to,...</td>\n",
       "      <td>[we love this chair simple beautiful design fi...</td>\n",
       "    </tr>\n",
       "    <tr>\n",
       "      <th>13</th>\n",
       "      <td>12</td>\n",
       "      <td>75</td>\n",
       "      <td>12_potty_toilet_training_seat</td>\n",
       "      <td>[potty, toilet, training, seat, stool, he, our...</td>\n",
       "      <td>[this potty seat has been a potty training gam...</td>\n",
       "    </tr>\n",
       "    <tr>\n",
       "      <th>14</th>\n",
       "      <td>13</td>\n",
       "      <td>72</td>\n",
       "      <td>13_crib_bed_mattress_rail</td>\n",
       "      <td>[crib, bed, mattress, rail, toddler, frame, it...</td>\n",
       "      <td>[if you’re buying this crib because you want t...</td>\n",
       "    </tr>\n",
       "  </tbody>\n",
       "</table>\n",
       "</div>"
      ],
      "text/plain": [
       "    Topic  Count                           Name  \\\n",
       "0      -1   1218              -1_it_and_the_for   \n",
       "1       0    160    0_diapers_diaper_these_they   \n",
       "2       1    148         1_cup_cups_straw_sippy   \n",
       "3       2    142         2_rash_skin_soap_smell   \n",
       "4       3    135           3_seat_car_seats_the   \n",
       "5       4    126        4_gate_gates_open_latch   \n",
       "6       5    119  5_basket_storage_toys_baskets   \n",
       "7       6     95        6_wall_stick_off_outlet   \n",
       "8       7     94        7_monitor_camera_br_the   \n",
       "9       8     85          8_soft_wash_thin_they   \n",
       "10      9     85    9_them_these_cute_headbands   \n",
       "11     10     80   10_stroller_br_strollers_the   \n",
       "12     11     78       11_chair_tray_high_table   \n",
       "13     12     75  12_potty_toilet_training_seat   \n",
       "14     13     72      13_crib_bed_mattress_rail   \n",
       "\n",
       "                                       Representation  \\\n",
       "0   [it, and, the, for, to, this, my, is, with, baby]   \n",
       "1   [diapers, diaper, these, they, pampers, are, h...   \n",
       "2   [cup, cups, straw, sippy, drink, leak, these, ...   \n",
       "3   [rash, skin, soap, smell, smells, diaper, loti...   \n",
       "4   [seat, car, seats, the, straps, in, is, instal...   \n",
       "5   [gate, gates, open, latch, the, close, door, t...   \n",
       "6   [basket, storage, toys, baskets, stuffed, hold...   \n",
       "7   [wall, stick, off, outlet, decals, them, decal...   \n",
       "8   [monitor, camera, br, the, video, room, we, ni...   \n",
       "9   [soft, wash, thin, they, these, softness, them...   \n",
       "10  [them, these, cute, headbands, they, are, she,...   \n",
       "11  [stroller, br, strollers, the, is, and, it, th...   \n",
       "12  [chair, tray, high, table, clean, the, br, to,...   \n",
       "13  [potty, toilet, training, seat, stool, he, our...   \n",
       "14  [crib, bed, mattress, rail, toddler, frame, it...   \n",
       "\n",
       "                                  Representative_Docs  \n",
       "0   [love this cover i was skeptical at first wond...  \n",
       "1   [i ve used these diapers from 0 to 2 with my f...  \n",
       "2   [we have 6 cups 2 for each of our three little...  \n",
       "3   [have bought and used this exact brand from wa...  \n",
       "4   [our lo s infant seat with the handle bar down...  \n",
       "5   [bought the gate for the top of the stairs con...  \n",
       "6   [excellent storage basket material is durable ...  \n",
       "7   [we actually really liked them on the wall of ...  \n",
       "8   [this baby monitor is a great purchase i initi...  \n",
       "9   [they are soft and a great size, they are soft...  \n",
       "10  [these are super cute and easy to use we love ...  \n",
       "11  [as a 5 2 34 petite woman who weighs less than...  \n",
       "12  [we love this chair simple beautiful design fi...  \n",
       "13  [this potty seat has been a potty training gam...  \n",
       "14  [if you’re buying this crib because you want t...  "
      ]
     },
     "execution_count": 15,
     "metadata": {},
     "output_type": "execute_result"
    }
   ],
   "source": [
    "print('quantidade de tópicos: ', len(set(topics)))\n",
    "resultados = topic_model.get_topic_info()\n",
    "resultados.head(15)"
   ]
  },
  {
   "cell_type": "code",
   "execution_count": 16,
   "metadata": {},
   "outputs": [
    {
     "data": {
      "application/vnd.plotly.v1+json": {
       "config": {
        "plotlyServerURL": "https://plot.ly"
       },
       "data": [
        {
         "marker": {
          "color": "#D55E00"
         },
         "orientation": "h",
         "type": "bar",
         "x": [
          0.010958852677589736,
          0.011324992741741187,
          0.012758079935015453,
          0.014738623362184646,
          0.015209907860381552,
          0.015939374987363267,
          0.023979831790389643,
          0.047000310221027936
         ],
         "xaxis": "x",
         "y": [
          "brand  ",
          "have  ",
          "are  ",
          "pampers  ",
          "they  ",
          "these  ",
          "diaper  ",
          "diapers  "
         ],
         "yaxis": "y"
        },
        {
         "marker": {
          "color": "#0072B2"
         },
         "orientation": "h",
         "type": "bar",
         "x": [
          0.01229917080279685,
          0.013153045525562382,
          0.016644155463725538,
          0.01696160998244191,
          0.0241591985590167,
          0.025604678972493154,
          0.03921607496359692,
          0.04426946428871925
         ],
         "xaxis": "x2",
         "y": [
          "spout  ",
          "these  ",
          "leak  ",
          "drink  ",
          "sippy  ",
          "straw  ",
          "cups  ",
          "cup  "
         ],
         "yaxis": "y2"
        },
        {
         "marker": {
          "color": "#CC79A7"
         },
         "orientation": "h",
         "type": "bar",
         "x": [
          0.012961389942560466,
          0.014648718408412932,
          0.01564179419211539,
          0.015979164299243932,
          0.016725107423349313,
          0.017150240837774108,
          0.02780267261193301,
          0.028181199337802314
         ],
         "xaxis": "x3",
         "y": [
          "sensitive  ",
          "lotion  ",
          "diaper  ",
          "smells  ",
          "smell  ",
          "soap  ",
          "skin  ",
          "rash  "
         ],
         "yaxis": "y3"
        },
        {
         "marker": {
          "color": "#E69F00"
         },
         "orientation": "h",
         "type": "bar",
         "x": [
          0.009699331227726014,
          0.009836787392372108,
          0.00992228042094561,
          0.010057527759170364,
          0.010500281581758432,
          0.02007143885166726,
          0.037154821083352024,
          0.047380790674726295
         ],
         "xaxis": "x4",
         "y": [
          "install  ",
          "is  ",
          "in  ",
          "straps  ",
          "the  ",
          "seats  ",
          "car  ",
          "seat  "
         ],
         "yaxis": "y4"
        },
        {
         "marker": {
          "color": "#56B4E9"
         },
         "orientation": "h",
         "type": "bar",
         "x": [
          0.011562029002236492,
          0.01172359584133674,
          0.011760846834624106,
          0.012160376413349355,
          0.012442842534747475,
          0.014450626442183432,
          0.01630817081689938,
          0.0649819412897919
         ],
         "xaxis": "x5",
         "y": [
          "to  ",
          "door  ",
          "close  ",
          "the  ",
          "latch  ",
          "open  ",
          "gates  ",
          "gate  "
         ],
         "yaxis": "y5"
        },
        {
         "marker": {
          "color": "#009E73"
         },
         "orientation": "h",
         "type": "bar",
         "x": [
          0.012635719713701995,
          0.013186537514457884,
          0.013851516391458948,
          0.015598756152171862,
          0.016050832331926487,
          0.017796719838064082,
          0.01997459383736076,
          0.033461739952522274
         ],
         "xaxis": "x6",
         "y": [
          "space  ",
          "sturdy  ",
          "holds  ",
          "stuffed  ",
          "baskets  ",
          "toys  ",
          "storage  ",
          "basket  "
         ],
         "yaxis": "y6"
        },
        {
         "marker": {
          "color": "#F0E442"
         },
         "orientation": "h",
         "type": "bar",
         "x": [
          0.012763076425868209,
          0.01306183950424222,
          0.015506170760091961,
          0.01600778642925592,
          0.01962585124299004,
          0.020538574470865895,
          0.02063147640823875,
          0.033417143267037465
         ],
         "xaxis": "x7",
         "y": [
          "adhesive  ",
          "decal  ",
          "them  ",
          "decals  ",
          "outlet  ",
          "off  ",
          "stick  ",
          "wall  "
         ],
         "yaxis": "y7"
        },
        {
         "marker": {
          "color": "#D55E00"
         },
         "orientation": "h",
         "type": "bar",
         "x": [
          0.01078623558053169,
          0.011048729999676802,
          0.011262227613793956,
          0.011595086586985047,
          0.011932578728471185,
          0.014661512100665774,
          0.031924256734078726,
          0.03982378670247932
         ],
         "xaxis": "x8",
         "y": [
          "night  ",
          "we  ",
          "room  ",
          "video  ",
          "the  ",
          "br  ",
          "camera  ",
          "monitor  "
         ],
         "yaxis": "y8"
        },
        {
         "marker": {
          "color": "#0072B2"
         },
         "orientation": "h",
         "type": "bar",
         "x": [
          0.017974344845152646,
          0.018020049149015605,
          0.018405964151906453,
          0.019650103229709028,
          0.023100952196649586,
          0.024261585358243614,
          0.027422826485341386,
          0.07926419198317944
         ],
         "xaxis": "x9",
         "y": [
          "after  ",
          "them  ",
          "softness  ",
          "these  ",
          "they  ",
          "thin  ",
          "wash  ",
          "soft  "
         ],
         "yaxis": "y9"
        },
        {
         "marker": {
          "color": "#CC79A7"
         },
         "orientation": "h",
         "type": "bar",
         "x": [
          0.015914778660471647,
          0.017292206547857437,
          0.01959086569368757,
          0.021780827284749615,
          0.02311467716062346,
          0.02547694860091042,
          0.027944204532948574,
          0.029957723970047617
         ],
         "xaxis": "x10",
         "y": [
          "daughter  ",
          "she  ",
          "are  ",
          "they  ",
          "headbands  ",
          "cute  ",
          "these  ",
          "them  "
         ],
         "yaxis": "y10"
        }
       ],
       "layout": {
        "annotations": [
         {
          "font": {
           "size": 16
          },
          "showarrow": false,
          "text": "Topic 0",
          "x": 0.0875,
          "xanchor": "center",
          "xref": "paper",
          "y": 1,
          "yanchor": "bottom",
          "yref": "paper"
         },
         {
          "font": {
           "size": 16
          },
          "showarrow": false,
          "text": "Topic 1",
          "x": 0.36250000000000004,
          "xanchor": "center",
          "xref": "paper",
          "y": 1,
          "yanchor": "bottom",
          "yref": "paper"
         },
         {
          "font": {
           "size": 16
          },
          "showarrow": false,
          "text": "Topic 2",
          "x": 0.6375000000000001,
          "xanchor": "center",
          "xref": "paper",
          "y": 1,
          "yanchor": "bottom",
          "yref": "paper"
         },
         {
          "font": {
           "size": 16
          },
          "showarrow": false,
          "text": "Topic 3",
          "x": 0.9125,
          "xanchor": "center",
          "xref": "paper",
          "y": 1,
          "yanchor": "bottom",
          "yref": "paper"
         },
         {
          "font": {
           "size": 16
          },
          "showarrow": false,
          "text": "Topic 4",
          "x": 0.0875,
          "xanchor": "center",
          "xref": "paper",
          "y": 0.6222222222222222,
          "yanchor": "bottom",
          "yref": "paper"
         },
         {
          "font": {
           "size": 16
          },
          "showarrow": false,
          "text": "Topic 5",
          "x": 0.36250000000000004,
          "xanchor": "center",
          "xref": "paper",
          "y": 0.6222222222222222,
          "yanchor": "bottom",
          "yref": "paper"
         },
         {
          "font": {
           "size": 16
          },
          "showarrow": false,
          "text": "Topic 6",
          "x": 0.6375000000000001,
          "xanchor": "center",
          "xref": "paper",
          "y": 0.6222222222222222,
          "yanchor": "bottom",
          "yref": "paper"
         },
         {
          "font": {
           "size": 16
          },
          "showarrow": false,
          "text": "Topic 7",
          "x": 0.9125,
          "xanchor": "center",
          "xref": "paper",
          "y": 0.6222222222222222,
          "yanchor": "bottom",
          "yref": "paper"
         },
         {
          "font": {
           "size": 16
          },
          "showarrow": false,
          "text": "Topic 8",
          "x": 0.0875,
          "xanchor": "center",
          "xref": "paper",
          "y": 0.24444444444444446,
          "yanchor": "bottom",
          "yref": "paper"
         },
         {
          "font": {
           "size": 16
          },
          "showarrow": false,
          "text": "Topic 9",
          "x": 0.36250000000000004,
          "xanchor": "center",
          "xref": "paper",
          "y": 0.24444444444444446,
          "yanchor": "bottom",
          "yref": "paper"
         }
        ],
        "height": 750,
        "hoverlabel": {
         "bgcolor": "white",
         "font": {
          "family": "Rockwell",
          "size": 16
         }
        },
        "showlegend": false,
        "template": {
         "data": {
          "bar": [
           {
            "error_x": {
             "color": "#2a3f5f"
            },
            "error_y": {
             "color": "#2a3f5f"
            },
            "marker": {
             "line": {
              "color": "white",
              "width": 0.5
             },
             "pattern": {
              "fillmode": "overlay",
              "size": 10,
              "solidity": 0.2
             }
            },
            "type": "bar"
           }
          ],
          "barpolar": [
           {
            "marker": {
             "line": {
              "color": "white",
              "width": 0.5
             },
             "pattern": {
              "fillmode": "overlay",
              "size": 10,
              "solidity": 0.2
             }
            },
            "type": "barpolar"
           }
          ],
          "carpet": [
           {
            "aaxis": {
             "endlinecolor": "#2a3f5f",
             "gridcolor": "#C8D4E3",
             "linecolor": "#C8D4E3",
             "minorgridcolor": "#C8D4E3",
             "startlinecolor": "#2a3f5f"
            },
            "baxis": {
             "endlinecolor": "#2a3f5f",
             "gridcolor": "#C8D4E3",
             "linecolor": "#C8D4E3",
             "minorgridcolor": "#C8D4E3",
             "startlinecolor": "#2a3f5f"
            },
            "type": "carpet"
           }
          ],
          "choropleth": [
           {
            "colorbar": {
             "outlinewidth": 0,
             "ticks": ""
            },
            "type": "choropleth"
           }
          ],
          "contour": [
           {
            "colorbar": {
             "outlinewidth": 0,
             "ticks": ""
            },
            "colorscale": [
             [
              0,
              "#0d0887"
             ],
             [
              0.1111111111111111,
              "#46039f"
             ],
             [
              0.2222222222222222,
              "#7201a8"
             ],
             [
              0.3333333333333333,
              "#9c179e"
             ],
             [
              0.4444444444444444,
              "#bd3786"
             ],
             [
              0.5555555555555556,
              "#d8576b"
             ],
             [
              0.6666666666666666,
              "#ed7953"
             ],
             [
              0.7777777777777778,
              "#fb9f3a"
             ],
             [
              0.8888888888888888,
              "#fdca26"
             ],
             [
              1,
              "#f0f921"
             ]
            ],
            "type": "contour"
           }
          ],
          "contourcarpet": [
           {
            "colorbar": {
             "outlinewidth": 0,
             "ticks": ""
            },
            "type": "contourcarpet"
           }
          ],
          "heatmap": [
           {
            "colorbar": {
             "outlinewidth": 0,
             "ticks": ""
            },
            "colorscale": [
             [
              0,
              "#0d0887"
             ],
             [
              0.1111111111111111,
              "#46039f"
             ],
             [
              0.2222222222222222,
              "#7201a8"
             ],
             [
              0.3333333333333333,
              "#9c179e"
             ],
             [
              0.4444444444444444,
              "#bd3786"
             ],
             [
              0.5555555555555556,
              "#d8576b"
             ],
             [
              0.6666666666666666,
              "#ed7953"
             ],
             [
              0.7777777777777778,
              "#fb9f3a"
             ],
             [
              0.8888888888888888,
              "#fdca26"
             ],
             [
              1,
              "#f0f921"
             ]
            ],
            "type": "heatmap"
           }
          ],
          "heatmapgl": [
           {
            "colorbar": {
             "outlinewidth": 0,
             "ticks": ""
            },
            "colorscale": [
             [
              0,
              "#0d0887"
             ],
             [
              0.1111111111111111,
              "#46039f"
             ],
             [
              0.2222222222222222,
              "#7201a8"
             ],
             [
              0.3333333333333333,
              "#9c179e"
             ],
             [
              0.4444444444444444,
              "#bd3786"
             ],
             [
              0.5555555555555556,
              "#d8576b"
             ],
             [
              0.6666666666666666,
              "#ed7953"
             ],
             [
              0.7777777777777778,
              "#fb9f3a"
             ],
             [
              0.8888888888888888,
              "#fdca26"
             ],
             [
              1,
              "#f0f921"
             ]
            ],
            "type": "heatmapgl"
           }
          ],
          "histogram": [
           {
            "marker": {
             "pattern": {
              "fillmode": "overlay",
              "size": 10,
              "solidity": 0.2
             }
            },
            "type": "histogram"
           }
          ],
          "histogram2d": [
           {
            "colorbar": {
             "outlinewidth": 0,
             "ticks": ""
            },
            "colorscale": [
             [
              0,
              "#0d0887"
             ],
             [
              0.1111111111111111,
              "#46039f"
             ],
             [
              0.2222222222222222,
              "#7201a8"
             ],
             [
              0.3333333333333333,
              "#9c179e"
             ],
             [
              0.4444444444444444,
              "#bd3786"
             ],
             [
              0.5555555555555556,
              "#d8576b"
             ],
             [
              0.6666666666666666,
              "#ed7953"
             ],
             [
              0.7777777777777778,
              "#fb9f3a"
             ],
             [
              0.8888888888888888,
              "#fdca26"
             ],
             [
              1,
              "#f0f921"
             ]
            ],
            "type": "histogram2d"
           }
          ],
          "histogram2dcontour": [
           {
            "colorbar": {
             "outlinewidth": 0,
             "ticks": ""
            },
            "colorscale": [
             [
              0,
              "#0d0887"
             ],
             [
              0.1111111111111111,
              "#46039f"
             ],
             [
              0.2222222222222222,
              "#7201a8"
             ],
             [
              0.3333333333333333,
              "#9c179e"
             ],
             [
              0.4444444444444444,
              "#bd3786"
             ],
             [
              0.5555555555555556,
              "#d8576b"
             ],
             [
              0.6666666666666666,
              "#ed7953"
             ],
             [
              0.7777777777777778,
              "#fb9f3a"
             ],
             [
              0.8888888888888888,
              "#fdca26"
             ],
             [
              1,
              "#f0f921"
             ]
            ],
            "type": "histogram2dcontour"
           }
          ],
          "mesh3d": [
           {
            "colorbar": {
             "outlinewidth": 0,
             "ticks": ""
            },
            "type": "mesh3d"
           }
          ],
          "parcoords": [
           {
            "line": {
             "colorbar": {
              "outlinewidth": 0,
              "ticks": ""
             }
            },
            "type": "parcoords"
           }
          ],
          "pie": [
           {
            "automargin": true,
            "type": "pie"
           }
          ],
          "scatter": [
           {
            "fillpattern": {
             "fillmode": "overlay",
             "size": 10,
             "solidity": 0.2
            },
            "type": "scatter"
           }
          ],
          "scatter3d": [
           {
            "line": {
             "colorbar": {
              "outlinewidth": 0,
              "ticks": ""
             }
            },
            "marker": {
             "colorbar": {
              "outlinewidth": 0,
              "ticks": ""
             }
            },
            "type": "scatter3d"
           }
          ],
          "scattercarpet": [
           {
            "marker": {
             "colorbar": {
              "outlinewidth": 0,
              "ticks": ""
             }
            },
            "type": "scattercarpet"
           }
          ],
          "scattergeo": [
           {
            "marker": {
             "colorbar": {
              "outlinewidth": 0,
              "ticks": ""
             }
            },
            "type": "scattergeo"
           }
          ],
          "scattergl": [
           {
            "marker": {
             "colorbar": {
              "outlinewidth": 0,
              "ticks": ""
             }
            },
            "type": "scattergl"
           }
          ],
          "scattermapbox": [
           {
            "marker": {
             "colorbar": {
              "outlinewidth": 0,
              "ticks": ""
             }
            },
            "type": "scattermapbox"
           }
          ],
          "scatterpolar": [
           {
            "marker": {
             "colorbar": {
              "outlinewidth": 0,
              "ticks": ""
             }
            },
            "type": "scatterpolar"
           }
          ],
          "scatterpolargl": [
           {
            "marker": {
             "colorbar": {
              "outlinewidth": 0,
              "ticks": ""
             }
            },
            "type": "scatterpolargl"
           }
          ],
          "scatterternary": [
           {
            "marker": {
             "colorbar": {
              "outlinewidth": 0,
              "ticks": ""
             }
            },
            "type": "scatterternary"
           }
          ],
          "surface": [
           {
            "colorbar": {
             "outlinewidth": 0,
             "ticks": ""
            },
            "colorscale": [
             [
              0,
              "#0d0887"
             ],
             [
              0.1111111111111111,
              "#46039f"
             ],
             [
              0.2222222222222222,
              "#7201a8"
             ],
             [
              0.3333333333333333,
              "#9c179e"
             ],
             [
              0.4444444444444444,
              "#bd3786"
             ],
             [
              0.5555555555555556,
              "#d8576b"
             ],
             [
              0.6666666666666666,
              "#ed7953"
             ],
             [
              0.7777777777777778,
              "#fb9f3a"
             ],
             [
              0.8888888888888888,
              "#fdca26"
             ],
             [
              1,
              "#f0f921"
             ]
            ],
            "type": "surface"
           }
          ],
          "table": [
           {
            "cells": {
             "fill": {
              "color": "#EBF0F8"
             },
             "line": {
              "color": "white"
             }
            },
            "header": {
             "fill": {
              "color": "#C8D4E3"
             },
             "line": {
              "color": "white"
             }
            },
            "type": "table"
           }
          ]
         },
         "layout": {
          "annotationdefaults": {
           "arrowcolor": "#2a3f5f",
           "arrowhead": 0,
           "arrowwidth": 1
          },
          "autotypenumbers": "strict",
          "coloraxis": {
           "colorbar": {
            "outlinewidth": 0,
            "ticks": ""
           }
          },
          "colorscale": {
           "diverging": [
            [
             0,
             "#8e0152"
            ],
            [
             0.1,
             "#c51b7d"
            ],
            [
             0.2,
             "#de77ae"
            ],
            [
             0.3,
             "#f1b6da"
            ],
            [
             0.4,
             "#fde0ef"
            ],
            [
             0.5,
             "#f7f7f7"
            ],
            [
             0.6,
             "#e6f5d0"
            ],
            [
             0.7,
             "#b8e186"
            ],
            [
             0.8,
             "#7fbc41"
            ],
            [
             0.9,
             "#4d9221"
            ],
            [
             1,
             "#276419"
            ]
           ],
           "sequential": [
            [
             0,
             "#0d0887"
            ],
            [
             0.1111111111111111,
             "#46039f"
            ],
            [
             0.2222222222222222,
             "#7201a8"
            ],
            [
             0.3333333333333333,
             "#9c179e"
            ],
            [
             0.4444444444444444,
             "#bd3786"
            ],
            [
             0.5555555555555556,
             "#d8576b"
            ],
            [
             0.6666666666666666,
             "#ed7953"
            ],
            [
             0.7777777777777778,
             "#fb9f3a"
            ],
            [
             0.8888888888888888,
             "#fdca26"
            ],
            [
             1,
             "#f0f921"
            ]
           ],
           "sequentialminus": [
            [
             0,
             "#0d0887"
            ],
            [
             0.1111111111111111,
             "#46039f"
            ],
            [
             0.2222222222222222,
             "#7201a8"
            ],
            [
             0.3333333333333333,
             "#9c179e"
            ],
            [
             0.4444444444444444,
             "#bd3786"
            ],
            [
             0.5555555555555556,
             "#d8576b"
            ],
            [
             0.6666666666666666,
             "#ed7953"
            ],
            [
             0.7777777777777778,
             "#fb9f3a"
            ],
            [
             0.8888888888888888,
             "#fdca26"
            ],
            [
             1,
             "#f0f921"
            ]
           ]
          },
          "colorway": [
           "#636efa",
           "#EF553B",
           "#00cc96",
           "#ab63fa",
           "#FFA15A",
           "#19d3f3",
           "#FF6692",
           "#B6E880",
           "#FF97FF",
           "#FECB52"
          ],
          "font": {
           "color": "#2a3f5f"
          },
          "geo": {
           "bgcolor": "white",
           "lakecolor": "white",
           "landcolor": "white",
           "showlakes": true,
           "showland": true,
           "subunitcolor": "#C8D4E3"
          },
          "hoverlabel": {
           "align": "left"
          },
          "hovermode": "closest",
          "mapbox": {
           "style": "light"
          },
          "paper_bgcolor": "white",
          "plot_bgcolor": "white",
          "polar": {
           "angularaxis": {
            "gridcolor": "#EBF0F8",
            "linecolor": "#EBF0F8",
            "ticks": ""
           },
           "bgcolor": "white",
           "radialaxis": {
            "gridcolor": "#EBF0F8",
            "linecolor": "#EBF0F8",
            "ticks": ""
           }
          },
          "scene": {
           "xaxis": {
            "backgroundcolor": "white",
            "gridcolor": "#DFE8F3",
            "gridwidth": 2,
            "linecolor": "#EBF0F8",
            "showbackground": true,
            "ticks": "",
            "zerolinecolor": "#EBF0F8"
           },
           "yaxis": {
            "backgroundcolor": "white",
            "gridcolor": "#DFE8F3",
            "gridwidth": 2,
            "linecolor": "#EBF0F8",
            "showbackground": true,
            "ticks": "",
            "zerolinecolor": "#EBF0F8"
           },
           "zaxis": {
            "backgroundcolor": "white",
            "gridcolor": "#DFE8F3",
            "gridwidth": 2,
            "linecolor": "#EBF0F8",
            "showbackground": true,
            "ticks": "",
            "zerolinecolor": "#EBF0F8"
           }
          },
          "shapedefaults": {
           "line": {
            "color": "#2a3f5f"
           }
          },
          "ternary": {
           "aaxis": {
            "gridcolor": "#DFE8F3",
            "linecolor": "#A2B1C6",
            "ticks": ""
           },
           "baxis": {
            "gridcolor": "#DFE8F3",
            "linecolor": "#A2B1C6",
            "ticks": ""
           },
           "bgcolor": "white",
           "caxis": {
            "gridcolor": "#DFE8F3",
            "linecolor": "#A2B1C6",
            "ticks": ""
           }
          },
          "title": {
           "x": 0.05
          },
          "xaxis": {
           "automargin": true,
           "gridcolor": "#EBF0F8",
           "linecolor": "#EBF0F8",
           "ticks": "",
           "title": {
            "standoff": 15
           },
           "zerolinecolor": "#EBF0F8",
           "zerolinewidth": 2
          },
          "yaxis": {
           "automargin": true,
           "gridcolor": "#EBF0F8",
           "linecolor": "#EBF0F8",
           "ticks": "",
           "title": {
            "standoff": 15
           },
           "zerolinecolor": "#EBF0F8",
           "zerolinewidth": 2
          }
         }
        },
        "title": {
         "font": {
          "color": "Black",
          "size": 22
         },
         "text": "Topic Word Scores",
         "x": 0.5,
         "xanchor": "center",
         "yanchor": "top"
        },
        "width": 1000,
        "xaxis": {
         "anchor": "y",
         "domain": [
          0,
          0.175
         ],
         "showgrid": true
        },
        "xaxis10": {
         "anchor": "y10",
         "domain": [
          0.275,
          0.45
         ],
         "showgrid": true
        },
        "xaxis11": {
         "anchor": "y11",
         "domain": [
          0.55,
          0.7250000000000001
         ],
         "showgrid": true
        },
        "xaxis12": {
         "anchor": "y12",
         "domain": [
          0.825,
          1
         ],
         "showgrid": true
        },
        "xaxis2": {
         "anchor": "y2",
         "domain": [
          0.275,
          0.45
         ],
         "showgrid": true
        },
        "xaxis3": {
         "anchor": "y3",
         "domain": [
          0.55,
          0.7250000000000001
         ],
         "showgrid": true
        },
        "xaxis4": {
         "anchor": "y4",
         "domain": [
          0.825,
          1
         ],
         "showgrid": true
        },
        "xaxis5": {
         "anchor": "y5",
         "domain": [
          0,
          0.175
         ],
         "showgrid": true
        },
        "xaxis6": {
         "anchor": "y6",
         "domain": [
          0.275,
          0.45
         ],
         "showgrid": true
        },
        "xaxis7": {
         "anchor": "y7",
         "domain": [
          0.55,
          0.7250000000000001
         ],
         "showgrid": true
        },
        "xaxis8": {
         "anchor": "y8",
         "domain": [
          0.825,
          1
         ],
         "showgrid": true
        },
        "xaxis9": {
         "anchor": "y9",
         "domain": [
          0,
          0.175
         ],
         "showgrid": true
        },
        "yaxis": {
         "anchor": "x",
         "domain": [
          0.7555555555555555,
          1
         ],
         "showgrid": true
        },
        "yaxis10": {
         "anchor": "x10",
         "domain": [
          0,
          0.24444444444444446
         ],
         "showgrid": true
        },
        "yaxis11": {
         "anchor": "x11",
         "domain": [
          0,
          0.24444444444444446
         ],
         "showgrid": true
        },
        "yaxis12": {
         "anchor": "x12",
         "domain": [
          0,
          0.24444444444444446
         ],
         "showgrid": true
        },
        "yaxis2": {
         "anchor": "x2",
         "domain": [
          0.7555555555555555,
          1
         ],
         "showgrid": true
        },
        "yaxis3": {
         "anchor": "x3",
         "domain": [
          0.7555555555555555,
          1
         ],
         "showgrid": true
        },
        "yaxis4": {
         "anchor": "x4",
         "domain": [
          0.7555555555555555,
          1
         ],
         "showgrid": true
        },
        "yaxis5": {
         "anchor": "x5",
         "domain": [
          0.37777777777777777,
          0.6222222222222222
         ],
         "showgrid": true
        },
        "yaxis6": {
         "anchor": "x6",
         "domain": [
          0.37777777777777777,
          0.6222222222222222
         ],
         "showgrid": true
        },
        "yaxis7": {
         "anchor": "x7",
         "domain": [
          0.37777777777777777,
          0.6222222222222222
         ],
         "showgrid": true
        },
        "yaxis8": {
         "anchor": "x8",
         "domain": [
          0.37777777777777777,
          0.6222222222222222
         ],
         "showgrid": true
        },
        "yaxis9": {
         "anchor": "x9",
         "domain": [
          0,
          0.24444444444444446
         ],
         "showgrid": true
        }
       }
      }
     },
     "metadata": {},
     "output_type": "display_data"
    }
   ],
   "source": [
    "topic_model.visualize_barchart(top_n_topics=10, n_words=8)"
   ]
  },
  {
   "cell_type": "code",
   "execution_count": 18,
   "metadata": {},
   "outputs": [
    {
     "data": {
      "application/vnd.jupyter.widget-view+json": {
       "model_id": "0b23666afb594711abaa40c0f521abd1",
       "version_major": 2,
       "version_minor": 0
      },
      "text/plain": [
       "Batches:   0%|          | 0/157 [00:00<?, ?it/s]"
      ]
     },
     "metadata": {},
     "output_type": "display_data"
    },
    {
     "data": {
      "application/vnd.plotly.v1+json": {
       "config": {
        "plotlyServerURL": "https://plot.ly"
       },
       "data": [
        {
         "marker": {
          "color": "#D55E00"
         },
         "orientation": "h",
         "type": "bar",
         "x": [
          0.012553335241577045,
          0.013575112824894476,
          0.014766546312972615,
          0.018169719992183135,
          0.026367457149728952,
          0.03603316833543586,
          0.04662252937929485,
          0.04845303674412403
         ],
         "xaxis": "x",
         "y": [
          "toddler  ",
          "pack  ",
          "play  ",
          "sheet  ",
          "sheets  ",
          "bed  ",
          "mattress  ",
          "crib  "
         ],
         "yaxis": "y"
        },
        {
         "marker": {
          "color": "#0072B2"
         },
         "orientation": "h",
         "type": "bar",
         "x": [
          0.011922444200364792,
          0.012718128841450372,
          0.01351301189404102,
          0.014123523203226102,
          0.01466519239490094,
          0.017075710134293893,
          0.02338305727479334,
          0.042981201829698785
         ],
         "xaxis": "x2",
         "y": [
          "br  ",
          "pouches  ",
          "spoons  ",
          "plates  ",
          "dishwasher  ",
          "plate  ",
          "spoon  ",
          "food  "
         ],
         "yaxis": "y2"
        },
        {
         "marker": {
          "color": "#CC79A7"
         },
         "orientation": "h",
         "type": "bar",
         "x": [
          0.01345851254947042,
          0.014231292390309954,
          0.014691943802082564,
          0.014845915247954379,
          0.015029937887812338,
          0.018302261629804716,
          0.036025831000050156,
          0.06669932546517757
         ],
         "xaxis": "x3",
         "y": [
          "leaks  ",
          "leak  ",
          "cloth  ",
          "huggies  ",
          "brand  ",
          "pampers  ",
          "diaper  ",
          "diapers  "
         ],
         "yaxis": "y3"
        },
        {
         "marker": {
          "color": "#E69F00"
         },
         "orientation": "h",
         "type": "bar",
         "x": [
          0.016862250227517934,
          0.01749637015394811,
          0.019009287908409122,
          0.02300634303915858,
          0.02405798039360312,
          0.026670450240980928,
          0.02764987332132236,
          0.09610331505154744
         ],
         "xaxis": "x4",
         "y": [
          "door  ",
          "close  ",
          "latch  ",
          "open  ",
          "dogs  ",
          "gates  ",
          "dog  ",
          "gate  "
         ],
         "yaxis": "y4"
        },
        {
         "marker": {
          "color": "#56B4E9"
         },
         "orientation": "h",
         "type": "bar",
         "x": [
          0.021676255222129025,
          0.024832716436887156,
          0.0297076623614744,
          0.032257949238443294,
          0.04066174926614071,
          0.04740169322051215,
          0.07133414147151494,
          0.07918112741651508
         ],
         "xaxis": "x5",
         "y": [
          "liquid  ",
          "spout  ",
          "leak  ",
          "drink  ",
          "straw  ",
          "sippy  ",
          "cups  ",
          "cup  "
         ],
         "yaxis": "y5"
        },
        {
         "marker": {
          "color": "#009E73"
         },
         "orientation": "h",
         "type": "bar",
         "x": [
          0.013684598803341172,
          0.014124317462540099,
          0.015979804408696344,
          0.016294408622154796,
          0.017359650418754518,
          0.03813675398973064,
          0.054273963109440375,
          0.06612811338756554
         ],
         "xaxis": "x6",
         "y": [
          "belt  ",
          "straps  ",
          "install  ",
          "britax  ",
          "booster  ",
          "seats  ",
          "car  ",
          "seat  "
         ],
         "yaxis": "y6"
        },
        {
         "marker": {
          "color": "#F0E442"
         },
         "orientation": "h",
         "type": "bar",
         "x": [
          0.01838229690001053,
          0.018531653749623726,
          0.02154345015570134,
          0.02527082403480619,
          0.026178376501494065,
          0.02667308958447268,
          0.0319100426044512,
          0.06573834027558573
         ],
         "xaxis": "x7",
         "y": [
          "tape  ",
          "adhere  ",
          "adhesive  ",
          "decals  ",
          "stickers  ",
          "walls  ",
          "stick  ",
          "wall  "
         ],
         "yaxis": "y7"
        },
        {
         "marker": {
          "color": "#D55E00"
         },
         "orientation": "h",
         "type": "bar",
         "x": [
          0.01493122307839715,
          0.015142132584059121,
          0.01540715043490712,
          0.016620307463412472,
          0.018114477417418857,
          0.01862000809446974,
          0.04747725649300823,
          0.05947323542140068
         ],
         "xaxis": "x8",
         "y": [
          "arlo  ",
          "battery  ",
          "room  ",
          "night  ",
          "video  ",
          "br  ",
          "camera  ",
          "monitor  "
         ],
         "yaxis": "y8"
        },
        {
         "marker": {
          "color": "#0072B2"
         },
         "orientation": "h",
         "type": "bar",
         "x": [
          0.015069903503488781,
          0.01665408191057942,
          0.01794667898812828,
          0.02531307634711507,
          0.025913164907937096,
          0.04269722895489114,
          0.05531122366196336,
          0.11078581611300779
         ],
         "xaxis": "x9",
         "y": [
          "toddler  ",
          "pee  ",
          "bathroom  ",
          "stool  ",
          "seat  ",
          "training  ",
          "toilet  ",
          "potty  "
         ],
         "yaxis": "y9"
        },
        {
         "marker": {
          "color": "#CC79A7"
         },
         "orientation": "h",
         "type": "bar",
         "x": [
          0.03876922773072691,
          0.04360885614319931,
          0.044178136252655834,
          0.04914952309194413,
          0.051773850246272575,
          0.07271937130908362,
          0.10208941877722985,
          0.12901749811635335
         ],
         "xaxis": "x10",
         "y": [
          "law  ",
          "sister  ",
          "niece  ",
          "grandson  ",
          "loved  ",
          "daughter  ",
          "loves  ",
          "granddaughter  "
         ],
         "yaxis": "y10"
        }
       ],
       "layout": {
        "annotations": [
         {
          "font": {
           "size": 16
          },
          "showarrow": false,
          "text": "Topic 0",
          "x": 0.0875,
          "xanchor": "center",
          "xref": "paper",
          "y": 1,
          "yanchor": "bottom",
          "yref": "paper"
         },
         {
          "font": {
           "size": 16
          },
          "showarrow": false,
          "text": "Topic 1",
          "x": 0.36250000000000004,
          "xanchor": "center",
          "xref": "paper",
          "y": 1,
          "yanchor": "bottom",
          "yref": "paper"
         },
         {
          "font": {
           "size": 16
          },
          "showarrow": false,
          "text": "Topic 2",
          "x": 0.6375000000000001,
          "xanchor": "center",
          "xref": "paper",
          "y": 1,
          "yanchor": "bottom",
          "yref": "paper"
         },
         {
          "font": {
           "size": 16
          },
          "showarrow": false,
          "text": "Topic 3",
          "x": 0.9125,
          "xanchor": "center",
          "xref": "paper",
          "y": 1,
          "yanchor": "bottom",
          "yref": "paper"
         },
         {
          "font": {
           "size": 16
          },
          "showarrow": false,
          "text": "Topic 4",
          "x": 0.0875,
          "xanchor": "center",
          "xref": "paper",
          "y": 0.6222222222222222,
          "yanchor": "bottom",
          "yref": "paper"
         },
         {
          "font": {
           "size": 16
          },
          "showarrow": false,
          "text": "Topic 5",
          "x": 0.36250000000000004,
          "xanchor": "center",
          "xref": "paper",
          "y": 0.6222222222222222,
          "yanchor": "bottom",
          "yref": "paper"
         },
         {
          "font": {
           "size": 16
          },
          "showarrow": false,
          "text": "Topic 6",
          "x": 0.6375000000000001,
          "xanchor": "center",
          "xref": "paper",
          "y": 0.6222222222222222,
          "yanchor": "bottom",
          "yref": "paper"
         },
         {
          "font": {
           "size": 16
          },
          "showarrow": false,
          "text": "Topic 7",
          "x": 0.9125,
          "xanchor": "center",
          "xref": "paper",
          "y": 0.6222222222222222,
          "yanchor": "bottom",
          "yref": "paper"
         },
         {
          "font": {
           "size": 16
          },
          "showarrow": false,
          "text": "Topic 8",
          "x": 0.0875,
          "xanchor": "center",
          "xref": "paper",
          "y": 0.24444444444444446,
          "yanchor": "bottom",
          "yref": "paper"
         },
         {
          "font": {
           "size": 16
          },
          "showarrow": false,
          "text": "Topic 9",
          "x": 0.36250000000000004,
          "xanchor": "center",
          "xref": "paper",
          "y": 0.24444444444444446,
          "yanchor": "bottom",
          "yref": "paper"
         }
        ],
        "height": 750,
        "hoverlabel": {
         "bgcolor": "white",
         "font": {
          "family": "Rockwell",
          "size": 16
         }
        },
        "showlegend": false,
        "template": {
         "data": {
          "bar": [
           {
            "error_x": {
             "color": "#2a3f5f"
            },
            "error_y": {
             "color": "#2a3f5f"
            },
            "marker": {
             "line": {
              "color": "white",
              "width": 0.5
             },
             "pattern": {
              "fillmode": "overlay",
              "size": 10,
              "solidity": 0.2
             }
            },
            "type": "bar"
           }
          ],
          "barpolar": [
           {
            "marker": {
             "line": {
              "color": "white",
              "width": 0.5
             },
             "pattern": {
              "fillmode": "overlay",
              "size": 10,
              "solidity": 0.2
             }
            },
            "type": "barpolar"
           }
          ],
          "carpet": [
           {
            "aaxis": {
             "endlinecolor": "#2a3f5f",
             "gridcolor": "#C8D4E3",
             "linecolor": "#C8D4E3",
             "minorgridcolor": "#C8D4E3",
             "startlinecolor": "#2a3f5f"
            },
            "baxis": {
             "endlinecolor": "#2a3f5f",
             "gridcolor": "#C8D4E3",
             "linecolor": "#C8D4E3",
             "minorgridcolor": "#C8D4E3",
             "startlinecolor": "#2a3f5f"
            },
            "type": "carpet"
           }
          ],
          "choropleth": [
           {
            "colorbar": {
             "outlinewidth": 0,
             "ticks": ""
            },
            "type": "choropleth"
           }
          ],
          "contour": [
           {
            "colorbar": {
             "outlinewidth": 0,
             "ticks": ""
            },
            "colorscale": [
             [
              0,
              "#0d0887"
             ],
             [
              0.1111111111111111,
              "#46039f"
             ],
             [
              0.2222222222222222,
              "#7201a8"
             ],
             [
              0.3333333333333333,
              "#9c179e"
             ],
             [
              0.4444444444444444,
              "#bd3786"
             ],
             [
              0.5555555555555556,
              "#d8576b"
             ],
             [
              0.6666666666666666,
              "#ed7953"
             ],
             [
              0.7777777777777778,
              "#fb9f3a"
             ],
             [
              0.8888888888888888,
              "#fdca26"
             ],
             [
              1,
              "#f0f921"
             ]
            ],
            "type": "contour"
           }
          ],
          "contourcarpet": [
           {
            "colorbar": {
             "outlinewidth": 0,
             "ticks": ""
            },
            "type": "contourcarpet"
           }
          ],
          "heatmap": [
           {
            "colorbar": {
             "outlinewidth": 0,
             "ticks": ""
            },
            "colorscale": [
             [
              0,
              "#0d0887"
             ],
             [
              0.1111111111111111,
              "#46039f"
             ],
             [
              0.2222222222222222,
              "#7201a8"
             ],
             [
              0.3333333333333333,
              "#9c179e"
             ],
             [
              0.4444444444444444,
              "#bd3786"
             ],
             [
              0.5555555555555556,
              "#d8576b"
             ],
             [
              0.6666666666666666,
              "#ed7953"
             ],
             [
              0.7777777777777778,
              "#fb9f3a"
             ],
             [
              0.8888888888888888,
              "#fdca26"
             ],
             [
              1,
              "#f0f921"
             ]
            ],
            "type": "heatmap"
           }
          ],
          "heatmapgl": [
           {
            "colorbar": {
             "outlinewidth": 0,
             "ticks": ""
            },
            "colorscale": [
             [
              0,
              "#0d0887"
             ],
             [
              0.1111111111111111,
              "#46039f"
             ],
             [
              0.2222222222222222,
              "#7201a8"
             ],
             [
              0.3333333333333333,
              "#9c179e"
             ],
             [
              0.4444444444444444,
              "#bd3786"
             ],
             [
              0.5555555555555556,
              "#d8576b"
             ],
             [
              0.6666666666666666,
              "#ed7953"
             ],
             [
              0.7777777777777778,
              "#fb9f3a"
             ],
             [
              0.8888888888888888,
              "#fdca26"
             ],
             [
              1,
              "#f0f921"
             ]
            ],
            "type": "heatmapgl"
           }
          ],
          "histogram": [
           {
            "marker": {
             "pattern": {
              "fillmode": "overlay",
              "size": 10,
              "solidity": 0.2
             }
            },
            "type": "histogram"
           }
          ],
          "histogram2d": [
           {
            "colorbar": {
             "outlinewidth": 0,
             "ticks": ""
            },
            "colorscale": [
             [
              0,
              "#0d0887"
             ],
             [
              0.1111111111111111,
              "#46039f"
             ],
             [
              0.2222222222222222,
              "#7201a8"
             ],
             [
              0.3333333333333333,
              "#9c179e"
             ],
             [
              0.4444444444444444,
              "#bd3786"
             ],
             [
              0.5555555555555556,
              "#d8576b"
             ],
             [
              0.6666666666666666,
              "#ed7953"
             ],
             [
              0.7777777777777778,
              "#fb9f3a"
             ],
             [
              0.8888888888888888,
              "#fdca26"
             ],
             [
              1,
              "#f0f921"
             ]
            ],
            "type": "histogram2d"
           }
          ],
          "histogram2dcontour": [
           {
            "colorbar": {
             "outlinewidth": 0,
             "ticks": ""
            },
            "colorscale": [
             [
              0,
              "#0d0887"
             ],
             [
              0.1111111111111111,
              "#46039f"
             ],
             [
              0.2222222222222222,
              "#7201a8"
             ],
             [
              0.3333333333333333,
              "#9c179e"
             ],
             [
              0.4444444444444444,
              "#bd3786"
             ],
             [
              0.5555555555555556,
              "#d8576b"
             ],
             [
              0.6666666666666666,
              "#ed7953"
             ],
             [
              0.7777777777777778,
              "#fb9f3a"
             ],
             [
              0.8888888888888888,
              "#fdca26"
             ],
             [
              1,
              "#f0f921"
             ]
            ],
            "type": "histogram2dcontour"
           }
          ],
          "mesh3d": [
           {
            "colorbar": {
             "outlinewidth": 0,
             "ticks": ""
            },
            "type": "mesh3d"
           }
          ],
          "parcoords": [
           {
            "line": {
             "colorbar": {
              "outlinewidth": 0,
              "ticks": ""
             }
            },
            "type": "parcoords"
           }
          ],
          "pie": [
           {
            "automargin": true,
            "type": "pie"
           }
          ],
          "scatter": [
           {
            "fillpattern": {
             "fillmode": "overlay",
             "size": 10,
             "solidity": 0.2
            },
            "type": "scatter"
           }
          ],
          "scatter3d": [
           {
            "line": {
             "colorbar": {
              "outlinewidth": 0,
              "ticks": ""
             }
            },
            "marker": {
             "colorbar": {
              "outlinewidth": 0,
              "ticks": ""
             }
            },
            "type": "scatter3d"
           }
          ],
          "scattercarpet": [
           {
            "marker": {
             "colorbar": {
              "outlinewidth": 0,
              "ticks": ""
             }
            },
            "type": "scattercarpet"
           }
          ],
          "scattergeo": [
           {
            "marker": {
             "colorbar": {
              "outlinewidth": 0,
              "ticks": ""
             }
            },
            "type": "scattergeo"
           }
          ],
          "scattergl": [
           {
            "marker": {
             "colorbar": {
              "outlinewidth": 0,
              "ticks": ""
             }
            },
            "type": "scattergl"
           }
          ],
          "scattermapbox": [
           {
            "marker": {
             "colorbar": {
              "outlinewidth": 0,
              "ticks": ""
             }
            },
            "type": "scattermapbox"
           }
          ],
          "scatterpolar": [
           {
            "marker": {
             "colorbar": {
              "outlinewidth": 0,
              "ticks": ""
             }
            },
            "type": "scatterpolar"
           }
          ],
          "scatterpolargl": [
           {
            "marker": {
             "colorbar": {
              "outlinewidth": 0,
              "ticks": ""
             }
            },
            "type": "scatterpolargl"
           }
          ],
          "scatterternary": [
           {
            "marker": {
             "colorbar": {
              "outlinewidth": 0,
              "ticks": ""
             }
            },
            "type": "scatterternary"
           }
          ],
          "surface": [
           {
            "colorbar": {
             "outlinewidth": 0,
             "ticks": ""
            },
            "colorscale": [
             [
              0,
              "#0d0887"
             ],
             [
              0.1111111111111111,
              "#46039f"
             ],
             [
              0.2222222222222222,
              "#7201a8"
             ],
             [
              0.3333333333333333,
              "#9c179e"
             ],
             [
              0.4444444444444444,
              "#bd3786"
             ],
             [
              0.5555555555555556,
              "#d8576b"
             ],
             [
              0.6666666666666666,
              "#ed7953"
             ],
             [
              0.7777777777777778,
              "#fb9f3a"
             ],
             [
              0.8888888888888888,
              "#fdca26"
             ],
             [
              1,
              "#f0f921"
             ]
            ],
            "type": "surface"
           }
          ],
          "table": [
           {
            "cells": {
             "fill": {
              "color": "#EBF0F8"
             },
             "line": {
              "color": "white"
             }
            },
            "header": {
             "fill": {
              "color": "#C8D4E3"
             },
             "line": {
              "color": "white"
             }
            },
            "type": "table"
           }
          ]
         },
         "layout": {
          "annotationdefaults": {
           "arrowcolor": "#2a3f5f",
           "arrowhead": 0,
           "arrowwidth": 1
          },
          "autotypenumbers": "strict",
          "coloraxis": {
           "colorbar": {
            "outlinewidth": 0,
            "ticks": ""
           }
          },
          "colorscale": {
           "diverging": [
            [
             0,
             "#8e0152"
            ],
            [
             0.1,
             "#c51b7d"
            ],
            [
             0.2,
             "#de77ae"
            ],
            [
             0.3,
             "#f1b6da"
            ],
            [
             0.4,
             "#fde0ef"
            ],
            [
             0.5,
             "#f7f7f7"
            ],
            [
             0.6,
             "#e6f5d0"
            ],
            [
             0.7,
             "#b8e186"
            ],
            [
             0.8,
             "#7fbc41"
            ],
            [
             0.9,
             "#4d9221"
            ],
            [
             1,
             "#276419"
            ]
           ],
           "sequential": [
            [
             0,
             "#0d0887"
            ],
            [
             0.1111111111111111,
             "#46039f"
            ],
            [
             0.2222222222222222,
             "#7201a8"
            ],
            [
             0.3333333333333333,
             "#9c179e"
            ],
            [
             0.4444444444444444,
             "#bd3786"
            ],
            [
             0.5555555555555556,
             "#d8576b"
            ],
            [
             0.6666666666666666,
             "#ed7953"
            ],
            [
             0.7777777777777778,
             "#fb9f3a"
            ],
            [
             0.8888888888888888,
             "#fdca26"
            ],
            [
             1,
             "#f0f921"
            ]
           ],
           "sequentialminus": [
            [
             0,
             "#0d0887"
            ],
            [
             0.1111111111111111,
             "#46039f"
            ],
            [
             0.2222222222222222,
             "#7201a8"
            ],
            [
             0.3333333333333333,
             "#9c179e"
            ],
            [
             0.4444444444444444,
             "#bd3786"
            ],
            [
             0.5555555555555556,
             "#d8576b"
            ],
            [
             0.6666666666666666,
             "#ed7953"
            ],
            [
             0.7777777777777778,
             "#fb9f3a"
            ],
            [
             0.8888888888888888,
             "#fdca26"
            ],
            [
             1,
             "#f0f921"
            ]
           ]
          },
          "colorway": [
           "#636efa",
           "#EF553B",
           "#00cc96",
           "#ab63fa",
           "#FFA15A",
           "#19d3f3",
           "#FF6692",
           "#B6E880",
           "#FF97FF",
           "#FECB52"
          ],
          "font": {
           "color": "#2a3f5f"
          },
          "geo": {
           "bgcolor": "white",
           "lakecolor": "white",
           "landcolor": "white",
           "showlakes": true,
           "showland": true,
           "subunitcolor": "#C8D4E3"
          },
          "hoverlabel": {
           "align": "left"
          },
          "hovermode": "closest",
          "mapbox": {
           "style": "light"
          },
          "paper_bgcolor": "white",
          "plot_bgcolor": "white",
          "polar": {
           "angularaxis": {
            "gridcolor": "#EBF0F8",
            "linecolor": "#EBF0F8",
            "ticks": ""
           },
           "bgcolor": "white",
           "radialaxis": {
            "gridcolor": "#EBF0F8",
            "linecolor": "#EBF0F8",
            "ticks": ""
           }
          },
          "scene": {
           "xaxis": {
            "backgroundcolor": "white",
            "gridcolor": "#DFE8F3",
            "gridwidth": 2,
            "linecolor": "#EBF0F8",
            "showbackground": true,
            "ticks": "",
            "zerolinecolor": "#EBF0F8"
           },
           "yaxis": {
            "backgroundcolor": "white",
            "gridcolor": "#DFE8F3",
            "gridwidth": 2,
            "linecolor": "#EBF0F8",
            "showbackground": true,
            "ticks": "",
            "zerolinecolor": "#EBF0F8"
           },
           "zaxis": {
            "backgroundcolor": "white",
            "gridcolor": "#DFE8F3",
            "gridwidth": 2,
            "linecolor": "#EBF0F8",
            "showbackground": true,
            "ticks": "",
            "zerolinecolor": "#EBF0F8"
           }
          },
          "shapedefaults": {
           "line": {
            "color": "#2a3f5f"
           }
          },
          "ternary": {
           "aaxis": {
            "gridcolor": "#DFE8F3",
            "linecolor": "#A2B1C6",
            "ticks": ""
           },
           "baxis": {
            "gridcolor": "#DFE8F3",
            "linecolor": "#A2B1C6",
            "ticks": ""
           },
           "bgcolor": "white",
           "caxis": {
            "gridcolor": "#DFE8F3",
            "linecolor": "#A2B1C6",
            "ticks": ""
           }
          },
          "title": {
           "x": 0.05
          },
          "xaxis": {
           "automargin": true,
           "gridcolor": "#EBF0F8",
           "linecolor": "#EBF0F8",
           "ticks": "",
           "title": {
            "standoff": 15
           },
           "zerolinecolor": "#EBF0F8",
           "zerolinewidth": 2
          },
          "yaxis": {
           "automargin": true,
           "gridcolor": "#EBF0F8",
           "linecolor": "#EBF0F8",
           "ticks": "",
           "title": {
            "standoff": 15
           },
           "zerolinecolor": "#EBF0F8",
           "zerolinewidth": 2
          }
         }
        },
        "title": {
         "font": {
          "color": "Black",
          "size": 22
         },
         "text": "Topic Word Scores",
         "x": 0.5,
         "xanchor": "center",
         "yanchor": "top"
        },
        "width": 1000,
        "xaxis": {
         "anchor": "y",
         "domain": [
          0,
          0.175
         ],
         "showgrid": true
        },
        "xaxis10": {
         "anchor": "y10",
         "domain": [
          0.275,
          0.45
         ],
         "showgrid": true
        },
        "xaxis11": {
         "anchor": "y11",
         "domain": [
          0.55,
          0.7250000000000001
         ],
         "showgrid": true
        },
        "xaxis12": {
         "anchor": "y12",
         "domain": [
          0.825,
          1
         ],
         "showgrid": true
        },
        "xaxis2": {
         "anchor": "y2",
         "domain": [
          0.275,
          0.45
         ],
         "showgrid": true
        },
        "xaxis3": {
         "anchor": "y3",
         "domain": [
          0.55,
          0.7250000000000001
         ],
         "showgrid": true
        },
        "xaxis4": {
         "anchor": "y4",
         "domain": [
          0.825,
          1
         ],
         "showgrid": true
        },
        "xaxis5": {
         "anchor": "y5",
         "domain": [
          0,
          0.175
         ],
         "showgrid": true
        },
        "xaxis6": {
         "anchor": "y6",
         "domain": [
          0.275,
          0.45
         ],
         "showgrid": true
        },
        "xaxis7": {
         "anchor": "y7",
         "domain": [
          0.55,
          0.7250000000000001
         ],
         "showgrid": true
        },
        "xaxis8": {
         "anchor": "y8",
         "domain": [
          0.825,
          1
         ],
         "showgrid": true
        },
        "xaxis9": {
         "anchor": "y9",
         "domain": [
          0,
          0.175
         ],
         "showgrid": true
        },
        "yaxis": {
         "anchor": "x",
         "domain": [
          0.7555555555555555,
          1
         ],
         "showgrid": true
        },
        "yaxis10": {
         "anchor": "x10",
         "domain": [
          0,
          0.24444444444444446
         ],
         "showgrid": true
        },
        "yaxis11": {
         "anchor": "x11",
         "domain": [
          0,
          0.24444444444444446
         ],
         "showgrid": true
        },
        "yaxis12": {
         "anchor": "x12",
         "domain": [
          0,
          0.24444444444444446
         ],
         "showgrid": true
        },
        "yaxis2": {
         "anchor": "x2",
         "domain": [
          0.7555555555555555,
          1
         ],
         "showgrid": true
        },
        "yaxis3": {
         "anchor": "x3",
         "domain": [
          0.7555555555555555,
          1
         ],
         "showgrid": true
        },
        "yaxis4": {
         "anchor": "x4",
         "domain": [
          0.7555555555555555,
          1
         ],
         "showgrid": true
        },
        "yaxis5": {
         "anchor": "x5",
         "domain": [
          0.37777777777777777,
          0.6222222222222222
         ],
         "showgrid": true
        },
        "yaxis6": {
         "anchor": "x6",
         "domain": [
          0.37777777777777777,
          0.6222222222222222
         ],
         "showgrid": true
        },
        "yaxis7": {
         "anchor": "x7",
         "domain": [
          0.37777777777777777,
          0.6222222222222222
         ],
         "showgrid": true
        },
        "yaxis8": {
         "anchor": "x8",
         "domain": [
          0.37777777777777777,
          0.6222222222222222
         ],
         "showgrid": true
        },
        "yaxis9": {
         "anchor": "x9",
         "domain": [
          0,
          0.24444444444444446
         ],
         "showgrid": true
        }
       }
      }
     },
     "metadata": {},
     "output_type": "display_data"
    }
   ],
   "source": [
    "# com remoção de stop words:\n",
    "\n",
    "def preprocess_stopwords(x):\n",
    "    new_x = x\n",
    "    # new_x = x.replace('\"',' ')\n",
    "    new_x = new_x.replace('\\n',' ')\n",
    "    new_x = new_x.replace('\\t',' ')\n",
    "    new_x = new_x.replace('\\r',' ')\n",
    "    new_x = ' '.join([word for word in nltk.word_tokenize(new_x.lower(), language='portuguese') if word not in stop_words]) #removendo stop words\n",
    "    # new_x = re.sub(r'[^\\w\\s]', ' ', new_x) #removendo pontuação do texto\n",
    "    new_x = re.sub(\"http\\S+\", ' ',new_x) # remove links\n",
    "    new_x = re.sub(\"@\\w+\", ' ',new_x) # remove contas com @\n",
    "    # new_x = re.sub('#\\S+', ' ',new_x) # hashtags\n",
    "    # new_x = re.sub('[0-9]+', ' ',new_x) # remove numeros e palavras com numeros\n",
    "    for c in special_chars:\n",
    "        new_x = new_x.replace(c,' ') # caracteres especiais\n",
    "    new_x = re.sub(\"\\s+\", ' ',new_x) # espaços\n",
    "    new_x = new_x.strip()\n",
    "    return new_x.lower()\n",
    "\n",
    "BabyProducts_Df['text'] = BabyProducts_Df['text'].apply(preprocess_stopwords)\n",
    "docs = list(BabyProducts_Df['text'])\n",
    "sentence_model = SentenceTransformer(\"all-MiniLM-L6-v2\")\n",
    "# sentence_model = SentenceTransformer(\"all-mpnet-base-v2\", device=\"cuda\")\n",
    "embeddings = sentence_model.encode(docs, show_progress_bar=True)\n",
    "topic_model = BERTopic(embedding_model=sentence_model)\n",
    "topics, probs = topic_model.fit_transform(docs, embeddings=embeddings)\n",
    "topic_model.visualize_barchart(top_n_topics=10, n_words=8)"
   ]
  },
  {
   "cell_type": "code",
   "execution_count": 19,
   "metadata": {},
   "outputs": [
    {
     "name": "stdout",
     "output_type": "stream",
     "text": [
      "quantidade de tópicos:  91\n"
     ]
    },
    {
     "data": {
      "text/html": [
       "<div>\n",
       "<style scoped>\n",
       "    .dataframe tbody tr th:only-of-type {\n",
       "        vertical-align: middle;\n",
       "    }\n",
       "\n",
       "    .dataframe tbody tr th {\n",
       "        vertical-align: top;\n",
       "    }\n",
       "\n",
       "    .dataframe thead th {\n",
       "        text-align: right;\n",
       "    }\n",
       "</style>\n",
       "<table border=\"1\" class=\"dataframe\">\n",
       "  <thead>\n",
       "    <tr style=\"text-align: right;\">\n",
       "      <th></th>\n",
       "      <th>Topic</th>\n",
       "      <th>Count</th>\n",
       "      <th>Name</th>\n",
       "      <th>Representation</th>\n",
       "      <th>Representative_Docs</th>\n",
       "    </tr>\n",
       "  </thead>\n",
       "  <tbody>\n",
       "    <tr>\n",
       "      <th>0</th>\n",
       "      <td>-1</td>\n",
       "      <td>1294</td>\n",
       "      <td>-1_great_baby_one_product</td>\n",
       "      <td>[great, baby, one, product, little, use, easy,...</td>\n",
       "      <td>[baby loves easy hold cute perfect size 9 mont...</td>\n",
       "    </tr>\n",
       "    <tr>\n",
       "      <th>1</th>\n",
       "      <td>0</td>\n",
       "      <td>238</td>\n",
       "      <td>0_crib_mattress_bed_sheets</td>\n",
       "      <td>[crib, mattress, bed, sheets, sheet, play, pac...</td>\n",
       "      <td>[crib sheets best crib sheets think ever house...</td>\n",
       "    </tr>\n",
       "    <tr>\n",
       "      <th>2</th>\n",
       "      <td>1</td>\n",
       "      <td>187</td>\n",
       "      <td>1_food_spoon_plate_dishwasher</td>\n",
       "      <td>[food, spoon, plate, dishwasher, plates, spoon...</td>\n",
       "      <td>[quality design utensils perfect love colors w...</td>\n",
       "    </tr>\n",
       "    <tr>\n",
       "      <th>3</th>\n",
       "      <td>2</td>\n",
       "      <td>177</td>\n",
       "      <td>2_diapers_diaper_pampers_brand</td>\n",
       "      <td>[diapers, diaper, pampers, brand, huggies, clo...</td>\n",
       "      <td>[amazing price using exclusively cloth diapers...</td>\n",
       "    </tr>\n",
       "    <tr>\n",
       "      <th>4</th>\n",
       "      <td>3</td>\n",
       "      <td>143</td>\n",
       "      <td>3_gate_dog_gates_dogs</td>\n",
       "      <td>[gate, dog, gates, dogs, open, latch, close, d...</td>\n",
       "      <td>[gate fits perfectly works well keeping pets c...</td>\n",
       "    </tr>\n",
       "    <tr>\n",
       "      <th>5</th>\n",
       "      <td>4</td>\n",
       "      <td>135</td>\n",
       "      <td>4_cup_cups_sippy_straw</td>\n",
       "      <td>[cup, cups, sippy, straw, drink, leak, spout, ...</td>\n",
       "      <td>[buy purchased target sale 7 dollars change 8 ...</td>\n",
       "    </tr>\n",
       "    <tr>\n",
       "      <th>6</th>\n",
       "      <td>5</td>\n",
       "      <td>115</td>\n",
       "      <td>5_seat_car_seats_booster</td>\n",
       "      <td>[seat, car, seats, booster, britax, install, s...</td>\n",
       "      <td>[great seat, love great quality fits great sea...</td>\n",
       "    </tr>\n",
       "    <tr>\n",
       "      <th>7</th>\n",
       "      <td>6</td>\n",
       "      <td>115</td>\n",
       "      <td>6_wall_stick_walls_stickers</td>\n",
       "      <td>[wall, stick, walls, stickers, decals, adhesiv...</td>\n",
       "      <td>[actually really liked wall nursery tried remo...</td>\n",
       "    </tr>\n",
       "    <tr>\n",
       "      <th>8</th>\n",
       "      <td>7</td>\n",
       "      <td>96</td>\n",
       "      <td>7_monitor_camera_br_video</td>\n",
       "      <td>[monitor, camera, br, video, night, room, batt...</td>\n",
       "      <td>[good baby monitor, update monitor 2 years one...</td>\n",
       "    </tr>\n",
       "    <tr>\n",
       "      <th>9</th>\n",
       "      <td>8</td>\n",
       "      <td>82</td>\n",
       "      <td>8_potty_toilet_training_seat</td>\n",
       "      <td>[potty, toilet, training, seat, stool, bathroo...</td>\n",
       "      <td>[potty seat potty training game changer home s...</td>\n",
       "    </tr>\n",
       "    <tr>\n",
       "      <th>10</th>\n",
       "      <td>9</td>\n",
       "      <td>81</td>\n",
       "      <td>9_granddaughter_loves_daughter_loved</td>\n",
       "      <td>[granddaughter, loves, daughter, loved, grands...</td>\n",
       "      <td>[granddaughter loves, granddaughter loves, gra...</td>\n",
       "    </tr>\n",
       "    <tr>\n",
       "      <th>11</th>\n",
       "      <td>10</td>\n",
       "      <td>81</td>\n",
       "      <td>10_bag_pockets_diaper_carry</td>\n",
       "      <td>[bag, pockets, diaper, carry, backpack, pocket...</td>\n",
       "      <td>[absolutely love bag perfect taking everything...</td>\n",
       "    </tr>\n",
       "    <tr>\n",
       "      <th>12</th>\n",
       "      <td>11</td>\n",
       "      <td>72</td>\n",
       "      <td>11_stroller_strollers_br_umbrella</td>\n",
       "      <td>[stroller, strollers, br, umbrella, canopy, fr...</td>\n",
       "      <td>[using stroller 19 months put 1 000 miles tire...</td>\n",
       "    </tr>\n",
       "    <tr>\n",
       "      <th>13</th>\n",
       "      <td>12</td>\n",
       "      <td>70</td>\n",
       "      <td>12_de_muy_mi_es</td>\n",
       "      <td>[de, muy, mi, es, que, la, para, el, producto,...</td>\n",
       "      <td>[se veían lindos en la foto de amazon además t...</td>\n",
       "    </tr>\n",
       "    <tr>\n",
       "      <th>14</th>\n",
       "      <td>13</td>\n",
       "      <td>69</td>\n",
       "      <td>13_price_good_quality_product</td>\n",
       "      <td>[price, good, quality, product, poor, value, w...</td>\n",
       "      <td>[good product good price, good product good pr...</td>\n",
       "    </tr>\n",
       "  </tbody>\n",
       "</table>\n",
       "</div>"
      ],
      "text/plain": [
       "    Topic  Count                                  Name  \\\n",
       "0      -1   1294             -1_great_baby_one_product   \n",
       "1       0    238            0_crib_mattress_bed_sheets   \n",
       "2       1    187         1_food_spoon_plate_dishwasher   \n",
       "3       2    177        2_diapers_diaper_pampers_brand   \n",
       "4       3    143                 3_gate_dog_gates_dogs   \n",
       "5       4    135                4_cup_cups_sippy_straw   \n",
       "6       5    115              5_seat_car_seats_booster   \n",
       "7       6    115           6_wall_stick_walls_stickers   \n",
       "8       7     96             7_monitor_camera_br_video   \n",
       "9       8     82          8_potty_toilet_training_seat   \n",
       "10      9     81  9_granddaughter_loves_daughter_loved   \n",
       "11     10     81           10_bag_pockets_diaper_carry   \n",
       "12     11     72     11_stroller_strollers_br_umbrella   \n",
       "13     12     70                       12_de_muy_mi_es   \n",
       "14     13     69         13_price_good_quality_product   \n",
       "\n",
       "                                       Representation  \\\n",
       "0   [great, baby, one, product, little, use, easy,...   \n",
       "1   [crib, mattress, bed, sheets, sheet, play, pac...   \n",
       "2   [food, spoon, plate, dishwasher, plates, spoon...   \n",
       "3   [diapers, diaper, pampers, brand, huggies, clo...   \n",
       "4   [gate, dog, gates, dogs, open, latch, close, d...   \n",
       "5   [cup, cups, sippy, straw, drink, leak, spout, ...   \n",
       "6   [seat, car, seats, booster, britax, install, s...   \n",
       "7   [wall, stick, walls, stickers, decals, adhesiv...   \n",
       "8   [monitor, camera, br, video, night, room, batt...   \n",
       "9   [potty, toilet, training, seat, stool, bathroo...   \n",
       "10  [granddaughter, loves, daughter, loved, grands...   \n",
       "11  [bag, pockets, diaper, carry, backpack, pocket...   \n",
       "12  [stroller, strollers, br, umbrella, canopy, fr...   \n",
       "13  [de, muy, mi, es, que, la, para, el, producto,...   \n",
       "14  [price, good, quality, product, poor, value, w...   \n",
       "\n",
       "                                  Representative_Docs  \n",
       "0   [baby loves easy hold cute perfect size 9 mont...  \n",
       "1   [crib sheets best crib sheets think ever house...  \n",
       "2   [quality design utensils perfect love colors w...  \n",
       "3   [amazing price using exclusively cloth diapers...  \n",
       "4   [gate fits perfectly works well keeping pets c...  \n",
       "5   [buy purchased target sale 7 dollars change 8 ...  \n",
       "6   [great seat, love great quality fits great sea...  \n",
       "7   [actually really liked wall nursery tried remo...  \n",
       "8   [good baby monitor, update monitor 2 years one...  \n",
       "9   [potty seat potty training game changer home s...  \n",
       "10  [granddaughter loves, granddaughter loves, gra...  \n",
       "11  [absolutely love bag perfect taking everything...  \n",
       "12  [using stroller 19 months put 1 000 miles tire...  \n",
       "13  [se veían lindos en la foto de amazon además t...  \n",
       "14  [good product good price, good product good pr...  "
      ]
     },
     "execution_count": 19,
     "metadata": {},
     "output_type": "execute_result"
    }
   ],
   "source": [
    "print('quantidade de tópicos: ', len(set(topics)))\n",
    "resultados = topic_model.get_topic_info()\n",
    "resultados.head(15)\n",
    "\n",
    "# resultado: mudou bastante os tópicos com a remoção de stop words\n",
    "# (como avaliar isso)?"
   ]
  },
  {
   "cell_type": "markdown",
   "metadata": {},
   "source": [
    "### Aplicando LDA: "
   ]
  },
  {
   "cell_type": "code",
   "execution_count": 27,
   "metadata": {},
   "outputs": [
    {
     "data": {
      "image/jpeg": "[encoded data removed]",
      "image/png": "[encoded data removed]",
      "text/plain": [
       "<PIL.Image.Image image mode=RGB size=400x200>"
      ]
     },
     "execution_count": 27,
     "metadata": {},
     "output_type": "execute_result"
    }
   ],
   "source": [
    "# Import the wordcloud library\n",
    "from wordcloud import WordCloud\n",
    "\n",
    "# # Join the different processed titles together.\n",
    "long_string = ','.join(list(BabyProducts_Df['text'].values))\n",
    "\n",
    "# # Create a WordCloud object\n",
    "wordcloud = WordCloud(background_color=\"white\", max_words=5000, contour_width=3, contour_color='steelblue')\n",
    "# # Generate a word cloud\n",
    "\n",
    "wordcloud.generate(long_string)\n",
    "# # Visualize the word cloud\n",
    "\n",
    "wordcloud.to_image()"
   ]
  },
  {
   "cell_type": "code",
   "execution_count": 46,
   "metadata": {},
   "outputs": [
    {
     "name": "stderr",
     "output_type": "stream",
     "text": [
      "[nltk_data] Downloading package stopwords to\n",
      "[nltk_data]     C:\\Users\\gutog\\AppData\\Roaming\\nltk_data...\n",
      "[nltk_data]   Package stopwords is already up-to-date!\n"
     ]
    },
    {
     "name": "stdout",
     "output_type": "stream",
     "text": [
      "['adorable', 'prints', 'super', 'soft', 'love', 'product']\n"
     ]
    }
   ],
   "source": [
    "# # Outro método para remoção de stop words:\n",
    "\n",
    "stop_words = stopwords.words('english')\n",
    "stop_words.extend(['from', 'subject', 're', 'edu', 'use'])\n",
    "\n",
    "def sent_to_words(sentences):\n",
    "    for sentence in sentences:\n",
    "        # deacc=True removes punctuations\n",
    "        yield(gensim.utils.simple_preprocess(str(sentence), deacc=True))\n",
    "\n",
    "def remove_stopwords(texts):\n",
    "    return [[word for word in simple_preprocess(str(doc)) \n",
    "             if word not in stop_words] for doc in texts]\n",
    "\n",
    "data = BabyProducts_Df['text'].values.tolist()\n",
    "data_words_babies = list(sent_to_words(data))\n",
    "# remove stop words\n",
    "data_words_babies = remove_stopwords(data_words_babies)\n",
    "print(data_words_babies[:1][0][:30])"
   ]
  },
  {
   "cell_type": "code",
   "execution_count": 47,
   "metadata": {},
   "outputs": [
    {
     "name": "stdout",
     "output_type": "stream",
     "text": [
      "[(0, 1), (1, 1), (2, 1), (3, 1), (4, 1), (5, 1)]\n"
     ]
    }
   ],
   "source": [
    "import gensim.corpora as corpora\n",
    "\n",
    "# # Create Corpus\n",
    "texts = data_words_babies\n",
    "\n",
    "# # Create Dictionary\n",
    "id2word = corpora.Dictionary(texts)\n",
    "\n",
    "# # Term Document Frequency\n",
    "corpus = [id2word.doc2bow(text) for text in texts]\n",
    "\n",
    "# # View\n",
    "print(corpus[:1][0][:30])"
   ]
  },
  {
   "cell_type": "code",
   "execution_count": 51,
   "metadata": {},
   "outputs": [
    {
     "name": "stdout",
     "output_type": "stream",
     "text": [
      "CPU times: total: 0 ns\n",
      "Wall time: 0 ns\n",
      "[(0,\n",
      "  '0.013*\"great\" + 0.009*\"easy\" + 0.007*\"good\" + 0.006*\"seat\" + 0.006*\"love\" + '\n",
      "  '0.006*\"price\" + 0.005*\"perfect\" + 0.005*\"got\" + 0.005*\"car\" + 0.005*\"like\"'),\n",
      " (1,\n",
      "  '0.022*\"br\" + 0.017*\"easy\" + 0.010*\"love\" + 0.010*\"well\" + 0.009*\"one\" + '\n",
      "  '0.008*\"great\" + 0.007*\"baby\" + 0.007*\"little\" + 0.007*\"old\" + 0.006*\"like\"'),\n",
      " (2,\n",
      "  '0.014*\"br\" + 0.013*\"great\" + 0.010*\"one\" + 0.010*\"little\" + 0.008*\"like\" + '\n",
      "  '0.008*\"baby\" + 0.008*\"easy\" + 0.008*\"son\" + 0.007*\"love\" + 0.007*\"would\"'),\n",
      " (3,\n",
      "  '0.017*\"baby\" + 0.012*\"love\" + 0.009*\"one\" + 0.008*\"well\" + 0.008*\"great\" + '\n",
      "  '0.008*\"would\" + 0.007*\"get\" + 0.007*\"perfect\" + 0.006*\"size\" + '\n",
      "  '0.006*\"diaper\"'),\n",
      " (4,\n",
      "  '0.012*\"br\" + 0.012*\"great\" + 0.012*\"product\" + 0.010*\"like\" + 0.009*\"one\" + '\n",
      "  '0.009*\"baby\" + 0.008*\"love\" + 0.008*\"nice\" + 0.007*\"would\" + 0.007*\"also\"'),\n",
      " (5,\n",
      "  '0.018*\"br\" + 0.015*\"baby\" + 0.013*\"great\" + 0.011*\"easy\" + 0.011*\"love\" + '\n",
      "  '0.008*\"one\" + 0.006*\"little\" + 0.006*\"would\" + 0.006*\"seat\" + 0.006*\"well\"'),\n",
      " (6,\n",
      "  '0.012*\"br\" + 0.009*\"great\" + 0.008*\"product\" + 0.008*\"baby\" + 0.008*\"old\" + '\n",
      "  '0.007*\"like\" + 0.006*\"one\" + 0.006*\"perfect\" + 0.006*\"bag\" + 0.005*\"get\"'),\n",
      " (7,\n",
      "  '0.013*\"one\" + 0.012*\"br\" + 0.011*\"great\" + 0.010*\"get\" + 0.009*\"baby\" + '\n",
      "  '0.008*\"like\" + 0.007*\"love\" + 0.007*\"easy\" + 0.007*\"good\" + 0.006*\"much\"'),\n",
      " (8,\n",
      "  '0.014*\"great\" + 0.012*\"love\" + 0.012*\"baby\" + 0.011*\"like\" + 0.010*\"one\" + '\n",
      "  '0.009*\"really\" + 0.008*\"br\" + 0.007*\"would\" + 0.007*\"well\" + '\n",
      "  '0.006*\"product\"'),\n",
      " (9,\n",
      "  '0.016*\"br\" + 0.013*\"good\" + 0.011*\"love\" + 0.011*\"baby\" + 0.010*\"one\" + '\n",
      "  '0.007*\"easy\" + 0.006*\"like\" + 0.006*\"would\" + 0.006*\"get\" + 0.005*\"great\"')]\n"
     ]
    }
   ],
   "source": [
    "# number of topics\n",
    "num_topics = 10\n",
    "\n",
    "# Build LDA model\n",
    "lda_model = gensim.models.LdaMulticore(corpus=corpus,\n",
    "                                       id2word=id2word,\n",
    "                                       num_topics=num_topics)\n",
    "\n",
    "# Print the Keyword in the 10 topics\n",
    "pprint(lda_model.print_topics())\n",
    "doc_lda = lda_model[corpus]"
   ]
  },
  {
   "cell_type": "code",
   "execution_count": 62,
   "metadata": {},
   "outputs": [
    {
     "data": {
      "text/html": [
       "\n",
       "<link rel=\"stylesheet\" type=\"text/css\" href=\"https://cdn.jsdelivr.net/gh/bmabey/pyLDAvis@3.4.0/pyLDAvis/js/ldavis.v1.0.0.css\">\n",
       "\n",
       "\n",
       "<div id=\"ldavis_el828825149326826405874994158\" style=\"background-color:white;\"></div>\n",
       "<script type=\"text/javascript\">\n",
       "\n",
       "var ldavis_el828825149326826405874994158_data = {\"mdsDat\": {\"x\": [-0.008199665178748273, -0.02089827582918297, -0.012750812740988073, -0.0194093588780666, -0.0032497152931096457, -0.01463390157577994, 0.011325573179764133, -0.00024677370063716725, -0.009161188911900403, 0.07722411892864889], \"y\": [0.00588215561810574, 0.01285773133350311, -0.0059756114414728735, 0.004086543753145537, 0.012244232733054534, 0.03568697492945643, -0.05399999751014587, 0.014326272030250452, -0.039777274363665426, 0.014668972917768384], \"topics\": [1, 2, 3, 4, 5, 6, 7, 8, 9, 10], \"cluster\": [1, 1, 1, 1, 1, 1, 1, 1, 1, 1], \"Freq\": [20.70781275730726, 12.271996454466603, 11.870954964217534, 11.007594507098704, 9.49535324512677, 8.426140690927495, 7.2011622392361545, 7.028691968755808, 7.021668655501098, 4.968624517362576]}, \"tinfo\": {\"Term\": [\"br\", \"good\", \"easy\", \"product\", \"nice\", \"great\", \"seat\", \"baby\", \"perfect\", \"super\", \"love\", \"price\", \"car\", \"diapers\", \"get\", \"like\", \"bottles\", \"old\", \"size\", \"daughter\", \"got\", \"really\", \"bag\", \"one\", \"also\", \"put\", \"well\", \"cover\", \"potty\", \"diaper\", \"elephants\", \"flower\", \"sign\", \"september\", \"cheese\", \"tog\", \"ahead\", \"warms\", \"january\", \"trials\", \"favor\", \"puree\", \"id\", \"wholesale\", \"screams\", \"samsung\", \"tamano\", \"dragging\", \"mustard\", \"dislodged\", \"lego\", \"flare\", \"desire\", \"particles\", \"recipe\", \"fibers\", \"accent\", \"pom\", \"battle\", \"seatback\", \"disgusting\", \"son\", \"sure\", \"stopped\", \"little\", \"better\", \"used\", \"swing\", \"year\", \"prevent\", \"still\", \"color\", \"work\", \"bows\", \"time\", \"even\", \"br\", \"want\", \"great\", \"god\", \"one\", \"suction\", \"like\", \"old\", \"warm\", \"excellent\", \"wipes\", \"would\", \"put\", \"quality\", \"worked\", \"bought\", \"perfect\", \"know\", \"easy\", \"loves\", \"months\", \"get\", \"much\", \"price\", \"love\", \"baby\", \"product\", \"well\", \"seat\", \"back\", \"good\", \"really\", \"matress\", \"blaze\", \"curtain\", \"bookcase\", \"tough\", \"ass\", \"colchon\", \"realizing\", \"squirmy\", \"buenas\", \"outdoors\", \"venian\", \"dorpu\", \"alexa\", \"nojo\", \"babysit\", \"prompt\", \"confident\", \"trim\", \"molded\", \"glasses\", \"native\", \"coloreful\", \"handlebar\", \"stair\", \"lotsa\", \"keeeps\", \"ticket\", \"quedan\", \"beep\", \"stoppers\", \"kicks\", \"families\", \"doorway\", \"citrus\", \"doctor\", \"weights\", \"por\", \"plates\", \"potty\", \"balm\", \"colored\", \"bowl\", \"br\", \"baby\", \"easy\", \"hold\", \"colors\", \"kids\", \"seat\", \"great\", \"fabric\", \"toddler\", \"grandson\", \"love\", \"loves\", \"food\", \"cute\", \"granddaughter\", \"broke\", \"top\", \"however\", \"child\", \"bought\", \"inside\", \"enough\", \"little\", \"since\", \"one\", \"would\", \"first\", \"well\", \"really\", \"product\", \"get\", \"clean\", \"size\", \"also\", \"like\", \"bag\", \"put\", \"son\", \"old\", \"powder\", \"nutramigen\", \"lamb\", \"mayo\", \"boiling\", \"intercom\", \"familiar\", \"manageable\", \"shampoo\", \"ultrasound\", \"glowing\", \"pac\", \"leaky\", \"vegetables\", \"dandruff\", \"failed\", \"skiing\", \"branches\", \"dates\", \"parte\", \"sprout\", \"seven\", \"creamy\", \"una\", \"jeep\", \"selection\", \"pregnancy\", \"jyst\", \"memeres\", \"suffocation\", \"thicker\", \"stitched\", \"washcloth\", \"alone\", \"suit\", \"wears\", \"outlet\", \"really\", \"like\", \"car\", \"music\", \"love\", \"great\", \"skin\", \"baby\", \"far\", \"around\", \"definitely\", \"wipes\", \"one\", \"would\", \"bag\", \"side\", \"way\", \"well\", \"daughter\", \"keep\", \"sleep\", \"product\", \"see\", \"without\", \"works\", \"go\", \"old\", \"back\", \"buy\", \"using\", \"br\", \"also\", \"good\", \"soft\", \"cute\", \"easy\", \"recommend\", \"time\", \"bought\", \"seat\", \"get\", \"soaker\", \"floral\", \"gud\", \"screamed\", \"beige\", \"filter\", \"smile\", \"eden\", \"gorgeous\", \"temporary\", \"mudslide\", \"beaver\", \"lit\", \"luvs\", \"marathon\", \"dining\", \"gravel\", \"grows\", \"fdb\", \"eel\", \"shoddy\", \"plugging\", \"bracing\", \"trifold\", \"yetis\", \"amazong\", \"smash\", \"muffling\", \"hunters\", \"jacslair\", \"soooo\", \"chlorine\", \"disappointment\", \"closet\", \"immediate\", \"allergic\", \"aspect\", \"sea\", \"american\", \"afford\", \"supply\", \"bubbles\", \"rashes\", \"diaper\", \"leak\", \"size\", \"baby\", \"fits\", \"diapers\", \"small\", \"perfect\", \"love\", \"away\", \"first\", \"used\", \"well\", \"big\", \"bag\", \"lot\", \"get\", \"gate\", \"would\", \"come\", \"still\", \"put\", \"child\", \"able\", \"works\", \"one\", \"recommend\", \"work\", \"chair\", \"great\", \"fit\", \"old\", \"easy\", \"like\", \"keep\", \"little\", \"br\", \"also\", \"time\", \"really\", \"trendplay\", \"aquaphor\", \"ruby\", \"projector\", \"drives\", \"stink\", \"subpar\", \"hangers\", \"arranged\", \"twinkle\", \"blending\", \"founder\", \"yesss\", \"footed\", \"personalized\", \"oxide\", \"houdini\", \"laundering\", \"mercury\", \"breeze\", \"waits\", \"homes\", \"additives\", \"doublers\", \"biodegradeable\", \"painting\", \"clatter\", \"peanut\", \"praising\", \"resizable\", \"rags\", \"hudson\", \"grandmother\", \"butter\", \"ottoman\", \"story\", \"gerber\", \"print\", \"typical\", \"tank\", \"spoons\", \"decal\", \"utensils\", \"situation\", \"get\", \"much\", \"sturdy\", \"one\", \"tree\", \"cups\", \"two\", \"good\", \"also\", \"br\", \"like\", \"great\", \"bags\", \"nice\", \"cute\", \"silicone\", \"look\", \"quality\", \"soft\", \"baby\", \"kids\", \"even\", \"better\", \"make\", \"would\", \"easy\", \"love\", \"made\", \"well\", \"little\", \"bought\", \"using\", \"year\", \"old\", \"diaper\", \"used\", \"product\", \"maltese\", \"lavar\", \"sip\", \"parabens\", \"phases\", \"cm\", \"pitty\", \"jog\", \"conditioning\", \"chilly\", \"canal\", \"faucets\", \"forehead\", \"wetl\", \"filthy\", \"horns\", \"disminuye\", \"attract\", \"crannies\", \"vlog\", \"sceptical\", \"recomendables\", \"canada\", \"pockit\", \"comodas\", \"cepillo\", \"tripping\", \"digital\", \"mint\", \"vertical\", \"elmo\", \"drainage\", \"crossing\", \"maneuver\", \"wheel\", \"garage\", \"blow\", \"knee\", \"shipment\", \"stops\", \"disney\", \"sprayer\", \"thermometer\", \"jacked\", \"easy\", \"br\", \"flipping\", \"decent\", \"well\", \"price\", \"install\", \"thing\", \"gift\", \"nice\", \"assemble\", \"old\", \"month\", \"clean\", \"got\", \"fast\", \"little\", \"love\", \"strollers\", \"bought\", \"one\", \"made\", \"recommend\", \"hand\", \"open\", \"daughter\", \"perfect\", \"loves\", \"stroller\", \"size\", \"right\", \"like\", \"good\", \"great\", \"baby\", \"really\", \"would\", \"time\", \"get\", \"super\", \"much\", \"ag\", \"muffs\", \"confortable\", \"mucho\", \"gusto\", \"pompoms\", \"snappis\", \"angles\", \"stabbed\", \"gigi\", \"curves\", \"generic\", \"llego\", \"luv\", \"quot\", \"strapped\", \"ju\", \"wan\", \"ink\", \"sleigh\", \"bugs\", \"encouraging\", \"connections\", \"adapt\", \"crowd\", \"reapplied\", \"wv\", \"babyhood\", \"onthe\", \"expired\", \"pressed\", \"blinds\", \"shoulders\", \"website\", \"attaching\", \"posts\", \"lovely\", \"limpiar\", \"foaming\", \"rods\", \"described\", \"training\", \"excelente\", \"product\", \"super\", \"nice\", \"wonderful\", \"teether\", \"potty\", \"table\", \"also\", \"arrived\", \"like\", \"put\", \"great\", \"quality\", \"br\", \"looks\", \"picture\", \"ok\", \"would\", \"high\", \"time\", \"one\", \"really\", \"chair\", \"happy\", \"baby\", \"love\", \"soft\", \"daughter\", \"perfectly\", \"good\", \"back\", \"loves\", \"room\", \"fit\", \"diaper\", \"easy\", \"seat\", \"well\", \"little\", \"son\", \"guests\", \"penaten\", \"breath\", \"motorola\", \"reported\", \"tal\", \"undertone\", \"sais\", \"otter\", \"proteja\", \"dolly\", \"lulls\", \"suckler\", \"supper\", \"handled\", \"fools\", \"reg\", \"tapa\", \"camelback\", \"mistakenly\", \"presses\", \"tbh\", \"nannys\", \"ziptied\", \"abit\", \"shoe\", \"unbuckle\", \"ut\", \"identify\", \"iffy\", \"butterflies\", \"recipient\", \"member\", \"cake\", \"keyfit\", \"interfere\", \"breastfeeding\", \"brushes\", \"bottles\", \"nipple\", \"combination\", \"good\", \"blanket\", \"umbrella\", \"accessible\", \"br\", \"gate\", \"rid\", \"many\", \"monitor\", \"hard\", \"bottle\", \"could\", \"tell\", \"base\", \"nice\", \"love\", \"one\", \"baby\", \"quality\", \"enough\", \"side\", \"soft\", \"get\", \"stroller\", \"also\", \"easy\", \"would\", \"product\", \"wish\", \"even\", \"like\", \"recommend\", \"work\", \"got\", \"back\", \"little\", \"great\", \"perfect\", \"put\", \"really\", \"independence\", \"chewy\", \"bouncy\", \"bello\", \"bf\", \"dressers\", \"techy\", \"arriatation\", \"duren\", \"wks\", \"sky\", \"moisturized\", \"speaks\", \"depict\", \"acompana\", \"retracts\", \"death\", \"estrella\", \"queda\", \"xs\", \"dosent\", \"humming\", \"piel\", \"saludos\", \"impressions\", \"comparisons\", \"llega\", \"humans\", \"aired\", \"doll\", \"slats\", \"simignon\", \"gorilla\", \"blocking\", \"cracks\", \"limited\", \"mins\", \"cushions\", \"glue\", \"way\", \"pen\", \"awesome\", \"locks\", \"bed\", \"bag\", \"trays\", \"old\", \"product\", \"containers\", \"giraffe\", \"rain\", \"comfortable\", \"zero\", \"food\", \"needed\", \"daughter\", \"perfect\", \"easily\", \"seat\", \"night\", \"fit\", \"br\", \"looks\", \"year\", \"even\", \"us\", \"right\", \"great\", \"bought\", \"like\", \"baby\", \"get\", \"buy\", \"good\", \"put\", \"fits\", \"one\", \"well\", \"much\", \"love\", \"would\", \"really\", \"nice\", \"easy\", \"nori\", \"entirely\", \"shrinking\", \"dominate\", \"breakdown\", \"ford\", \"moomoo\", \"boton\", \"dealing\", \"boost\", \"bugaboo\", \"effortless\", \"bell\", \"spasilk\", \"stroll\", \"breezeway\", \"explorer\", \"bentley\", \"hoes\", \"recaro\", \"pours\", \"superhero\", \"bananas\", \"components\", \"similac\", \"backups\", \"simpler\", \"lovers\", \"sponged\", \"fairies\", \"extend\", \"undamaged\", \"aug\", \"zoomkit\", \"sterilize\", \"mouse\", \"hello\", \"shelving\", \"english\", \"blend\", \"pops\", \"lighting\", \"scented\", \"basket\", \"adjuster\", \"cover\", \"waist\", \"convert\", \"price\", \"car\", \"diapers\", \"pairing\", \"camera\", \"got\", \"great\", \"seat\", \"long\", \"pretty\", \"cup\", \"crib\", \"good\", \"easy\", \"perfect\", \"seats\", \"super\", \"time\", \"bottle\", \"much\", \"monitor\", \"work\", \"bottom\", \"box\", \"using\", \"put\", \"fit\", \"love\", \"get\", \"set\", \"daughter\", \"buy\", \"son\", \"like\", \"little\", \"baby\", \"one\", \"well\", \"br\"], \"Freq\": [1244.0, 495.0, 771.0, 500.0, 306.0, 1079.0, 349.0, 1026.0, 387.0, 238.0, 892.0, 264.0, 209.0, 194.0, 524.0, 728.0, 119.0, 476.0, 286.0, 322.0, 244.0, 438.0, 288.0, 904.0, 380.0, 386.0, 562.0, 162.0, 102.0, 243.0, 3.0469113432762733, 3.0456301753784403, 3.7936050765854996, 2.9101524452112475, 7.257775271791321, 4.88613980732532, 2.7989538240205367, 2.7913716556154684, 2.0649164362263015, 2.0645047803367986, 2.0643808393369736, 2.064353296892568, 2.0643460410873216, 2.064053439634927, 2.063928462091495, 2.063889517667416, 2.0638853714929897, 2.0636620703845834, 2.0637193764382658, 2.0633539207780887, 2.0585046736308117, 2.049658218180933, 2.0300893114307774, 2.0184358958940605, 1.9841271909795248, 1.9764554355913095, 1.9688942942136907, 1.957486095278778, 3.256692665343364, 1.9315756147430694, 3.80486579017295, 154.7619641350791, 57.36585336399688, 12.194756654557422, 197.11570925994573, 81.95678071903052, 116.51314018593321, 17.118947681527956, 86.04451067095714, 13.467979297567885, 86.63756998397426, 44.67947414608082, 88.96663963715505, 10.577784166803974, 112.353508461721, 94.39892420154939, 289.91065626901604, 46.36680602923316, 255.7791019876547, 6.771866136792605, 210.951915046829, 20.871048367481478, 171.61130623220387, 123.12244548504847, 25.848860091379912, 25.679745928865934, 49.322047529023536, 143.8953195498346, 98.01442620946393, 83.58886660487973, 37.307059520635306, 102.77436712883359, 96.35194768044617, 40.75924490250559, 154.80885618322318, 83.79228029149344, 63.23142500218821, 111.83048395787623, 77.94605588779808, 67.75136165331837, 149.09632813546816, 158.99901322818562, 101.12043682686229, 103.08615944571726, 79.39520308097362, 67.05184753496525, 75.71240036976576, 73.10677851308523, 3.0600958543371317, 3.059857512493375, 2.9917068389922927, 2.074025099991209, 2.0740347530113907, 2.0734655758395912, 2.073298841854636, 2.073061026539253, 2.0734206454183823, 2.071812803275042, 2.0653663408883047, 1.9777279747351302, 1.9280287860470084, 1.8813297560313313, 5.01352629972786, 1.7388046681444378, 1.7140074633735445, 3.489952214421456, 2.2982284283522354, 1.7111370061904494, 2.226488059909799, 3.3298595073513213, 1.0865962534604625, 1.0865407924717827, 1.0865207843935882, 1.0865138517700033, 1.086503847730906, 1.0864873498418681, 1.0864798029351808, 1.0864690091035232, 1.6344581526231012, 3.17012448855628, 1.6075683485862926, 6.415926549222888, 2.072958880034786, 2.0733997597928986, 2.072677889392772, 2.0742227236407453, 8.697988976922252, 36.65449316403078, 2.9941474735131193, 4.035667281895704, 8.758070778608255, 218.0324396923961, 177.88851241786344, 138.54294256518727, 45.88130337005272, 24.616043908503222, 47.55580119733239, 71.3363835805145, 160.85980415143487, 21.80632984673127, 40.661674558880016, 18.38001595764964, 128.0833089968236, 62.726372580546354, 30.328421840923138, 53.87099093405349, 18.201030008461142, 17.04711850651895, 31.20218935847621, 27.405672667919113, 36.2798661201419, 66.28053177095106, 24.167969666694333, 39.33719594542335, 77.51458607927216, 32.435234564772664, 97.82800580011539, 76.15419401851292, 40.114489424186836, 66.772536732097, 56.305012258508505, 57.813281568071694, 58.42906422334564, 37.149165868936, 40.35116041790497, 45.54925351656196, 53.01355562460987, 38.06248058160693, 40.989422324540016, 36.367025520984605, 37.1281917866854, 7.83623349364581, 3.354735934882401, 1.8992040707310607, 1.898887951703309, 1.8986439865889808, 1.8985421222406185, 1.8985319358057822, 1.898421243213895, 6.791952111729553, 2.4747709146661667, 1.7908626777779593, 1.7468832546942032, 1.6964266172459055, 1.6989666047723238, 2.292783125812223, 4.294195506855394, 1.629717353242461, 2.179174327405298, 1.6239879929688137, 1.5699228109797752, 3.183063609039297, 2.095928235314776, 1.5472026471731812, 1.5265238449077714, 2.561098403294654, 2.4853951964264587, 3.429015078160489, 0.9950722431875711, 0.9950332800743225, 0.9949916854654078, 8.098124016903105, 2.438641158267223, 1.9977248916324497, 5.69600037865426, 4.840501477175552, 3.78764549396197, 8.540666887407314, 108.3256229937834, 132.34275899670243, 49.82129864203063, 16.703201089971323, 145.7294511253492, 164.82461047069842, 23.511527556152316, 141.5601623615515, 30.945796861107592, 37.21734846449687, 34.147537298419145, 32.40794685197204, 113.90293239191702, 86.33430539067952, 49.572918047748814, 30.517396157634373, 36.91314077454719, 77.78432810183187, 51.90755655520753, 43.935432625367895, 27.062195490536, 68.74891150719328, 31.187337603944687, 35.013731956475915, 43.35128812420501, 35.958837529730815, 61.0463967018342, 42.252408130662126, 41.07927310173693, 41.89738507098399, 95.29226705120593, 49.84942406770916, 54.956918792899316, 42.579501344210584, 42.13227067639474, 62.84379448688135, 41.196626263815745, 42.88362482629896, 44.32792003418244, 39.91958145041296, 40.15213368315055, 3.0450134078784363, 2.0630753167453446, 2.0626162611915047, 2.062631846410925, 2.0624202652503074, 2.0621737354158376, 1.9647111722036215, 1.9028855513212681, 5.730767672380641, 1.8487053464101912, 1.8178052087989474, 1.7914931079027634, 2.381217345334674, 8.402092542522809, 2.95974084764993, 5.864770963222651, 1.7261633314741394, 6.72587291252717, 1.0808439401195213, 1.0807786081391224, 1.080773176926294, 1.0807705006764945, 1.080748775825181, 1.080737441120148, 1.0807402747964063, 1.080725948988656, 1.080717998952487, 1.0807106786221532, 1.0807080023723536, 1.0807017840272315, 3.70307363739608, 2.1850291864313465, 3.5338373605174707, 5.825789653202191, 2.071478426262791, 2.062994556971984, 2.047519693499102, 1.574086853456872, 2.9624970700904756, 2.0624078285600627, 2.0620073356488935, 2.9054038459858953, 6.206659671135675, 66.80550716628868, 26.60431085134866, 69.68687986333984, 188.1405069951305, 43.05481157877682, 46.153422713668796, 50.05354358615384, 71.48855893540588, 129.12276332298214, 23.809658723093982, 46.70925146025802, 58.87403976291553, 86.546286371895, 38.09124349185408, 52.211308713892684, 31.89383231031957, 74.16994713449992, 36.07906131556022, 82.12250716452797, 24.360338994774835, 45.90117766903912, 58.415961512531666, 33.94701841177646, 32.68681079325773, 44.891467031751624, 92.70027555785941, 45.034284315168534, 43.40867603226314, 31.332477265320893, 86.51636275060764, 43.18014822820936, 54.832371093977294, 65.25035540986896, 60.92320834114403, 36.366930078697216, 44.298430226773796, 47.061156269185275, 37.68061483556206, 37.63641956122638, 37.82039945567678, 4.405998468409779, 3.542030575786089, 2.6784393894648897, 2.6786884447492327, 2.6499354603083796, 2.4235748974044724, 1.8143286363400395, 1.8142642676351437, 1.8141879486221664, 1.814180751277526, 1.814009916191537, 1.8138760184214378, 1.813685220888994, 1.7824293258997614, 2.668072225605938, 2.6784584013186565, 2.1019455278790353, 1.5180924492980234, 1.444801209831781, 2.8517799661822854, 0.9507897326166986, 0.9507487892316226, 0.9507202035514949, 0.9507074384496801, 0.9507159937838752, 0.9506822477434393, 0.9506705690332684, 0.9506808218544068, 0.9506602483126522, 0.9506725381181228, 5.327886788327288, 1.9306701816765197, 1.8582616354208716, 2.36137490182778, 1.8141931089824743, 1.814246342173021, 2.7289954394032443, 10.161174225761238, 1.8143830917211854, 1.814909584271566, 7.553432315712999, 3.9458013385050976, 5.326549983409582, 2.587948125895963, 92.8751696902517, 57.83637534512191, 34.413050140562476, 121.53967405006695, 4.888809111978241, 21.469930018276685, 38.59191209083676, 62.469366384774375, 51.99283113347352, 114.025528915369, 77.86420084922466, 100.65257793921043, 16.383067364065607, 42.22907309410874, 40.740199419668855, 10.070506151952282, 19.273028836167448, 40.30919309003748, 37.942245542272794, 82.53227799340556, 28.9849073289738, 37.626787827876875, 29.750991606088267, 26.51490032431087, 56.417282778747115, 63.44827043934433, 68.76725696412971, 30.600912726355425, 52.071086096360325, 51.86964301219881, 43.46334002290571, 32.26804154171138, 30.894699100240654, 41.10959430639657, 29.48985999223263, 30.430827250600792, 29.764060897563283, 1.8623552749993955, 1.8620048392435, 1.8619554311761284, 1.74696683090697, 1.7465608412021514, 2.74826108366496, 1.5802877515684175, 1.5786199280259163, 1.5167886238896866, 1.5311958958278165, 1.5111029604100088, 1.4995562950652237, 2.9250067554618093, 0.9757129848612881, 0.975691293514637, 0.9756952100077824, 0.9756757480495372, 0.975684725856901, 0.9756720123176139, 0.975646705746521, 0.975640138088785, 0.9756209171455026, 0.9756083241136969, 0.9755952490519656, 0.975600551381147, 0.9755809689154203, 0.9756271232807945, 0.9755812099303831, 0.975569882227132, 0.9755428885512997, 1.8616810356409927, 1.9290180855871784, 1.4463275379958278, 1.8936023828950863, 4.101664941234978, 2.695047149015776, 2.7480010285201106, 2.23418098833491, 1.7635513115114556, 1.8013747536818117, 2.1234382281577275, 3.524292870586715, 6.294479326431569, 1.3562285529339073, 142.9374521411741, 181.82505056891273, 2.0226419144798906, 6.585854847725464, 79.35975647675362, 42.71832109622497, 23.184027512247283, 26.488722491668195, 22.930641733448066, 44.144508821392726, 11.365015259510436, 58.37228149177578, 34.11388254396306, 35.60271102201957, 34.28625258911047, 12.325926491193249, 59.05430756159629, 79.55141928764237, 6.733435057860233, 46.39438928338876, 74.69174011505886, 30.407016500794214, 35.89830334110243, 15.52663701100855, 24.580173204333295, 36.6538987462844, 40.64066028603956, 36.64467076538913, 28.51995417942189, 31.907955498700957, 20.558159852060733, 52.6934907947767, 42.19413861771465, 63.95288462105426, 62.08622566237182, 38.04473246859054, 41.96336197054476, 29.31485816097493, 29.138379292741888, 25.310747400138347, 25.677969366162145, 4.31927707973039, 2.6952051066300293, 2.693818678104683, 1.8260279143470524, 1.8257100924462042, 1.8255687924954707, 1.8252818670853077, 1.8248534357478066, 1.824746945843245, 1.8248892756770012, 1.7776316513377888, 2.675179855157338, 2.691952530067298, 2.6735386335721407, 1.5785403297191245, 1.5783231273896077, 1.5225887418660096, 1.9842776798704909, 2.02256667089361, 1.4287853483329713, 0.956485937497386, 0.9564668846614635, 0.9563964406627012, 0.9563870687271935, 0.9563862448207752, 0.9563880986102163, 0.9563359865292607, 0.9563245548277071, 0.9563210532254295, 0.956302000389507, 1.432617749037561, 1.8255654968697976, 2.693215166653299, 5.449534973694843, 2.217341443798648, 1.3816562533950092, 4.906790328237424, 1.8250909267728732, 1.35916680081357, 1.7409921209640495, 11.291341680005731, 11.243744606222192, 4.428558379237075, 83.41537708268051, 45.061926917021786, 53.2316412486973, 12.541697116935937, 6.389355138140039, 19.94576262926958, 16.466199848304782, 47.095762979904514, 12.571102337004046, 69.81888448453601, 43.954988870320086, 83.98768225456588, 37.86989948877522, 88.075207229386, 23.49318069503038, 15.166742884471272, 9.009991770477995, 51.455476974690455, 19.64570579861215, 37.3106285164269, 62.15374033028694, 40.091480755002294, 21.552975005332854, 19.779671334410246, 61.4038800296384, 53.68060433414177, 29.24530312794638, 30.109432657557814, 18.511102622197733, 36.2056876188831, 25.631848962761126, 28.02034213464013, 22.40167606335574, 24.649375163042016, 22.022125445837805, 31.579054309582595, 24.623109026427525, 27.95272248707976, 26.747236993688617, 22.702223942238465, 1.8692279070944535, 1.8686487010727562, 1.8677438047507635, 2.092604811029128, 1.545782155785652, 1.4992398056131246, 0.9794148658301519, 0.9793990839236253, 0.9794011948792753, 0.9793607851568313, 0.9793518387257429, 0.9792996679646772, 0.9792937371845175, 0.9792905204901936, 0.9792902189251007, 0.9792753417138527, 0.9792722255412264, 0.9792583535469546, 0.979262474936557, 0.9792540311139568, 0.9792611681544879, 0.9792435768574042, 0.9792263876471108, 0.9792261866037155, 0.9792258850386227, 0.9792203563452535, 0.979212515652839, 0.9792111083490722, 0.9792135208698152, 0.9791976384415909, 3.3205262010258516, 1.868370859100529, 2.3091952941139517, 1.8693402903523948, 1.869636427273589, 1.8263226329852824, 3.6477201048738817, 2.122698594776386, 30.403139673776355, 9.919261581942868, 4.131951216224214, 87.69307675437912, 19.002367599595036, 4.530952392681667, 2.4650288548089287, 111.35010719157195, 27.623031186986605, 1.868323814946042, 20.522583770459413, 19.62086071741747, 22.085316598549955, 23.145886450694785, 25.66795171882118, 7.7508412961333395, 6.695014861855889, 36.452709138156635, 75.58614055857744, 69.73472911463246, 75.52439289433583, 34.27257204327229, 25.083073056683514, 19.50522859820903, 29.078623968883807, 39.493955303549335, 23.363421837737256, 31.160153299268952, 45.420013355974774, 40.07618662625843, 34.75085910559885, 17.830751026000485, 25.50524649487677, 40.31356901727937, 24.39656937077083, 23.779485165062265, 21.865326873738347, 22.702172418961524, 30.39658726743857, 37.14106563999988, 24.51488742973973, 24.265604878067517, 23.63626185029056, 1.7835453185084573, 1.782929736228495, 1.7683142262464, 2.631350942312982, 1.5056916620053906, 1.8835907950289263, 0.934428996511752, 0.9343806938891318, 0.9343603083748035, 0.9343167255510673, 0.9343145162835046, 0.9342995535168301, 0.9342895113915453, 0.9342778625262148, 0.9342713351447797, 0.9342568744843694, 0.9342358864425241, 0.9342345809662371, 0.9342309658011345, 0.9342226308371481, 0.9342335767537086, 0.9342092748105192, 0.9342211245183554, 0.9342141954519088, 0.9341739265295165, 0.9341663949355529, 0.934156352810268, 0.9341491224800629, 0.9341436997324091, 0.9341586624990835, 1.3870196498215466, 1.4006347632827636, 1.7830279482137812, 1.714170099348005, 1.7073854386630458, 3.297224386544175, 1.9704690368758833, 2.2696217398443856, 2.5514276755958156, 33.5164913059153, 3.5343958871994694, 15.252765578532014, 8.292938897174064, 25.257757494201527, 39.06873899393475, 2.836074126905322, 55.91339030632346, 57.795859797643075, 5.09882243367723, 1.848673120358424, 2.553555601943678, 17.933495659295723, 2.7363407596387064, 18.408107387878935, 19.06702666035036, 34.9782391297804, 39.38880803797409, 24.205416674389994, 35.58676942768245, 21.31295039042001, 32.05261615822986, 79.4480701352068, 20.412803201205723, 27.381038756592204, 30.564119326085983, 16.9869972332466, 17.663078096144844, 60.30124312375276, 34.19146673166219, 46.69781387614712, 56.53331560462875, 36.82712132718725, 24.38911365706089, 35.52837406746596, 30.199864930793257, 18.541400935320045, 40.88563099703415, 32.6841517601045, 24.147119325316286, 33.67603095200093, 29.469730119281675, 23.15527869518095, 21.288108582575326, 23.015105086864676, 1.718948556319672, 1.5461885383895273, 1.3792774189385035, 0.9008739057546222, 0.9008575620946757, 0.9007300104877018, 0.9007334213384733, 0.9007283761217072, 0.9007157275500964, 0.9007091190267267, 0.9007055660571731, 0.9006762895880516, 0.9006537637610817, 0.9006313800528941, 0.9006271164894298, 0.9006204369066692, 0.9006144679178191, 0.9005701979171813, 0.9005679240166671, 0.9005572651080063, 0.9005405661511043, 0.9005463219617812, 0.9005325364399133, 0.9005358762312936, 0.9005319679647847, 0.900525359441415, 0.9005327496180865, 0.9005183956210899, 0.9005319679647847, 0.9005225881251632, 1.3452605778385147, 1.7187716184359032, 1.7459623523107513, 1.7157294237853367, 2.5379725603494414, 3.6325310586855615, 1.719248426949995, 1.2932713955486421, 1.5950599188367327, 2.9965102838089392, 2.3340730381825874, 1.5582244359304893, 2.5374086330218955, 9.084310435713535, 1.7449186319746885, 21.138033651282246, 3.883277763485549, 1.7187520060439674, 28.55510147023317, 23.958638970630986, 22.67450595489296, 1.4419411429551843, 12.437970903800705, 24.593994061132047, 65.5948170250689, 31.10081040860738, 16.955791691066146, 17.813199988489963, 16.52535710406286, 19.7028931762902, 34.38030249514456, 43.346988036579354, 26.62761378198478, 8.665584730933496, 19.40652662665967, 21.970037932160324, 13.316577638769063, 20.25122609410907, 11.441019016565702, 18.14900393169022, 11.490791287972916, 10.034575166064098, 17.233546364987145, 20.327647342593604, 17.612272454295294, 29.40164734490018, 22.08886742523651, 13.044648697965696, 17.267693529010362, 15.545271873892663, 17.628368259085754, 22.91656039073948, 20.37360059808705, 21.5068284800942, 20.48438730504417, 17.860855258518363, 19.494440168343463], \"Total\": [1244.0, 495.0, 771.0, 500.0, 306.0, 1079.0, 349.0, 1026.0, 387.0, 238.0, 892.0, 264.0, 209.0, 194.0, 524.0, 728.0, 119.0, 476.0, 286.0, 322.0, 244.0, 438.0, 288.0, 904.0, 380.0, 386.0, 562.0, 162.0, 102.0, 243.0, 3.853374418932362, 3.8521075455622573, 4.8114671038357395, 3.8408700370923055, 9.601755607045051, 6.694153787575787, 3.852593718711989, 3.8444496857803894, 2.871378873194254, 2.8709654743075452, 2.8708262592941725, 2.870818670656212, 2.870813332790647, 2.8705039212360806, 2.8703894262390492, 2.870344883033396, 2.870356321499207, 2.870125656725497, 2.870220484709721, 2.869835322624974, 2.8707237631653837, 2.8697975417366006, 2.8669613604131685, 2.86490740653257, 2.8697963396734827, 2.860360880506371, 2.8618276078351976, 2.860257516118046, 4.768136534392417, 2.852873147641561, 5.790442003326872, 359.49622059493737, 127.67855680705215, 22.50084906934566, 562.4206679248841, 211.11361385400932, 329.3232538731461, 36.21580411805872, 254.26733229601564, 27.377416752476734, 267.2584687497232, 119.44719008812746, 278.83589424440834, 20.851434109705938, 374.8256442585543, 308.3701335277373, 1244.5149234905932, 130.85875933032347, 1079.6101499640479, 12.270595258601794, 904.8730307088445, 50.25702292218457, 728.1953486073637, 476.4045910829173, 66.08285381671625, 65.60000034255171, 152.23325683316017, 622.3825748430969, 386.13387327002124, 313.10994148837733, 108.40246037567022, 420.34524079671496, 387.74098867171017, 122.31321773297698, 771.1928320146806, 333.3394412522606, 228.77066900168407, 524.0848370833554, 325.5444478343773, 264.1779145028684, 892.6949510220155, 1026.1751156672058, 500.9715765675823, 562.7462356308297, 349.0242349924928, 265.16949020449965, 495.2709142474661, 438.77267573048164, 3.8661765103903316, 3.865906567162534, 3.8600911526438058, 2.880031527436081, 2.880050261128516, 2.8794832060127113, 2.8793025768371523, 2.8790764016837045, 2.879915316445192, 2.8781160536767763, 2.8782237044732475, 2.8788942675647564, 2.861630591626246, 2.859951793781163, 7.664717881627808, 2.845854474544032, 2.823966175941359, 5.762264762189615, 3.8087599560755283, 2.8451741307325653, 3.7959176705324604, 5.7063357658839395, 1.892599587544736, 1.8925410470458097, 1.8925170430397764, 1.8925147325879426, 1.8925037391505308, 1.8924852537411214, 1.8924761877637817, 1.8924684170804809, 2.8590158061568443, 5.655836605292173, 2.8382674025131363, 12.233136486362293, 3.7433072367036293, 3.7686340162654437, 3.774078511076096, 3.8052046205583796, 18.91918198832582, 102.39782325990807, 5.795437760204972, 8.510833900384233, 22.24060189672244, 1244.5149234905932, 1026.1751156672058, 771.1928320146806, 187.30382450411503, 84.75337240670909, 199.17669138856175, 349.0242349924928, 1079.6101499640479, 75.36405238214269, 179.4618328118614, 61.36119145106968, 892.6949510220155, 333.3394412522606, 122.63899750545845, 294.8353920120749, 62.63868169543969, 57.6975725885734, 139.28393360352715, 115.78768030160929, 175.16572163201363, 420.34524079671496, 98.89613481409758, 202.83626328793142, 562.4206679248841, 156.76158658866393, 904.8730307088445, 622.3825748430969, 233.4319728998585, 562.7462356308297, 438.77267573048164, 500.9715765675823, 524.0848370833554, 240.19394913584193, 286.9004922248996, 380.007742762787, 728.1953486073637, 288.4368652732268, 386.13387327002124, 359.49622059493737, 476.4045910829173, 9.966386232667485, 4.5152270782180395, 2.7135334813377887, 2.7132309193641566, 2.7129989650837283, 2.7128797304802825, 2.712874518475357, 2.712786383602459, 9.873921363261626, 3.631399838720506, 2.7111075999403837, 2.7271217652439392, 2.702732498541239, 2.7094776226718773, 3.663534659837973, 7.153993104670787, 2.7374897558112368, 3.6708040656323626, 2.7366402529555853, 2.700004089140546, 5.487565827176445, 3.6159551885171495, 2.69755391142907, 2.698301501612875, 4.558529617417599, 4.502137208699855, 6.222130508604459, 1.8093986584266706, 1.809362036110306, 1.8093219859098673, 14.733456941721709, 4.452504788950523, 3.6500527206497178, 10.83490998623426, 9.220583923330741, 7.361556475257889, 19.715201426449347, 438.77267573048164, 728.1953486073637, 209.76933733142857, 53.24113288185257, 892.6949510220155, 1079.6101499640479, 90.3886287228898, 1026.1751156672058, 133.44053141081935, 181.03977814584601, 162.6070493101196, 152.23325683316017, 904.8730307088445, 622.3825748430969, 288.4368652732268, 144.05057611719147, 189.84888155845505, 562.7462356308297, 322.1466878068621, 254.65966015896714, 126.75101440094203, 500.9715765675823, 156.7730181181239, 190.05584342462552, 269.9022033110721, 201.21696945228535, 476.4045910829173, 265.16949020449965, 255.32461582515714, 264.76567141249, 1244.5149234905932, 380.007742762787, 495.2709142474661, 295.1953859046378, 294.8353920120749, 771.1928320146806, 292.5400723916173, 374.8256442585543, 420.34524079671496, 349.0242349924928, 524.0848370833554, 3.851549798077884, 2.8696051884309264, 2.869138084967185, 2.869174616405528, 2.86900576933196, 2.8687043179212517, 2.859629828605807, 2.8568619436938594, 8.632224177289094, 2.8474878192768784, 2.8529473179776663, 2.838246372423035, 3.7882334363014936, 13.468905541472816, 4.749048018551724, 9.514348845754583, 2.866480007027502, 11.463874034158009, 1.8873619612575996, 1.8872984129988306, 1.8872917501616568, 1.8872900190573496, 1.8872694210956513, 1.8872555070760584, 1.8872604757448055, 1.8872442336226873, 1.8872358220929528, 1.887230151430989, 1.8872289884024709, 1.8872202258760595, 6.575349406769104, 3.8560093622094955, 6.551816089012466, 11.256770577584017, 3.750564429100468, 3.7558653145215297, 3.738115625357902, 2.8301383289904036, 5.640670819964902, 3.8297056155411924, 3.85090724809656, 5.686944763644548, 13.487786076773183, 243.5510221002734, 86.9906131266219, 286.9004922248996, 1026.1751156672058, 167.37270454755284, 194.55253142321095, 217.91411755864524, 387.74098867171017, 892.6949510220155, 93.49750655395155, 233.4319728998585, 329.3232538731461, 562.7462356308297, 181.39672686481637, 288.4368652732268, 152.6775505840821, 524.0848370833554, 183.0156575348603, 622.3825748430969, 104.94858687468549, 267.2584687497232, 386.13387327002124, 175.16572163201363, 166.33846478815835, 269.9022033110721, 904.8730307088445, 292.5400723916173, 278.83589424440834, 161.3795708700645, 1079.6101499640479, 298.3813078861095, 476.4045910829173, 771.1928320146806, 728.1953486073637, 254.65966015896714, 562.4206679248841, 1244.5149234905932, 380.007742762787, 374.8256442585543, 438.77267573048164, 5.224374501586153, 4.360447150683531, 3.4968195546702234, 3.497147298650628, 3.4968458772353186, 3.5144743189746146, 2.632713400256043, 2.632654865681679, 2.632553731619887, 2.632545961375374, 2.6323882618217094, 2.6322500066052315, 2.632192804470838, 2.6333815424748668, 4.443972023780559, 4.479533658016295, 3.5232003857226504, 2.6419535433183206, 2.648157832364875, 5.268408188116007, 1.769154904016822, 1.7691078619798384, 1.7690820364200435, 1.7690688362764475, 1.7690856136106021, 1.769049085243831, 1.769030016947601, 1.7690560555724621, 1.769022232223015, 1.7690473655676422, 10.011521777031918, 3.59956498345576, 3.4690972426657853, 4.487631457672375, 3.4509958534897525, 3.481403811195685, 5.36482175972287, 21.88860866086685, 3.501844432098501, 3.5198064772366924, 17.417642905222582, 8.889923097043429, 13.162670107170795, 5.415056876216477, 524.0848370833554, 325.5444478343773, 167.26339331587047, 904.8730307088445, 12.59958023678868, 94.05669255728684, 217.71464314398634, 495.2709142474661, 380.007742762787, 1244.5149234905932, 728.1953486073637, 1079.6101499640479, 71.8051678175199, 306.4858613597279, 294.8353920120749, 35.6634229195302, 97.24838605338569, 313.10994148837733, 295.1953859046378, 1026.1751156672058, 199.17669138856175, 308.3701335277373, 211.11361385400932, 175.76869821609316, 622.3825748430969, 771.1928320146806, 892.6949510220155, 224.2328143266614, 562.7462356308297, 562.4206679248841, 420.34524079671496, 264.76567141249, 254.26733229601564, 476.4045910829173, 243.5510221002734, 329.3232538731461, 500.9715765675823, 2.6784565831038334, 2.6781163302885163, 2.6780739662505706, 2.6791608011607484, 2.690696642267542, 4.551029957831513, 2.666580832953122, 2.7071058848454084, 2.663679784619963, 2.6926026258659927, 2.7119327957799606, 2.7049546897365273, 5.367420616349682, 1.7918039281864255, 1.7917746981164155, 1.791785545207445, 1.7917683687959147, 1.7917851732066647, 1.7917645690279747, 1.7917325297692885, 1.791730402984557, 1.791707970797499, 1.7916931883678122, 1.791679505808618, 1.7917010670538212, 1.7916669047448532, 1.7917615560549953, 1.7916812634704187, 1.7916775834245702, 1.791634824613189, 3.4962018224122624, 3.628642786513094, 2.7154022249848278, 3.6259921134362676, 8.297341934727967, 5.362108600648012, 5.53375142797536, 4.464159498077277, 3.5439753471191118, 3.65581303311745, 4.443559737572056, 8.114814951221126, 16.1012812461427, 2.657831925023283, 771.1928320146806, 1244.5149234905932, 4.539834227556598, 20.645442818676592, 562.7462356308297, 264.1779145028684, 117.7378203501132, 144.52675761639856, 121.1618598228404, 306.4858613597279, 46.37635877187318, 476.4045910829173, 222.2701857411697, 240.19394913584193, 244.11441814013025, 55.14876175366455, 562.4206679248841, 892.6949510220155, 22.856830469442183, 420.34524079671496, 904.8730307088445, 224.2328143266614, 292.5400723916173, 80.52834539986709, 166.28124879202582, 322.1466878068621, 387.74098867171017, 333.3394412522606, 225.98692861476033, 286.9004922248996, 141.5929645119038, 728.1953486073637, 495.2709142474661, 1079.6101499640479, 1026.1751156672058, 438.77267573048164, 622.3825748430969, 374.8256442585543, 524.0848370833554, 238.4212879333059, 325.5444478343773, 5.266099044692649, 3.5130487793545284, 3.5119548487677763, 2.6438738428923756, 2.6435565314767095, 2.6434112791214575, 2.643141350229307, 2.6427136856051257, 2.6425937823763084, 2.642806440725085, 2.649550721200637, 4.331594042585086, 4.435334579051742, 4.49593709783531, 2.6711467234073405, 2.676147867688162, 2.650438341962996, 3.496428312368931, 3.6005693268689067, 2.6396685583711537, 1.7743286607211468, 1.7743133112496303, 1.7742299398506078, 1.774219737961705, 1.7742196254659834, 1.7742266713331496, 1.774173516493513, 1.7741599752883983, 1.774163170912144, 1.7741446709122237, 2.6765035484104858, 3.461870695312474, 5.294972311117524, 11.670418842338952, 4.450962044575046, 2.6542795587568095, 10.765082688351757, 3.6297457557480657, 2.6326022089927195, 3.595126786392409, 35.68945889225889, 35.63812020723166, 11.502935932539689, 500.9715765675823, 238.4212879333059, 306.4858613597279, 46.95055250269317, 19.614482517934537, 102.39782325990807, 79.06000915856922, 380.007742762787, 54.93872244701301, 728.1953486073637, 386.13387327002124, 1079.6101499640479, 313.10994148837733, 1244.5149234905932, 158.3489316402101, 78.65624481246077, 34.696338646204175, 622.3825748430969, 128.4794297215039, 374.8256442585543, 904.8730307088445, 438.77267573048164, 161.3795708700645, 140.20575085500766, 1026.1751156672058, 892.6949510220155, 295.1953859046378, 322.1466878068621, 128.71246415229368, 495.2709142474661, 265.16949020449965, 333.3394412522606, 202.14354293195703, 298.3813078861095, 243.5510221002734, 771.1928320146806, 349.0242349924928, 562.7462356308297, 562.4206679248841, 359.49622059493737, 2.684991698048632, 2.684424924024022, 2.6835306878264364, 3.5922941509468824, 2.7202874490857605, 2.687259332491227, 1.7951627086378006, 1.795146632470971, 1.7951583018437465, 1.795107412774748, 1.795105018372637, 1.7950468738123333, 1.7950420705478227, 1.7950402011815099, 1.795042671295074, 1.7950252458779834, 1.7950270959627075, 1.7950060507013075, 1.7950149434575808, 1.7950030018826302, 1.795021189544996, 1.794998146810827, 1.79497691641272, 1.7949787211921546, 1.7949803764818766, 1.7949726785792761, 1.794962907097293, 1.794963616754401, 1.7949737341927334, 1.7949524673886952, 6.311223296484179, 3.548032984204818, 4.57353090992063, 3.667249490478168, 3.6728553054123987, 3.594173291276399, 8.037824488660844, 4.498947399639958, 119.4194987261416, 30.976089872845403, 10.709230982658958, 495.2709142474661, 80.40857220398638, 14.478808086645989, 6.316046184691982, 1244.5149234905932, 183.0156575348603, 4.385261254807334, 122.84978508482259, 115.77904483900814, 137.67019814405282, 148.93989650097194, 179.13783314042826, 33.12637965442946, 27.110618771594492, 306.4858613597279, 892.6949510220155, 904.8730307088445, 1026.1751156672058, 313.10994148837733, 202.83626328793142, 144.05057611719147, 295.1953859046378, 524.0848370833554, 225.98692861476033, 380.007742762787, 771.1928320146806, 622.3825748430969, 500.9715765675823, 157.09094292923268, 308.3701335277373, 728.1953486073637, 292.5400723916173, 278.83589424440834, 244.11441814013025, 265.16949020449965, 562.4206679248841, 1079.6101499640479, 387.74098867171017, 386.13387327002124, 438.77267573048164, 2.603404222167878, 2.6027817977923298, 2.603466281231201, 4.433035194235589, 2.6385291712947803, 3.5089777319449476, 1.7542746068333834, 1.7542292573912324, 1.7542066542799946, 1.7541621952068183, 1.7541744553706253, 1.7541477644245174, 1.754141686025884, 1.7541279344475527, 1.7541229420899036, 1.754103536728556, 1.7540787652995538, 1.7540814936174334, 1.7540813301951883, 1.7540684688241803, 1.7540902182632345, 1.7540587898752433, 1.7540810480113758, 1.7540924955385446, 1.754025598164636, 1.7540178521949026, 1.7540035981118784, 1.7539935347836226, 1.7539908078803441, 1.7540214139243326, 2.633909846553849, 2.662011159136701, 3.499078704534445, 3.563180220164238, 3.5466262098433234, 8.064676968873313, 4.385551771708725, 5.252275548837521, 6.29747446115838, 189.84888155845505, 9.896587972424166, 67.94798467235539, 32.32166861569006, 147.7586205233742, 288.4368652732268, 7.971479472433861, 476.4045910829173, 500.9715765675823, 18.295170967097093, 4.4859247401783895, 7.1153412695034035, 116.24763091624641, 7.994790634463831, 122.63899750545845, 129.80158405820674, 322.1466878068621, 387.74098867171017, 190.579539333475, 349.0242349924928, 160.54481896380858, 298.3813078861095, 1244.5149234905932, 158.3489316402101, 254.26733229601564, 308.3701335277373, 129.78291324532563, 141.5929645119038, 1079.6101499640479, 420.34524079671496, 728.1953486073637, 1026.1751156672058, 524.0848370833554, 255.32461582515714, 495.2709142474661, 386.13387327002124, 167.37270454755284, 904.8730307088445, 562.7462356308297, 325.5444478343773, 892.6949510220155, 622.3825748430969, 438.77267573048164, 306.4858613597279, 771.1928320146806, 2.5418604652211836, 2.560544151663594, 2.5610775741902936, 1.72378474562844, 1.723761031203077, 1.7236313171698212, 1.7236440441219076, 1.7236397702539783, 1.7236201960440267, 1.7236181690380876, 1.7236259702205072, 1.723583199543846, 1.723559793342663, 1.7235317974156388, 1.7235306677841478, 1.723523466797035, 1.7235158885176443, 1.7234703818428594, 1.7234686571231852, 1.7234657901760015, 1.723441321019219, 1.723458295294603, 1.7234337197973306, 1.7234417475763444, 1.7234363354209705, 1.7234277854604532, 1.723454114794004, 1.7234281827959899, 1.7234562484236688, 1.7234464432298395, 2.5866377573635084, 3.3908292514115725, 3.4497137192248077, 3.411436433413526, 5.207191587924051, 7.965664257703176, 3.524151647196512, 2.5808514423038194, 3.4453003299297436, 8.039423906859577, 6.0670735064102885, 3.5468207957726303, 7.026965245923178, 40.672098517464185, 4.291617713948709, 162.69149992798845, 14.124327019557612, 4.353812608559728, 264.1779145028684, 209.76933733142857, 194.55253142321095, 3.4397964899462723, 82.00487651236504, 244.11441814013025, 1079.6101499640479, 349.0242349924928, 144.46182783650366, 155.8111351705272, 139.06163979215216, 187.27882281375796, 495.2709142474661, 771.1928320146806, 387.74098867171017, 60.32635137980852, 238.4212879333059, 374.8256442585543, 148.93989650097194, 325.5444478343773, 115.77904483900814, 278.83589424440834, 118.89193541764573, 92.23028108587603, 264.76567141249, 386.13387327002124, 298.3813078861095, 892.6949510220155, 524.0848370833554, 164.72296797214997, 322.1466878068621, 255.32461582515714, 359.49622059493737, 728.1953486073637, 562.4206679248841, 1026.1751156672058, 904.8730307088445, 562.7462356308297, 1244.5149234905932], \"Category\": [\"Default\", \"Default\", \"Default\", \"Default\", \"Default\", \"Default\", \"Default\", \"Default\", \"Default\", \"Default\", \"Default\", \"Default\", \"Default\", \"Default\", \"Default\", \"Default\", \"Default\", \"Default\", \"Default\", \"Default\", \"Default\", \"Default\", \"Default\", \"Default\", \"Default\", \"Default\", \"Default\", \"Default\", \"Default\", \"Default\", \"Topic1\", \"Topic1\", \"Topic1\", \"Topic1\", \"Topic1\", \"Topic1\", \"Topic1\", \"Topic1\", \"Topic1\", \"Topic1\", \"Topic1\", \"Topic1\", \"Topic1\", \"Topic1\", \"Topic1\", \"Topic1\", \"Topic1\", \"Topic1\", \"Topic1\", \"Topic1\", \"Topic1\", \"Topic1\", \"Topic1\", \"Topic1\", \"Topic1\", \"Topic1\", \"Topic1\", \"Topic1\", \"Topic1\", \"Topic1\", \"Topic1\", \"Topic1\", \"Topic1\", \"Topic1\", \"Topic1\", \"Topic1\", \"Topic1\", \"Topic1\", \"Topic1\", \"Topic1\", \"Topic1\", \"Topic1\", \"Topic1\", \"Topic1\", \"Topic1\", \"Topic1\", \"Topic1\", \"Topic1\", \"Topic1\", \"Topic1\", \"Topic1\", \"Topic1\", \"Topic1\", \"Topic1\", \"Topic1\", \"Topic1\", \"Topic1\", \"Topic1\", \"Topic1\", \"Topic1\", \"Topic1\", \"Topic1\", \"Topic1\", \"Topic1\", \"Topic1\", \"Topic1\", \"Topic1\", \"Topic1\", \"Topic1\", \"Topic1\", \"Topic1\", \"Topic1\", \"Topic1\", \"Topic1\", \"Topic1\", \"Topic1\", \"Topic1\", \"Topic1\", \"Topic2\", \"Topic2\", \"Topic2\", \"Topic2\", \"Topic2\", \"Topic2\", \"Topic2\", \"Topic2\", \"Topic2\", \"Topic2\", \"Topic2\", \"Topic2\", \"Topic2\", \"Topic2\", \"Topic2\", \"Topic2\", \"Topic2\", \"Topic2\", \"Topic2\", \"Topic2\", \"Topic2\", \"Topic2\", \"Topic2\", \"Topic2\", \"Topic2\", \"Topic2\", \"Topic2\", \"Topic2\", \"Topic2\", \"Topic2\", \"Topic2\", \"Topic2\", \"Topic2\", \"Topic2\", \"Topic2\", \"Topic2\", \"Topic2\", \"Topic2\", \"Topic2\", \"Topic2\", \"Topic2\", \"Topic2\", \"Topic2\", \"Topic2\", \"Topic2\", \"Topic2\", \"Topic2\", \"Topic2\", \"Topic2\", \"Topic2\", \"Topic2\", \"Topic2\", \"Topic2\", \"Topic2\", \"Topic2\", \"Topic2\", \"Topic2\", \"Topic2\", \"Topic2\", \"Topic2\", \"Topic2\", \"Topic2\", \"Topic2\", \"Topic2\", \"Topic2\", \"Topic2\", \"Topic2\", \"Topic2\", \"Topic2\", \"Topic2\", \"Topic2\", \"Topic2\", \"Topic2\", \"Topic2\", \"Topic2\", \"Topic2\", \"Topic2\", \"Topic2\", \"Topic2\", \"Topic2\", \"Topic2\", \"Topic2\", \"Topic2\", \"Topic3\", \"Topic3\", \"Topic3\", \"Topic3\", \"Topic3\", \"Topic3\", \"Topic3\", \"Topic3\", \"Topic3\", \"Topic3\", \"Topic3\", \"Topic3\", \"Topic3\", \"Topic3\", \"Topic3\", \"Topic3\", \"Topic3\", \"Topic3\", \"Topic3\", \"Topic3\", \"Topic3\", \"Topic3\", \"Topic3\", \"Topic3\", \"Topic3\", \"Topic3\", \"Topic3\", \"Topic3\", \"Topic3\", \"Topic3\", \"Topic3\", \"Topic3\", \"Topic3\", \"Topic3\", \"Topic3\", \"Topic3\", \"Topic3\", \"Topic3\", \"Topic3\", \"Topic3\", \"Topic3\", \"Topic3\", \"Topic3\", \"Topic3\", \"Topic3\", \"Topic3\", \"Topic3\", \"Topic3\", \"Topic3\", \"Topic3\", \"Topic3\", \"Topic3\", \"Topic3\", \"Topic3\", \"Topic3\", \"Topic3\", \"Topic3\", \"Topic3\", \"Topic3\", \"Topic3\", \"Topic3\", \"Topic3\", \"Topic3\", \"Topic3\", \"Topic3\", \"Topic3\", \"Topic3\", \"Topic3\", \"Topic3\", \"Topic3\", \"Topic3\", \"Topic3\", \"Topic3\", \"Topic3\", \"Topic3\", \"Topic3\", \"Topic3\", \"Topic3\", \"Topic4\", \"Topic4\", \"Topic4\", \"Topic4\", \"Topic4\", \"Topic4\", \"Topic4\", \"Topic4\", \"Topic4\", \"Topic4\", \"Topic4\", \"Topic4\", \"Topic4\", \"Topic4\", \"Topic4\", \"Topic4\", \"Topic4\", \"Topic4\", \"Topic4\", \"Topic4\", \"Topic4\", \"Topic4\", \"Topic4\", \"Topic4\", \"Topic4\", \"Topic4\", \"Topic4\", \"Topic4\", \"Topic4\", \"Topic4\", \"Topic4\", \"Topic4\", \"Topic4\", \"Topic4\", \"Topic4\", \"Topic4\", \"Topic4\", \"Topic4\", \"Topic4\", \"Topic4\", \"Topic4\", \"Topic4\", \"Topic4\", \"Topic4\", \"Topic4\", \"Topic4\", \"Topic4\", \"Topic4\", \"Topic4\", \"Topic4\", \"Topic4\", \"Topic4\", \"Topic4\", \"Topic4\", \"Topic4\", \"Topic4\", \"Topic4\", \"Topic4\", \"Topic4\", \"Topic4\", \"Topic4\", \"Topic4\", \"Topic4\", \"Topic4\", \"Topic4\", \"Topic4\", \"Topic4\", \"Topic4\", \"Topic4\", \"Topic4\", \"Topic4\", \"Topic4\", \"Topic4\", \"Topic4\", \"Topic4\", \"Topic4\", \"Topic4\", \"Topic4\", \"Topic4\", \"Topic4\", \"Topic4\", \"Topic4\", \"Topic4\", \"Topic5\", \"Topic5\", \"Topic5\", \"Topic5\", \"Topic5\", \"Topic5\", \"Topic5\", \"Topic5\", \"Topic5\", \"Topic5\", \"Topic5\", \"Topic5\", \"Topic5\", \"Topic5\", \"Topic5\", \"Topic5\", \"Topic5\", \"Topic5\", \"Topic5\", \"Topic5\", \"Topic5\", \"Topic5\", \"Topic5\", \"Topic5\", \"Topic5\", \"Topic5\", \"Topic5\", \"Topic5\", \"Topic5\", \"Topic5\", \"Topic5\", \"Topic5\", \"Topic5\", \"Topic5\", \"Topic5\", \"Topic5\", \"Topic5\", \"Topic5\", \"Topic5\", \"Topic5\", \"Topic5\", \"Topic5\", \"Topic5\", \"Topic5\", \"Topic5\", \"Topic5\", \"Topic5\", \"Topic5\", \"Topic5\", \"Topic5\", \"Topic5\", \"Topic5\", \"Topic5\", \"Topic5\", \"Topic5\", \"Topic5\", \"Topic5\", \"Topic5\", \"Topic5\", \"Topic5\", \"Topic5\", \"Topic5\", \"Topic5\", \"Topic5\", \"Topic5\", \"Topic5\", \"Topic5\", \"Topic5\", \"Topic5\", \"Topic5\", \"Topic5\", \"Topic5\", \"Topic5\", \"Topic5\", \"Topic5\", \"Topic5\", \"Topic5\", \"Topic5\", \"Topic5\", \"Topic5\", \"Topic5\", \"Topic6\", \"Topic6\", \"Topic6\", \"Topic6\", \"Topic6\", \"Topic6\", \"Topic6\", \"Topic6\", \"Topic6\", \"Topic6\", \"Topic6\", \"Topic6\", \"Topic6\", \"Topic6\", \"Topic6\", \"Topic6\", \"Topic6\", \"Topic6\", \"Topic6\", \"Topic6\", \"Topic6\", \"Topic6\", \"Topic6\", \"Topic6\", \"Topic6\", \"Topic6\", \"Topic6\", \"Topic6\", \"Topic6\", \"Topic6\", \"Topic6\", \"Topic6\", \"Topic6\", \"Topic6\", \"Topic6\", \"Topic6\", \"Topic6\", \"Topic6\", \"Topic6\", \"Topic6\", \"Topic6\", \"Topic6\", \"Topic6\", \"Topic6\", \"Topic6\", \"Topic6\", \"Topic6\", \"Topic6\", \"Topic6\", \"Topic6\", \"Topic6\", \"Topic6\", \"Topic6\", \"Topic6\", \"Topic6\", \"Topic6\", \"Topic6\", \"Topic6\", \"Topic6\", \"Topic6\", \"Topic6\", \"Topic6\", \"Topic6\", \"Topic6\", \"Topic6\", \"Topic6\", \"Topic6\", \"Topic6\", \"Topic6\", \"Topic6\", \"Topic6\", \"Topic6\", \"Topic6\", \"Topic6\", \"Topic6\", \"Topic6\", \"Topic6\", \"Topic6\", \"Topic6\", \"Topic6\", \"Topic6\", \"Topic6\", \"Topic6\", \"Topic6\", \"Topic6\", \"Topic7\", \"Topic7\", \"Topic7\", \"Topic7\", \"Topic7\", \"Topic7\", \"Topic7\", \"Topic7\", \"Topic7\", \"Topic7\", \"Topic7\", \"Topic7\", \"Topic7\", \"Topic7\", \"Topic7\", \"Topic7\", \"Topic7\", \"Topic7\", \"Topic7\", \"Topic7\", \"Topic7\", \"Topic7\", \"Topic7\", \"Topic7\", \"Topic7\", \"Topic7\", \"Topic7\", \"Topic7\", \"Topic7\", \"Topic7\", \"Topic7\", \"Topic7\", \"Topic7\", \"Topic7\", \"Topic7\", \"Topic7\", \"Topic7\", \"Topic7\", \"Topic7\", \"Topic7\", \"Topic7\", \"Topic7\", \"Topic7\", \"Topic7\", \"Topic7\", \"Topic7\", \"Topic7\", \"Topic7\", \"Topic7\", \"Topic7\", \"Topic7\", \"Topic7\", \"Topic7\", \"Topic7\", \"Topic7\", \"Topic7\", \"Topic7\", \"Topic7\", \"Topic7\", \"Topic7\", \"Topic7\", \"Topic7\", \"Topic7\", \"Topic7\", \"Topic7\", \"Topic7\", \"Topic7\", \"Topic7\", \"Topic7\", \"Topic7\", \"Topic7\", \"Topic7\", \"Topic7\", \"Topic7\", \"Topic7\", \"Topic7\", \"Topic7\", \"Topic7\", \"Topic7\", \"Topic7\", \"Topic7\", \"Topic7\", \"Topic7\", \"Topic8\", \"Topic8\", \"Topic8\", \"Topic8\", \"Topic8\", \"Topic8\", \"Topic8\", \"Topic8\", \"Topic8\", \"Topic8\", \"Topic8\", \"Topic8\", \"Topic8\", \"Topic8\", \"Topic8\", \"Topic8\", \"Topic8\", \"Topic8\", \"Topic8\", \"Topic8\", \"Topic8\", \"Topic8\", \"Topic8\", \"Topic8\", \"Topic8\", \"Topic8\", \"Topic8\", \"Topic8\", \"Topic8\", \"Topic8\", \"Topic8\", \"Topic8\", \"Topic8\", \"Topic8\", \"Topic8\", \"Topic8\", \"Topic8\", \"Topic8\", \"Topic8\", \"Topic8\", \"Topic8\", \"Topic8\", \"Topic8\", \"Topic8\", \"Topic8\", \"Topic8\", \"Topic8\", \"Topic8\", \"Topic8\", \"Topic8\", \"Topic8\", \"Topic8\", \"Topic8\", \"Topic8\", \"Topic8\", \"Topic8\", \"Topic8\", \"Topic8\", \"Topic8\", \"Topic8\", \"Topic8\", \"Topic8\", \"Topic8\", \"Topic8\", \"Topic8\", \"Topic8\", \"Topic8\", \"Topic8\", \"Topic8\", \"Topic8\", \"Topic8\", \"Topic8\", \"Topic8\", \"Topic8\", \"Topic8\", \"Topic8\", \"Topic8\", \"Topic8\", \"Topic8\", \"Topic8\", \"Topic8\", \"Topic9\", \"Topic9\", \"Topic9\", \"Topic9\", \"Topic9\", \"Topic9\", \"Topic9\", \"Topic9\", \"Topic9\", \"Topic9\", \"Topic9\", \"Topic9\", \"Topic9\", \"Topic9\", \"Topic9\", \"Topic9\", \"Topic9\", \"Topic9\", \"Topic9\", \"Topic9\", \"Topic9\", \"Topic9\", \"Topic9\", \"Topic9\", \"Topic9\", \"Topic9\", \"Topic9\", \"Topic9\", \"Topic9\", \"Topic9\", \"Topic9\", \"Topic9\", \"Topic9\", \"Topic9\", \"Topic9\", \"Topic9\", \"Topic9\", \"Topic9\", \"Topic9\", \"Topic9\", \"Topic9\", \"Topic9\", \"Topic9\", \"Topic9\", \"Topic9\", \"Topic9\", \"Topic9\", \"Topic9\", \"Topic9\", \"Topic9\", \"Topic9\", \"Topic9\", \"Topic9\", \"Topic9\", \"Topic9\", \"Topic9\", \"Topic9\", \"Topic9\", \"Topic9\", \"Topic9\", \"Topic9\", \"Topic9\", \"Topic9\", \"Topic9\", \"Topic9\", \"Topic9\", \"Topic9\", \"Topic9\", \"Topic9\", \"Topic9\", \"Topic9\", \"Topic9\", \"Topic9\", \"Topic9\", \"Topic9\", \"Topic9\", \"Topic9\", \"Topic9\", \"Topic9\", \"Topic9\", \"Topic9\", \"Topic9\", \"Topic9\", \"Topic9\", \"Topic10\", \"Topic10\", \"Topic10\", \"Topic10\", \"Topic10\", \"Topic10\", \"Topic10\", \"Topic10\", \"Topic10\", \"Topic10\", \"Topic10\", \"Topic10\", \"Topic10\", \"Topic10\", \"Topic10\", \"Topic10\", \"Topic10\", \"Topic10\", \"Topic10\", \"Topic10\", \"Topic10\", \"Topic10\", \"Topic10\", \"Topic10\", \"Topic10\", \"Topic10\", \"Topic10\", \"Topic10\", \"Topic10\", \"Topic10\", \"Topic10\", \"Topic10\", \"Topic10\", \"Topic10\", \"Topic10\", \"Topic10\", \"Topic10\", \"Topic10\", \"Topic10\", \"Topic10\", \"Topic10\", \"Topic10\", \"Topic10\", \"Topic10\", \"Topic10\", \"Topic10\", \"Topic10\", \"Topic10\", \"Topic10\", \"Topic10\", \"Topic10\", \"Topic10\", \"Topic10\", \"Topic10\", \"Topic10\", \"Topic10\", \"Topic10\", \"Topic10\", \"Topic10\", \"Topic10\", \"Topic10\", \"Topic10\", \"Topic10\", \"Topic10\", \"Topic10\", \"Topic10\", \"Topic10\", \"Topic10\", \"Topic10\", \"Topic10\", \"Topic10\", \"Topic10\", \"Topic10\", \"Topic10\", \"Topic10\", \"Topic10\", \"Topic10\", \"Topic10\", \"Topic10\", \"Topic10\", \"Topic10\", \"Topic10\", \"Topic10\", \"Topic10\", \"Topic10\", \"Topic10\", \"Topic10\"], \"logprob\": [30.0, 29.0, 28.0, 27.0, 26.0, 25.0, 24.0, 23.0, 22.0, 21.0, 20.0, 19.0, 18.0, 17.0, 16.0, 15.0, 14.0, 13.0, 12.0, 11.0, 10.0, 9.0, 8.0, 7.0, 6.0, 5.0, 4.0, 3.0, 2.0, 1.0, -8.8068, -8.8072, -8.5876, -8.8527, -7.9388, -8.3345, -8.8917, -8.8944, -9.1958, -9.196, -9.1961, -9.1961, -9.1961, -9.1962, -9.1963, -9.1963, -9.1963, -9.1964, -9.1964, -9.1966, -9.1989, -9.2032, -9.2128, -9.2186, -9.2357, -9.2396, -9.2434, -9.2493, -8.7402, -9.2626, -8.5846, -4.879, -5.8715, -7.4199, -4.6371, -5.5147, -5.1629, -7.0807, -5.4661, -7.3206, -5.4592, -6.1214, -5.4327, -7.5622, -5.1993, -5.3734, -4.2513, -6.0843, -4.3766, -8.0081, -4.5693, -6.8826, -4.7757, -5.1077, -6.6687, -6.6752, -6.0225, -4.9518, -5.3358, -5.495, -6.3017, -5.2884, -5.3529, -6.2132, -4.8787, -5.4926, -5.7741, -5.2039, -5.5649, -5.7051, -4.9163, -4.852, -5.3046, -5.2854, -5.5465, -5.7155, -5.594, -5.629, -8.2793, -8.2794, -8.3019, -8.6682, -8.6682, -8.6685, -8.6686, -8.6687, -8.6685, -8.6693, -8.6724, -8.7158, -8.7412, -8.7657, -7.7856, -8.8445, -8.8589, -8.1478, -8.5656, -8.8606, -8.5973, -8.1948, -9.3147, -9.3147, -9.3147, -9.3148, -9.3148, -9.3148, -9.3148, -9.3148, -8.9064, -8.244, -8.923, -7.5389, -8.6687, -8.6685, -8.6689, -8.6681, -7.2346, -5.7962, -8.3011, -8.0026, -7.2277, -4.0131, -4.2166, -4.4665, -5.5717, -6.1943, -5.5358, -5.1303, -4.3172, -6.3155, -5.6924, -6.4865, -4.545, -5.2589, -5.9856, -5.4111, -6.4962, -6.5617, -5.9572, -6.087, -5.8065, -5.2038, -6.2127, -5.7256, -5.0473, -5.9185, -4.8145, -5.065, -5.706, -5.1964, -5.3669, -5.3405, -5.3299, -5.7828, -5.7001, -5.5789, -5.4272, -5.7585, -5.6844, -5.8041, -5.7833, -7.3057, -8.1541, -8.7231, -8.7232, -8.7234, -8.7234, -8.7234, -8.7235, -7.4488, -8.4584, -8.7818, -8.8067, -8.836, -8.8345, -8.5347, -7.9072, -8.8761, -8.5856, -8.8796, -8.9135, -8.2067, -8.6245, -8.9281, -8.9415, -8.4241, -8.4541, -8.1322, -9.3694, -9.3695, -9.3695, -7.2729, -8.4731, -8.6725, -7.6247, -7.7875, -8.0328, -7.2197, -4.6794, -4.4791, -5.4561, -6.5489, -4.3827, -4.2596, -6.207, -4.4118, -5.9323, -5.7477, -5.8338, -5.8861, -4.6292, -4.9063, -5.4611, -5.9462, -5.7559, -5.0106, -5.415, -5.5818, -6.0664, -5.134, -5.9245, -5.8088, -5.5952, -5.7821, -5.2529, -5.6208, -5.649, -5.6293, -4.8076, -5.4555, -5.358, -5.6131, -5.6237, -5.2238, -5.6461, -5.606, -5.5729, -5.6776, -5.6718, -8.1755, -8.5648, -8.565, -8.565, -8.5651, -8.5652, -8.6136, -8.6456, -7.5431, -8.6745, -8.6914, -8.7059, -8.4214, -7.1605, -8.2039, -7.52, -8.7431, -7.383, -9.2112, -9.2113, -9.2113, -9.2113, -9.2113, -9.2113, -9.2113, -9.2114, -9.2114, -9.2114, -9.2114, -9.2114, -7.9798, -8.5074, -8.0266, -7.5267, -8.5607, -8.5648, -8.5724, -8.8353, -8.203, -8.5651, -8.5653, -8.2224, -7.4634, -5.0872, -6.0079, -5.045, -4.0518, -5.5265, -5.457, -5.3759, -5.0195, -4.4282, -6.1189, -5.445, -5.2136, -4.8283, -5.649, -5.3337, -5.8266, -4.9826, -5.7033, -4.8808, -6.096, -5.4625, -5.2214, -5.7642, -5.802, -5.4847, -4.7596, -5.4816, -5.5183, -5.8443, -4.8287, -5.5236, -5.2847, -5.1108, -5.1794, -5.6953, -5.498, -5.4375, -5.6598, -5.661, -5.6561, -7.6582, -7.8765, -8.156, -8.1559, -8.1667, -8.256, -8.5455, -8.5455, -8.5456, -8.5456, -8.5457, -8.5457, -8.5458, -8.5632, -8.1599, -8.156, -8.3983, -8.7238, -8.7732, -8.0933, -9.1917, -9.1917, -9.1917, -9.1918, -9.1917, -9.1918, -9.1918, -9.1918, -9.1918, -9.1918, -7.4683, -8.4833, -8.5216, -8.282, -8.5456, -8.5455, -8.1373, -6.8226, -8.5455, -8.5452, -7.1192, -7.7686, -7.4685, -8.1903, -4.61, -5.0836, -5.6028, -4.341, -7.5543, -6.0746, -5.4882, -5.0065, -5.1901, -4.4048, -4.7862, -4.5295, -6.345, -5.3981, -5.434, -6.8316, -6.1825, -5.4446, -5.5051, -4.728, -5.7744, -5.5135, -5.7483, -5.8635, -5.1084, -4.991, -4.9105, -5.7202, -5.1886, -5.1925, -5.3693, -5.6671, -5.7106, -5.425, -5.7572, -5.7258, -5.7479, -8.3999, -8.4001, -8.4001, -8.4639, -8.4641, -8.0108, -8.5641, -8.5652, -8.6051, -8.5957, -8.6089, -8.6166, -7.9484, -9.0463, -9.0464, -9.0463, -9.0464, -9.0464, -9.0464, -9.0464, -9.0464, -9.0464, -9.0464, -9.0465, -9.0464, -9.0465, -9.0464, -9.0465, -9.0465, -9.0465, -8.4003, -8.3647, -8.6527, -8.3833, -7.6104, -8.0303, -8.0109, -8.2179, -8.4544, -8.4332, -8.2687, -7.7621, -7.1821, -8.717, -4.0593, -3.8187, -8.3173, -7.1368, -4.6478, -5.2671, -5.8783, -5.745, -5.8893, -5.2343, -6.5912, -4.9549, -5.492, -5.4493, -5.487, -6.51, -4.9433, -4.6453, -7.1147, -5.1846, -4.7084, -5.6071, -5.4411, -6.2792, -5.8198, -5.4202, -5.317, -5.4205, -5.6711, -5.5589, -5.9985, -5.0573, -5.2795, -4.8636, -4.8932, -5.383, -5.2849, -5.6437, -5.6497, -5.7905, -5.7761, -7.4016, -7.8732, -7.8737, -8.2625, -8.2627, -8.2628, -8.2629, -8.2631, -8.2632, -8.2631, -8.2894, -7.8806, -7.8744, -7.8812, -8.4081, -8.4083, -8.4442, -8.1794, -8.1603, -8.5078, -8.9091, -8.9092, -8.9092, -8.9092, -8.9092, -8.9092, -8.9093, -8.9093, -8.9093, -8.9093, -8.5051, -8.2628, -7.8739, -7.1691, -8.0683, -8.5414, -7.274, -8.263, -8.5578, -8.3102, -6.4406, -6.4448, -7.3766, -4.4408, -5.0566, -4.89, -6.3356, -7.01, -5.8716, -6.0633, -5.0125, -6.3332, -4.6187, -5.0815, -4.434, -5.2305, -4.3865, -5.7079, -6.1455, -6.6663, -4.9239, -5.8868, -5.2454, -4.735, -5.1735, -5.7941, -5.88, -4.7472, -4.8816, -5.4889, -5.4598, -5.9463, -5.2754, -5.6208, -5.5317, -5.7555, -5.6599, -5.7726, -5.4122, -5.661, -5.5341, -5.5782, -5.7422, -8.2149, -8.2152, -8.2157, -8.102, -8.4049, -8.4354, -8.8612, -8.8612, -8.8612, -8.8613, -8.8613, -8.8613, -8.8613, -8.8613, -8.8613, -8.8613, -8.8614, -8.8614, -8.8614, -8.8614, -8.8614, -8.8614, -8.8614, -8.8614, -8.8614, -8.8614, -8.8614, -8.8614, -8.8614, -8.8614, -7.6403, -8.2153, -8.0035, -8.2148, -8.2147, -8.2381, -7.5463, -8.0877, -5.4259, -6.5459, -7.4217, -4.3666, -5.8958, -7.3295, -7.9382, -4.1277, -5.5218, -8.2154, -5.8189, -5.8638, -5.7455, -5.6986, -5.5952, -6.7926, -6.939, -5.2444, -4.5151, -4.5957, -4.516, -5.3061, -5.6182, -5.8697, -5.4704, -5.1643, -5.6892, -5.4013, -5.0245, -5.1496, -5.2922, -5.9595, -5.6015, -5.1437, -5.646, -5.6716, -5.7555, -5.7179, -5.4261, -5.2257, -5.6411, -5.6513, -5.6776, -8.2608, -8.2611, -8.2694, -7.8719, -8.4302, -8.2062, -8.9072, -8.9073, -8.9073, -8.9073, -8.9073, -8.9074, -8.9074, -8.9074, -8.9074, -8.9074, -8.9074, -8.9074, -8.9074, -8.9074, -8.9074, -8.9075, -8.9074, -8.9075, -8.9075, -8.9075, -8.9075, -8.9075, -8.9075, -8.9075, -8.5122, -8.5025, -8.2611, -8.3005, -8.3044, -7.6463, -8.1611, -8.0198, -7.9028, -5.3274, -7.5769, -6.1146, -6.724, -5.6103, -5.1741, -7.797, -4.8156, -4.7825, -7.2104, -8.2249, -7.9019, -5.9527, -7.8328, -5.9266, -5.8914, -5.2847, -5.1659, -5.6528, -5.2674, -5.7801, -5.372, -4.4643, -5.8232, -5.5296, -5.4196, -6.007, -5.9679, -4.7401, -5.3074, -4.9957, -4.8046, -5.2332, -5.6453, -5.2691, -5.4316, -5.9194, -5.1286, -5.3525, -5.6552, -5.3226, -5.456, -5.6972, -5.7813, -5.7033, -7.9518, -8.0578, -8.172, -8.5979, -8.598, -8.5981, -8.5981, -8.5981, -8.5981, -8.5981, -8.5981, -8.5982, -8.5982, -8.5982, -8.5982, -8.5982, -8.5982, -8.5983, -8.5983, -8.5983, -8.5983, -8.5983, -8.5983, -8.5983, -8.5983, -8.5983, -8.5983, -8.5983, -8.5983, -8.5983, -8.197, -7.9519, -7.9362, -7.9537, -7.5622, -7.2036, -7.9517, -8.2364, -8.0266, -7.3961, -7.6459, -8.05, -7.5624, -6.287, -7.9368, -5.4425, -7.1369, -7.952, -5.1417, -5.3172, -5.3723, -8.1276, -5.9728, -5.291, -4.3101, -5.0563, -5.6629, -5.6136, -5.6887, -5.5128, -4.9561, -4.7243, -5.2116, -6.3342, -5.5279, -5.4039, -5.9045, -5.4853, -6.0563, -5.5949, -6.052, -6.1875, -5.6467, -5.4816, -5.625, -5.1125, -5.3985, -5.9252, -5.6447, -5.7498, -5.624, -5.3617, -5.4793, -5.4252, -5.4739, -5.6109, -5.5234], \"loglift\": [30.0, 29.0, 28.0, 27.0, 26.0, 25.0, 24.0, 23.0, 22.0, 21.0, 20.0, 19.0, 18.0, 17.0, 16.0, 15.0, 14.0, 13.0, 12.0, 11.0, 10.0, 9.0, 8.0, 7.0, 6.0, 5.0, 4.0, 3.0, 2.0, 1.0, 1.3398, 1.3397, 1.337, 1.2972, 1.2948, 1.2598, 1.2552, 1.2546, 1.245, 1.2449, 1.2449, 1.2449, 1.2449, 1.2448, 1.2448, 1.2448, 1.2448, 1.2448, 1.2448, 1.2447, 1.2421, 1.2381, 1.2295, 1.2244, 1.2056, 1.205, 1.2007, 1.1954, 1.1934, 1.1847, 1.1547, 0.7318, 0.7746, 0.9621, 0.5262, 0.6285, 0.5356, 0.8253, 0.4911, 0.8653, 0.4482, 0.5913, 0.4323, 0.896, 0.3698, 0.3909, 0.1177, 0.5371, 0.1346, 0.9802, 0.1185, 0.6959, 0.1293, 0.2216, 0.636, 0.6368, 0.4476, 0.1102, 0.2036, 0.254, 0.508, 0.1661, 0.1823, 0.4758, -0.0311, 0.1938, 0.2887, 0.03, 0.1452, 0.2139, -0.215, -0.29, -0.0256, -0.1226, 0.094, 0.1998, -0.3035, -0.2174, 1.864, 1.864, 1.843, 1.7695, 1.7695, 1.7695, 1.7694, 1.7694, 1.7693, 1.7691, 1.766, 1.7224, 1.703, 1.679, 1.6734, 1.6052, 1.5985, 1.5964, 1.5927, 1.5894, 1.5643, 1.5592, 1.5429, 1.5429, 1.5429, 1.5429, 1.5429, 1.5429, 1.5429, 1.5429, 1.5387, 1.5189, 1.5294, 1.4525, 1.5069, 1.5003, 1.4985, 1.4911, 1.3208, 1.0705, 1.4374, 1.3517, 1.1659, 0.356, 0.3454, 0.3811, 0.6912, 0.8615, 0.6656, 0.5101, 0.194, 0.8577, 0.6132, 0.8923, 0.1563, 0.4275, 0.7007, 0.398, 0.8619, 0.8786, 0.6018, 0.6568, 0.5234, 0.2507, 0.6888, 0.4576, 0.1161, 0.5224, -0.1267, -0.0029, 0.3367, -0.0337, 0.0447, -0.0615, -0.096, 0.2313, 0.1363, -0.0235, -0.5222, 0.0726, -0.145, -0.1932, -0.454, 1.8906, 1.834, 1.7743, 1.7742, 1.7742, 1.7742, 1.7741, 1.7741, 1.7569, 1.7476, 1.7164, 1.6857, 1.6653, 1.6643, 1.6624, 1.6207, 1.6124, 1.6096, 1.6092, 1.5888, 1.5864, 1.5857, 1.5752, 1.5614, 1.5545, 1.537, 1.5352, 1.5331, 1.5331, 1.5331, 1.5326, 1.529, 1.5283, 1.4881, 1.4867, 1.4665, 1.2945, 0.7322, 0.4259, 0.6935, 0.9718, 0.3186, 0.2516, 0.7844, 0.1502, 0.6697, 0.5491, 0.5704, 0.5841, 0.0586, 0.1557, 0.37, 0.5792, 0.4934, 0.1522, 0.3055, 0.3739, 0.587, 0.145, 0.5163, 0.4395, 0.3024, 0.4091, 0.0764, 0.2944, 0.304, 0.2875, -0.4385, 0.0999, -0.0675, 0.1948, 0.1855, -0.3762, 0.1708, -0.0369, -0.1184, -0.0372, -0.4379, 1.9716, 1.8766, 1.8765, 1.8765, 1.8765, 1.8765, 1.8312, 1.8002, 1.7969, 1.7746, 1.7559, 1.7464, 1.7423, 1.7347, 1.7337, 1.7227, 1.6994, 1.6733, 1.6491, 1.6491, 1.6491, 1.6491, 1.6491, 1.6491, 1.6491, 1.6491, 1.6491, 1.6491, 1.6491, 1.6491, 1.6324, 1.6386, 1.5892, 1.5479, 1.6129, 1.6074, 1.6046, 1.6199, 1.5626, 1.5877, 1.582, 1.535, 1.4304, 0.913, 1.0219, 0.7915, 0.5102, 0.8488, 0.7679, 0.7356, 0.5158, 0.2731, 0.8387, 0.5976, 0.4849, 0.3344, 0.6459, 0.4974, 0.6407, 0.2513, 0.5827, 0.1812, 0.7461, 0.4449, 0.318, 0.5657, 0.5795, 0.4128, -0.0718, 0.3354, 0.3466, 0.5675, -0.3174, 0.2736, 0.0446, -0.2631, -0.2744, 0.2603, -0.3347, -1.0685, -0.1045, -0.0919, -0.2445, 2.184, 2.1465, 2.0877, 2.0877, 2.077, 1.9827, 1.9821, 1.9821, 1.9821, 1.9821, 1.982, 1.982, 1.9819, 1.9641, 1.8442, 1.8401, 1.8379, 1.8003, 1.7485, 1.7406, 1.7334, 1.7334, 1.7334, 1.7334, 1.7334, 1.7334, 1.7333, 1.7333, 1.7333, 1.7333, 1.7236, 1.7314, 1.7301, 1.7123, 1.7113, 1.7026, 1.6784, 1.587, 1.6968, 1.692, 1.5189, 1.5421, 1.4497, 1.616, 0.624, 0.6265, 0.7732, 0.3468, 1.4077, 0.8771, 0.6242, 0.2839, 0.3653, -0.0357, 0.1188, -0.0183, 0.8767, 0.3723, 0.3752, 1.0899, 0.7358, 0.3044, 0.3028, -0.166, 0.427, 0.2508, 0.3948, 0.4629, -0.0464, -0.1433, -0.2091, 0.3627, -0.0259, -0.0291, 0.0852, 0.2496, 0.2466, -0.0957, 0.2431, -0.0272, -0.4689, 2.1104, 2.1104, 2.1104, 2.0462, 2.0417, 1.9694, 1.9506, 1.9345, 1.9107, 1.9094, 1.889, 1.8839, 1.8668, 1.866, 1.866, 1.866, 1.866, 1.866, 1.866, 1.866, 1.866, 1.866, 1.866, 1.866, 1.866, 1.866, 1.866, 1.866, 1.8659, 1.8659, 1.8436, 1.842, 1.8439, 1.8242, 1.7693, 1.7859, 1.7738, 1.7816, 1.7759, 1.7661, 1.7354, 1.6398, 1.5346, 1.801, 0.7883, 0.5504, 1.6653, 1.3313, 0.515, 0.6518, 0.8488, 0.7771, 0.8092, 0.5361, 1.0676, 0.3744, 0.5996, 0.5648, 0.5109, 0.9755, 0.22, 0.056, 1.2517, 0.2699, -0.0206, 0.4758, 0.3759, 0.8278, 0.5621, 0.3003, 0.2183, 0.2659, 0.404, 0.2776, 0.5441, -0.1522, 0.011, -0.3524, -0.3312, 0.0286, -0.2229, -0.0745, -0.4158, 0.231, -0.066, 2.4327, 2.3659, 2.3657, 2.2608, 2.2608, 2.2607, 2.2607, 2.2606, 2.2606, 2.2606, 2.2318, 2.149, 2.1316, 2.1112, 2.1049, 2.1029, 2.0766, 2.0644, 2.0542, 2.0171, 2.013, 2.013, 2.013, 2.013, 2.013, 2.013, 2.0129, 2.0129, 2.0129, 2.0129, 2.0059, 1.991, 1.9549, 1.8694, 1.9341, 1.978, 1.8452, 1.9434, 1.9698, 1.9058, 1.4801, 1.4773, 1.6764, 0.8382, 0.9649, 0.8804, 1.3109, 1.5093, 0.9951, 1.062, 0.5429, 1.1561, 0.2863, 0.4579, 0.0772, 0.5185, -0.0174, 0.7228, 0.9849, 1.2826, 0.1381, 0.753, 0.3237, -0.0473, 0.2381, 0.6177, 0.6725, -0.1852, -0.1803, 0.319, 0.2608, 0.6917, 0.015, 0.2944, 0.1547, 0.4311, 0.1373, 0.2276, -0.5645, -0.0205, -0.3714, -0.4149, -0.1313, 2.293, 2.2929, 2.2928, 2.1148, 2.09, 2.0716, 2.0493, 2.0493, 2.0493, 2.0492, 2.0492, 2.0492, 2.0492, 2.0492, 2.0492, 2.0492, 2.0492, 2.0492, 2.0492, 2.0492, 2.0492, 2.0492, 2.0492, 2.0492, 2.0492, 2.0492, 2.0492, 2.0492, 2.0492, 2.0492, 2.013, 2.0138, 1.9718, 1.9813, 1.9799, 1.9782, 1.8651, 1.904, 1.2871, 1.5164, 1.7028, 0.9239, 1.2126, 1.4934, 1.7143, 0.2413, 0.7642, 1.802, 0.8657, 0.8801, 0.8252, 0.7934, 0.7123, 1.2026, 1.2566, 0.526, 0.1862, 0.0921, 0.046, 0.443, 0.565, 0.6557, 0.3375, 0.0697, 0.3859, 0.1541, -0.1768, -0.0876, -0.0132, 0.4793, 0.1628, -0.2387, 0.171, 0.1934, 0.2424, 0.1973, -0.2628, -0.7145, -0.1059, -0.112, -0.266, 2.278, 2.2778, 2.2694, 2.1346, 2.0952, 2.034, 2.0263, 2.0263, 2.0263, 2.0262, 2.0262, 2.0262, 2.0262, 2.0262, 2.0262, 2.0262, 2.0262, 2.0262, 2.0262, 2.0262, 2.0262, 2.0262, 2.0262, 2.0262, 2.0262, 2.0262, 2.0262, 2.0262, 2.0262, 2.0261, 2.0149, 2.014, 1.982, 1.9244, 1.9251, 1.7618, 1.8561, 1.8171, 1.7527, 0.922, 1.6265, 1.1622, 1.2958, 0.8897, 0.657, 1.6227, 0.5137, 0.4965, 1.3785, 1.7697, 1.6314, 0.7871, 1.584, 0.7597, 0.7381, 0.4359, 0.3693, 0.5927, 0.373, 0.6369, 0.4252, -0.0952, 0.6075, 0.4276, 0.3447, 0.6228, 0.5747, -0.2288, 0.1471, -0.0907, -0.2426, 0.0008, 0.3078, 0.0214, 0.1078, 0.456, -0.4408, -0.1898, 0.0548, -0.6213, -0.394, -0.2856, -0.0109, -0.8556, 2.6108, 2.4976, 2.3832, 2.3531, 2.3531, 2.353, 2.353, 2.353, 2.353, 2.353, 2.353, 2.353, 2.353, 2.353, 2.353, 2.353, 2.353, 2.353, 2.353, 2.3529, 2.3529, 2.3529, 2.3529, 2.3529, 2.3529, 2.3529, 2.3529, 2.3529, 2.3529, 2.3529, 2.3483, 2.3226, 2.321, 2.3147, 2.2834, 2.2168, 2.2843, 2.3111, 2.2319, 2.0151, 2.0468, 2.1795, 1.9834, 1.503, 2.1021, 0.9612, 1.7108, 2.0726, 0.7772, 0.8323, 0.8526, 2.1326, 1.116, 0.7069, 0.2012, 0.5841, 0.8596, 0.8333, 0.872, 0.7502, 0.3344, 0.1233, 0.3236, 1.0616, 0.4936, 0.1652, 0.5875, 0.2247, 0.6875, 0.27, 0.6654, 0.7838, 0.27, 0.0578, 0.1723, -0.4112, -0.1646, 0.4661, 0.0759, 0.2032, -0.0132, -0.4567, -0.316, -0.8632, -0.7861, -0.4482, -1.1543]}, \"token.table\": {\"Topic\": [8, 1, 2, 3, 4, 5, 6, 7, 8, 9, 10, 1, 1, 2, 8, 9, 9, 7, 5, 6, 7, 9, 10, 1, 4, 7, 1, 9, 2, 4, 6, 2, 3, 4, 5, 1, 2, 3, 4, 5, 6, 7, 8, 9, 10, 4, 1, 4, 7, 5, 1, 2, 3, 4, 5, 6, 7, 8, 9, 10, 5, 9, 1, 2, 3, 4, 5, 6, 7, 8, 9, 10, 4, 7, 2, 1, 2, 3, 4, 5, 6, 7, 8, 9, 10, 2, 7, 6, 10, 1, 2, 3, 4, 5, 6, 7, 8, 9, 10, 1, 2, 3, 4, 5, 6, 7, 8, 9, 10, 1, 2, 3, 4, 5, 6, 7, 8, 9, 10, 7, 2, 1, 2, 3, 4, 5, 6, 7, 8, 9, 10, 10, 1, 2, 3, 4, 5, 6, 7, 8, 9, 10, 1, 2, 3, 4, 5, 6, 7, 8, 9, 10, 1, 2, 3, 4, 10, 1, 2, 3, 4, 5, 6, 7, 8, 9, 10, 1, 2, 3, 4, 5, 6, 7, 8, 9, 10, 1, 4, 1, 2, 3, 4, 5, 6, 7, 8, 9, 10, 2, 4, 10, 4, 9, 10, 1, 2, 3, 4, 5, 6, 7, 8, 9, 10, 9, 1, 2, 3, 4, 5, 6, 7, 8, 9, 10, 5, 1, 2, 3, 4, 5, 6, 7, 8, 9, 10, 2, 1, 2, 6, 10, 5, 7, 10, 9, 2, 4, 6, 3, 2, 10, 10, 1, 2, 3, 4, 5, 6, 7, 8, 9, 10, 1, 2, 3, 4, 5, 6, 7, 8, 9, 10, 1, 2, 3, 4, 5, 6, 7, 8, 9, 10, 1, 2, 3, 4, 5, 6, 7, 8, 9, 10, 9, 1, 2, 3, 4, 5, 6, 7, 8, 9, 10, 1, 2, 3, 4, 5, 6, 8, 1, 2, 3, 4, 5, 6, 7, 8, 9, 10, 1, 2, 3, 4, 5, 6, 7, 8, 9, 10, 4, 3, 10, 1, 7, 8, 9, 8, 5, 7, 10, 1, 2, 3, 4, 5, 6, 7, 8, 9, 10, 3, 8, 2, 4, 5, 2, 10, 7, 3, 4, 5, 1, 5, 8, 1, 2, 3, 4, 5, 6, 7, 8, 9, 10, 4, 8, 8, 1, 2, 3, 4, 5, 6, 7, 8, 9, 10, 6, 6, 1, 2, 3, 4, 5, 6, 7, 8, 9, 10, 6, 1, 2, 3, 4, 5, 6, 7, 8, 9, 10, 1, 3, 9, 1, 2, 3, 4, 5, 6, 7, 8, 9, 10, 6, 2, 4, 2, 5, 5, 1, 2, 3, 4, 5, 6, 7, 8, 9, 10, 1, 3, 4, 7, 8, 9, 2, 6, 2, 1, 2, 3, 4, 5, 6, 7, 8, 9, 10, 2, 3, 4, 5, 8, 2, 1, 2, 3, 4, 5, 6, 7, 8, 9, 10, 2, 4, 5, 6, 8, 9, 10, 1, 2, 3, 4, 5, 6, 7, 8, 9, 10, 1, 2, 3, 4, 5, 6, 7, 8, 9, 10, 6, 9, 10, 6, 1, 2, 9, 7, 7, 1, 2, 3, 4, 5, 6, 8, 9, 1, 9, 10, 1, 2, 3, 4, 5, 6, 7, 8, 9, 10, 1, 2, 3, 4, 5, 6, 7, 8, 9, 10, 1, 9, 6, 3, 1, 2, 3, 4, 5, 6, 7, 8, 9, 10, 6, 7, 1, 2, 3, 4, 5, 6, 7, 8, 9, 10, 1, 2, 3, 4, 5, 6, 7, 8, 9, 10, 2, 7, 5, 6, 9, 1, 2, 3, 4, 5, 6, 7, 8, 9, 10, 2, 3, 3, 1, 2, 3, 4, 5, 6, 7, 8, 9, 10, 10, 9, 4, 5, 10, 1, 2, 3, 4, 5, 6, 8, 9, 10, 1, 2, 3, 4, 5, 6, 7, 8, 9, 10, 9, 1, 2, 3, 5, 6, 7, 8, 9, 10, 1, 1, 2, 3, 4, 5, 6, 7, 8, 9, 10, 1, 2, 3, 4, 5, 6, 7, 8, 9, 10, 6, 1, 4, 9, 1, 4, 5, 10, 1, 4, 1, 6, 5, 6, 8, 2, 8, 9, 8, 10, 2, 4, 5, 7, 8, 9, 2, 9, 5, 1, 2, 6, 9, 5, 9, 1, 2, 3, 4, 5, 6, 7, 8, 9, 10, 1, 2, 3, 4, 5, 6, 7, 8, 9, 10, 4, 4, 10, 1, 6, 10, 7, 7, 10, 1, 2, 3, 4, 5, 6, 7, 8, 9, 10, 10, 9, 1, 2, 3, 4, 5, 6, 7, 8, 9, 10, 1, 4, 7, 8, 9, 10, 1, 2, 3, 4, 5, 6, 7, 8, 9, 10, 7, 10, 10, 1, 2, 3, 4, 5, 6, 7, 8, 9, 10, 3, 9, 10, 3, 2, 1, 2, 3, 4, 5, 6, 7, 8, 9, 10, 1, 2, 3, 4, 5, 6, 7, 8, 9, 10, 6, 1, 4, 1, 4, 6, 1, 2, 3, 4, 5, 6, 7, 8, 9, 10, 1, 2, 3, 4, 5, 6, 7, 8, 9, 10, 1, 2, 3, 4, 5, 6, 7, 8, 9, 10, 1, 1, 6, 4, 1, 7, 9, 1, 2, 3, 4, 5, 6, 7, 8, 9, 10, 8, 5, 10, 1, 6, 7, 5, 3, 5, 6, 1, 2, 3, 4, 5, 6, 7, 8, 9, 10, 7, 10, 1, 5, 6, 1, 2, 3, 4, 5, 6, 7, 8, 9, 10, 1, 2, 3, 4, 5, 6, 7, 8, 9, 10, 7, 1, 4, 9, 2, 3, 2, 3, 4, 9, 1, 2, 3, 4, 5, 6, 7, 8, 9, 10, 1, 2, 5, 8, 1, 2, 3, 4, 5, 6, 7, 8, 9, 10, 1, 4, 5, 3, 9, 1, 2, 3, 4, 5, 6, 7, 8, 9, 10, 1, 2, 3, 4, 5, 6, 7, 8, 9, 10, 5, 10, 1, 2, 3, 4, 5, 6, 7, 8, 9, 4, 1, 2, 3, 4, 5, 6, 7, 8, 9, 10, 1, 3, 4, 7, 4, 8, 7, 1, 2, 3, 4, 5, 6, 7, 8, 9, 10, 2, 8, 5, 1, 2, 3, 4, 5, 6, 7, 8, 9, 10, 1, 2, 3, 4, 5, 6, 7, 8, 9, 10, 4, 10, 1, 2, 3, 4, 5, 6, 7, 8, 9, 10, 10, 1, 2, 3, 4, 5, 6, 7, 8, 9, 10, 5, 6, 5, 1, 2, 3, 4, 5, 6, 7, 8, 9, 10, 4, 5, 9, 9, 4, 1, 8, 8, 4, 9, 9, 1, 7, 1, 2, 3, 4, 5, 6, 7, 8, 9, 10, 1, 2, 3, 4, 5, 6, 7, 8, 9, 10, 3, 7, 8, 6, 9, 4, 1, 3, 6, 7, 3, 2, 1, 2, 3, 4, 5, 6, 7, 8, 9, 10, 2, 8, 2, 8, 1, 2, 3, 4, 5, 6, 7, 8, 9, 10, 3, 5, 6, 1, 2, 3, 4, 5, 6, 7, 8, 9, 10, 3, 5, 6, 1, 2, 3, 4, 5, 6, 7, 8, 9, 10, 3, 1, 1, 10, 1, 2, 3, 4, 5, 6, 7, 8, 9, 10, 1, 4, 5, 8, 9, 2, 7, 3, 4, 1, 2, 3, 4, 5, 6, 7, 8, 9, 10, 9, 3, 7, 1, 2, 3, 4, 5, 6, 8, 9, 10, 1, 2, 3, 4, 5, 6, 7, 8, 9, 10, 1, 2, 3, 4, 5, 6, 7, 8, 9, 10, 1, 2, 3, 4, 5, 6, 7, 8, 9, 10, 1, 2, 3, 4, 5, 6, 7, 8, 9, 10, 2, 1, 2, 3, 4, 5, 6, 7, 8, 9, 10, 2, 3, 4, 7, 8, 10, 1, 2, 3, 4, 5, 6, 7, 8, 9, 10, 8, 1, 7, 1, 2, 3, 4, 5, 1, 2, 3, 4, 5, 6, 7, 8, 9, 10, 1, 2, 3, 4, 5, 6, 7, 8, 9, 10, 6, 3, 6, 1, 2, 3, 4, 5, 6, 7, 8, 9, 10, 3, 4, 2, 3, 1, 8, 3, 5, 7, 9, 6, 8, 9, 2, 1, 2, 3, 4, 5, 6, 7, 8, 9, 10, 1, 2, 3, 4, 5, 6, 7, 8, 9, 10, 1, 2, 3, 4, 5, 6, 7, 8, 9, 10, 10, 8, 1, 10, 1, 2, 3, 4, 5, 6, 7, 8, 9, 10, 7, 4, 4, 7, 1, 2, 3, 4, 5, 6, 7, 8, 9, 10, 1, 8, 2, 3, 6, 1, 2, 3, 4, 5, 6, 7, 8, 9, 10, 1, 2, 3, 4, 5, 6, 7, 8, 9, 10, 1, 2, 3, 4, 5, 6, 7, 8, 9, 10, 1, 2, 4, 5, 6, 7, 8, 9, 10, 2, 3, 6, 10, 3, 1, 2, 3, 4, 6, 7, 8, 9, 10, 1, 2, 3, 4, 5, 6, 7, 8, 9, 10, 1, 2, 3, 4, 5, 6, 7, 8, 9, 10, 7, 1, 2, 3, 4, 5, 6, 7, 8, 9, 10, 8, 5, 10, 2, 3, 4, 7, 9, 10, 1, 5, 3, 5, 7, 10, 6, 3, 1, 5, 1, 2, 4, 5, 6, 8, 9, 8, 1, 2, 3, 4, 5, 6, 7, 8, 9, 10, 1, 2, 3, 4, 5, 6, 7, 8, 9, 10, 5, 6, 1, 2, 3, 4, 5, 6, 7, 8, 9, 10, 9, 6, 1, 2, 3, 5, 7, 8, 9, 4, 6, 1, 7, 6, 10, 2, 3, 7, 8, 1, 2, 3, 4, 5, 6, 7, 8, 9, 10, 10, 3, 5, 3, 7, 9, 7, 8, 1, 2, 3, 4, 5, 6, 7, 8, 9, 10, 1, 2, 3, 4, 6, 7, 8, 9, 10, 1, 2, 3, 4, 5, 6, 7, 8, 9, 10, 2, 3, 4, 5, 1, 2, 3, 4, 5, 6, 7, 8, 9, 10, 5, 2, 8, 1, 1, 2, 3, 4, 5, 6, 7, 8, 9, 10, 1, 2, 3, 4, 5, 6, 7, 8, 9, 10, 9, 2, 7, 1, 4, 5, 4, 5, 6, 9, 1, 3, 4, 2, 1, 2, 3, 4, 5, 6, 7, 8, 9, 10, 7, 10, 1, 5, 8, 6, 1, 2, 3, 4, 5, 6, 7, 8, 9, 10, 8, 8, 5, 9, 8, 9, 1, 2, 3, 4, 5, 6, 7, 8, 9, 10, 4, 7, 1, 2, 3, 4, 5, 6, 7, 8, 9, 10, 5, 8, 9, 1, 2, 3, 5, 10, 6, 4, 1, 3, 4, 1, 2, 3, 4, 5, 6, 7, 8, 9, 10, 1, 1, 2, 3, 4, 5, 6, 7, 8, 9, 10, 1, 2, 3, 4, 5, 6, 7, 8, 9, 10, 3, 8, 1, 1, 2, 3, 4, 5, 6, 7, 8, 9, 10, 3, 3, 5, 7, 10, 5, 6, 4, 8, 5, 7, 10, 1, 2, 3, 4, 5, 6, 7, 8, 9, 10, 1, 1, 2, 3, 4, 5, 6, 7, 8, 9, 10, 1, 9, 10, 10, 1, 2, 3, 4, 5, 6, 7, 8, 9, 10, 6, 2, 4, 5, 1, 2, 3, 4, 5, 6, 7, 8, 9, 10, 3, 1, 2, 3, 4, 5, 6, 7, 8, 9, 10, 9, 9, 1, 2, 3, 4, 5, 6, 7, 8, 9, 10, 7, 1, 2, 3, 4, 5, 6, 7, 8, 9, 10, 4, 4, 7, 4, 1, 2, 3, 4, 5, 6, 7, 8, 9, 10, 1, 2, 3, 4, 5, 6, 7, 8, 9, 10, 4, 5, 6, 8, 10, 9, 10, 1, 2, 3, 4, 5, 7, 1, 4, 5, 6, 10, 2, 3, 7, 2, 7, 2, 1, 5, 10, 1, 2, 3, 4, 5, 6, 7, 8, 9, 10, 5, 3, 9, 1, 2, 3, 5, 7, 8, 9, 10, 2, 4, 6, 5, 9, 7, 10, 1, 2, 3, 4, 5, 6, 7, 8, 9, 10, 1, 2, 3, 4, 5, 6, 7, 8, 9, 1, 2, 3, 4, 5, 6, 7, 8, 9, 10, 5, 8, 1, 2, 3, 4, 5, 6, 7, 8, 9, 3, 1, 3, 4, 5, 1, 2, 3, 4, 5, 6, 7, 8, 9, 10, 10, 8, 1, 4, 1, 2, 3, 4, 5, 6, 7, 8, 9, 10, 1, 2, 4, 5, 6, 8, 9, 1, 2, 3, 4, 5, 6, 7, 8, 9, 10, 8, 1, 5, 6, 8, 8, 9, 1, 2, 3, 4, 5, 6, 7, 8, 9, 1, 2, 3, 4, 5, 6, 7, 8, 9, 10, 4, 1, 2, 4, 5, 6, 7, 9, 1, 3, 4, 5, 1, 2, 3, 4, 5, 6, 7, 8, 9, 10, 2, 1, 2, 3, 4, 5, 6, 7, 8, 9, 10, 1, 2, 3, 4, 5, 6, 7, 8, 9, 10, 1, 6, 1, 2, 3, 4, 5, 6, 7, 8, 9, 10, 2, 1, 2, 4, 5, 6, 7, 8, 9, 1, 5, 7, 9, 1, 3, 4, 5, 6, 10, 5, 1, 4, 2, 6, 5, 1, 2, 3, 4, 5, 6, 7, 8, 9, 10, 5, 7, 3, 1, 3, 5, 6, 8, 3, 8, 9, 10, 8, 1, 2, 3, 4, 5, 6, 7, 8, 9, 10, 1, 2, 3, 4, 5, 6, 7, 8, 9, 10, 1, 2, 3, 4, 5, 6, 7, 8, 9, 10, 8, 1, 5, 6, 7, 8, 9, 10, 3, 2, 6, 6, 1, 2, 3, 4, 6, 7, 8, 9, 10, 5, 7, 9, 1, 2, 3, 4, 5, 6, 7, 8, 9, 10, 1, 2, 3, 4, 5, 6, 7, 8, 9, 10, 1, 1, 3, 1, 2, 3, 4, 5, 6, 7, 8, 9, 10, 1, 3, 4, 5, 1, 4, 7, 8, 10, 2, 8, 1, 2, 3, 4, 5, 6, 7, 8, 9, 10, 6, 1, 2, 6, 1, 1, 2, 3, 4, 5, 6, 7, 8, 9, 10, 1, 2, 3, 4, 5, 6, 7, 8, 9, 10, 1, 2, 3, 4, 5, 6, 7, 8, 9, 10, 9, 1, 2, 3, 4, 5, 6, 7, 8, 9, 10, 1, 2, 3, 4, 5, 6, 7, 8, 9, 10, 1, 2, 3, 4, 5, 6, 7, 8, 9, 10, 1, 2, 3, 4, 5, 6, 7, 8, 9, 10, 1, 2, 3, 4, 5, 6, 7, 8, 9, 10, 7, 9, 1, 2, 3, 4, 5, 6, 7, 8, 9, 10, 5, 4, 2, 4, 5, 8, 9, 8, 7, 10], \"Freq\": [0.5571091545635606, 0.1923788345693454, 0.09017757870438066, 0.13226044876642495, 0.19839067314963746, 0.12624861018613293, 0.060118385802920435, 0.060118385802920435, 0.04809470864233635, 0.07214206296350452, 0.01803551574087613, 0.6988541149454076, 0.158326897992556, 0.158326897992556, 0.316653795985112, 0.158326897992556, 0.5700854689287492, 0.5636280436992772, 0.5652649110742336, 0.23301236658376592, 0.23301236658376592, 0.23301236658376592, 0.46602473316753185, 0.261116675898517, 0.522233351797034, 0.7595755351451914, 0.7786961769233661, 0.5701284154439076, 0.6993124864373275, 0.5325004579549961, 0.26625022897749806, 0.0922942600603511, 0.5537655603621067, 0.0922942600603511, 0.1845885201207022, 0.18420677297540286, 0.12105016509812189, 0.13157626641100204, 0.09999796247236156, 0.13683931706744212, 0.04999898123618078, 0.12368169042634193, 0.08157728517482127, 0.02894677861042045, 0.042104405251520656, 0.5298731251547847, 0.17728387844590127, 0.5318516353377039, 0.7567978365927455, 0.9173371128630631, 0.1933276783614037, 0.16018579064230593, 0.20437497426776963, 0.08285471929774445, 0.09942566315729333, 0.1049493111104763, 0.02209459181273185, 0.06628377543819555, 0.049712831578646664, 0.02209459181273185, 0.7597185865487888, 0.5700509188218251, 0.1638188803658525, 0.054606293455284165, 0.14561678254742444, 0.07280839127371222, 0.1274146847289964, 0.018202097818428055, 0.2366272716395647, 0.03640419563685611, 0.09101048909214028, 0.054606293455284165, 0.5350289291301716, 0.2675144645650858, 0.6945690795569693, 0.23718981591697094, 0.0431254210758129, 0.0431254210758129, 0.0862508421516258, 0.1293762632274387, 0.23718981591697094, 0.06468813161371935, 0.0431254210758129, 0.0431254210758129, 0.06468813161371935, 0.22467052964848963, 0.44934105929697926, 0.5581026201987999, 0.5797582532296112, 0.09625925152139393, 0.08556377913012794, 0.1283456686951919, 0.2566913373903838, 0.10695472391265992, 0.04278188956506397, 0.07486830673886194, 0.06417283434759595, 0.07486830673886194, 0.06417283434759595, 0.10301997967642368, 0.10301997967642368, 0.10301997967642368, 0.08830283972264887, 0.11773711963019849, 0.07358569976887405, 0.058868559815099246, 0.04415141986132443, 0.22075709930662218, 0.08830283972264887, 0.15494431464226285, 0.1734596729957408, 0.1383779413786247, 0.18320459844493972, 0.08088288122835105, 0.06041853778503331, 0.059444045240113416, 0.0740614334139118, 0.05554607506043385, 0.021438835988237627, 0.563647029539963, 0.7027766239946066, 0.25266858547086, 0.08673697710193702, 0.15838926253397195, 0.06410993959708389, 0.09050815001941255, 0.07919463126698598, 0.0980504958543636, 0.08673697710193702, 0.05656759376213284, 0.030169383339804182, 0.5802389914079441, 0.11787674910345776, 0.13174460193915868, 0.17334816044626142, 0.18028208686411187, 0.06933926417850457, 0.031202668880327054, 0.06933926417850457, 0.06240533776065411, 0.1352115651480839, 0.027735705671401826, 0.12533916810656168, 0.12533916810656168, 0.13926574234062408, 0.11141259387249927, 0.22282518774499854, 0.027853148468124818, 0.08355944540437446, 0.06963287117031204, 0.013926574234062409, 0.06963287117031204, 0.1725495193592817, 0.5176485580778452, 0.1725495193592817, 0.1725495193592817, 0.5802369934583828, 0.07377183150447035, 0.18442957876117588, 0.036885915752235175, 0.07377183150447035, 0.036885915752235175, 0.036885915752235175, 0.18442957876117588, 0.25820141026564625, 0.036885915752235175, 0.11065774725670553, 0.04917375972477103, 0.1475212791743131, 0.04917375972477103, 0.04917375972477103, 0.09834751944954206, 0.12293439931192758, 0.09834751944954206, 0.07376063958715655, 0.09834751944954206, 0.22128191876146966, 0.6291766140422146, 0.7046604619783529, 0.236872812401922, 0.10828471424087864, 0.1353558928010983, 0.07444574104060406, 0.07444574104060406, 0.04737456248038441, 0.04060676784032949, 0.04060676784032949, 0.16919486600137287, 0.06767794640054915, 0.5284104035631434, 0.6971056041012056, 0.5801945507562608, 0.22557907983684194, 0.6767372395105258, 0.5802246505279235, 0.38841644791654784, 0.056841431402421635, 0.09947250495423786, 0.04736785950201803, 0.1421035785060541, 0.04736785950201803, 0.07578857520322885, 0.04263107355181622, 0.037894287601614424, 0.061578217352623435, 0.7579980626170447, 0.17089613763043454, 0.12679390856451594, 0.12128112993127611, 0.2094855880631133, 0.06064056496563806, 0.11025557266479648, 0.049615007699158414, 0.038589450432678765, 0.05512778633239824, 0.06064056496563806, 0.5652637680768074, 0.2736026694291845, 0.04974593989621537, 0.062182424870269204, 0.1492378196886461, 0.07461890984432305, 0.04974593989621537, 0.024872969948107684, 0.23629321450702298, 0.04974593989621537, 0.024872969948107684, 0.7760146159460638, 0.2487740444055345, 0.12438702220276725, 0.12438702220276725, 0.37316106660830173, 0.7597663418450007, 0.5777223287709989, 0.28886116438549947, 0.5612963354146072, 0.18070923730773197, 0.18070923730773197, 0.542127711923196, 0.7371915823559027, 0.6944368424259855, 0.5801749006614831, 0.5801676297203621, 0.1611388255519795, 0.10742588370131967, 0.08728353050732224, 0.14771059008931456, 0.046998824119327355, 0.040284706387994876, 0.11414000143265216, 0.15442470782064702, 0.060427059581992314, 0.08728353050732224, 0.20934604705828797, 0.050243051293989115, 0.033495367529326074, 0.14235531199963583, 0.08373841882331519, 0.008373841882331519, 0.07536457694098367, 0.2512152564699456, 0.11723378635264127, 0.041869209411657594, 0.15980898900549023, 0.2018639861121982, 0.15139798958414863, 0.05887699594939114, 0.12616499132012388, 0.03364399768536636, 0.05046599652804955, 0.05887699594939114, 0.05887699594939114, 0.0925209936347575, 0.2450366746267321, 0.15701379150839145, 0.1046758610055943, 0.08564388627730442, 0.10229686416455806, 0.10943385468766677, 0.03568495261554351, 0.03568495261554351, 0.08088589259523196, 0.038063949456579746, 0.768206607636256, 0.08992562383371183, 0.40466530725170324, 0.08992562383371183, 0.044962811916855916, 0.044962811916855916, 0.08992562383371183, 0.044962811916855916, 0.044962811916855916, 0.044962811916855916, 0.08992562383371183, 0.5275416521533026, 0.09591666402787322, 0.19183332805574643, 0.04795833201393661, 0.04795833201393661, 0.04795833201393661, 0.09591666402787322, 0.21684852051332154, 0.13010911230799294, 0.07589698217966254, 0.11926668628232685, 0.140951538333659, 0.054212130128330385, 0.04336970410266431, 0.021684852051332155, 0.09758183423099469, 0.10842426025666077, 0.23302251706762436, 0.1751686507611797, 0.07633496248767005, 0.037765718283373606, 0.09160195498520407, 0.14624171760795737, 0.07071028104121016, 0.08919137722243553, 0.06347854775290457, 0.01526699249753401, 0.5298660534749996, 0.5448397583311121, 0.5801268168256842, 0.12441177353532969, 0.24882354707065937, 0.49764709414131875, 0.12441177353532969, 0.7452868003607324, 0.5694319598787211, 0.18981065329290703, 0.5802067794634569, 0.17331751668839582, 0.2946397783702729, 0.15598576501955624, 0.05199525500651875, 0.05199525500651875, 0.03466350333767917, 0.06932700667535834, 0.08665875834419791, 0.08665875834419791, 0.017331751668839584, 0.22227421464852604, 0.4445484292970521, 0.17584134215489333, 0.52752402646468, 0.17584134215489333, 0.6948990112629446, 0.5801722747726225, 0.5635934436146494, 0.2228346978650238, 0.2228346978650238, 0.4456693957300476, 0.15844788767925141, 0.15844788767925141, 0.47534366303775427, 0.23107838548713378, 0.08224823890220016, 0.16057989499953365, 0.06266532487786679, 0.07833165609733349, 0.09399798731680019, 0.07049849048760014, 0.06658190768273346, 0.09399798731680019, 0.06266532487786679, 0.27268392908539507, 0.5453678581707901, 0.5570984261968244, 0.14633276105465007, 0.03658319026366252, 0.24388793509108345, 0.03658319026366252, 0.09755517403643338, 0.08536077728187921, 0.06097198377277086, 0.03658319026366252, 0.10974957079098756, 0.14633276105465007, 0.5581312729725646, 0.7374814018666689, 0.1668499335758551, 0.15254851069792466, 0.2383570479655073, 0.02383570479655073, 0.0524385505524116, 0.038137127674481165, 0.04767140959310146, 0.09057567822689278, 0.07627425534896233, 0.1144113830234435, 0.558139460717676, 0.136324566247071, 0.14871770863316838, 0.16111085101926576, 0.19209370698450917, 0.0681622831235355, 0.07435885431658419, 0.136324566247071, 0.030982855965243413, 0.04337599835134078, 0.006196571193048683, 0.7290333441588456, 0.10414762059412079, 0.7684086317556058, 0.1655575059424178, 0.2055196625492083, 0.0856331927288368, 0.19410190351869674, 0.07421543369832523, 0.039962156606790505, 0.10275983127460415, 0.034253277091534716, 0.06850655418306943, 0.028544397576278933, 0.7427757741849343, 0.2593354699292015, 0.518670939858403, 0.5342868948585711, 0.26714344742928553, 0.5652815330547442, 0.25812473720949497, 0.15404218188308572, 0.07493943983501467, 0.10408255532640927, 0.058286230982789185, 0.14987887967002933, 0.058286230982789185, 0.058286230982789185, 0.03330641770445096, 0.05412292876973281, 0.08883542514327629, 0.17767085028655258, 0.5330125508596577, 0.08883542514327629, 0.08883542514327629, 0.08883542514327629, 0.21973048063091252, 0.6591914418927376, 0.6946126524142364, 0.3767355261082262, 0.09209090638201085, 0.10046280696219366, 0.041859502900914024, 0.05860330406127963, 0.08371900580182805, 0.10046280696219366, 0.05860330406127963, 0.05860330406127963, 0.041859502900914024, 0.46998919809954404, 0.11749729952488601, 0.11749729952488601, 0.11749729952488601, 0.11749729952488601, 0.5283737810052559, 0.18878304833960138, 0.29497351303062713, 0.20058198886082645, 0.011798940521225086, 0.03539682156367526, 0.03539682156367526, 0.10619046469102578, 0.05899470260612543, 0.047195762084900346, 0.011798940521225086, 0.09337738644532564, 0.09337738644532564, 0.09337738644532564, 0.09337738644532564, 0.3735095457813026, 0.09337738644532564, 0.09337738644532564, 0.2000979777371865, 0.0666993259123955, 0.04764237565171107, 0.22868340312821314, 0.08575627617307993, 0.08575627617307993, 0.04764237565171107, 0.057170850782053285, 0.11434170156410657, 0.057170850782053285, 0.13763721354052894, 0.08602325846283058, 0.21505814615707647, 0.07742093261654752, 0.09462558430911364, 0.034409303385132234, 0.06881860677026447, 0.04301162923141529, 0.15484186523309504, 0.08602325846283058, 0.5581288186897981, 0.5701196249220856, 0.580234290718725, 0.7508410025664355, 0.17354287615552189, 0.5206286284665657, 0.17354287615552189, 0.8542251051583412, 0.5636248028168216, 0.2732961615385961, 0.05465923230771921, 0.10931846461543843, 0.05465923230771921, 0.05465923230771921, 0.05465923230771921, 0.05465923230771921, 0.2732961615385961, 0.22968374845393427, 0.22968374845393427, 0.45936749690786854, 0.16188651772552456, 0.17305110515487107, 0.13955734286683152, 0.08373440572009891, 0.08931669943477218, 0.07815211200542566, 0.03349376228803957, 0.14513963658150478, 0.03907605600271283, 0.06140523086140587, 0.1475184629229126, 0.1290786550575485, 0.11678544981397247, 0.14137186030112456, 0.11063884719218445, 0.03687961573072815, 0.07990583408324432, 0.030733013108940124, 0.07990583408324432, 0.1290786550575485, 0.2819581035138677, 0.5639162070277354, 0.5581090380319866, 0.741412429804033, 0.2135852810212213, 0.04805668822977479, 0.1655285927914465, 0.11747190456167171, 0.08009448038295798, 0.04805668822977479, 0.04805668822977479, 0.08543411240848851, 0.09077374443401905, 0.10679264051061065, 0.368269566401194, 0.5636280794365346, 0.25168695013457765, 0.05752844574504632, 0.17258533723513897, 0.0719105571813079, 0.15101217008074658, 0.0647195014631771, 0.02157316715439237, 0.05752844574504632, 0.03595527859065395, 0.12224794720822343, 0.22326959867539029, 0.053159428256045305, 0.12758262781450874, 0.10631885651209061, 0.22326959867539029, 0.12758262781450874, 0.042527542604836245, 0.031895656953627186, 0.021263771302418123, 0.042527542604836245, 0.7771837195982476, 0.7548449569192264, 0.19039366665013008, 0.19039366665013008, 0.38078733330026016, 0.1933282148083008, 0.18315304560786394, 0.1424523688061164, 0.08140135360349508, 0.1390606457393041, 0.0712261844030582, 0.04748412293537213, 0.05426756906899672, 0.04748412293537213, 0.04409239986855984, 0.2729604310729319, 0.5459208621458638, 0.7308231316995318, 0.20177143661638303, 0.08381275059449757, 0.1614171492931064, 0.10243780628216369, 0.0682918708547758, 0.11485451007394111, 0.09312527843833063, 0.015520879739721771, 0.1086461581780524, 0.05277099111505402, 0.580174218366177, 0.5700998266341959, 0.3374607369773229, 0.44994764930309716, 0.22497382465154858, 0.09687367897920454, 0.09687367897920454, 0.09687367897920454, 0.04843683948960227, 0.04843683948960227, 0.3390578764272159, 0.09687367897920454, 0.04843683948960227, 0.14531051846880683, 0.15374487210773194, 0.110696307917567, 0.20909302606651545, 0.06149794884309277, 0.09224692326463917, 0.11684610280187628, 0.06764774372740205, 0.0553481539587835, 0.09224692326463917, 0.04919835907447422, 0.5700838464299021, 0.056038955536919156, 0.11207791107383831, 0.19613634437921704, 0.056038955536919156, 0.028019477768459578, 0.30821425545305536, 0.1400973888422979, 0.028019477768459578, 0.08405843330537874, 0.6976027049460383, 0.1519188861575238, 0.10264789605238095, 0.08211831684190476, 0.27509636142038096, 0.1190715594207619, 0.061588737631428574, 0.09033014852609524, 0.016423663368380952, 0.061588737631428574, 0.04105915842095238, 0.24157999721813284, 0.08223999905298139, 0.0565399993489247, 0.23643999727732148, 0.06681999923054738, 0.06681999923054738, 0.08223999905298139, 0.041119999526490696, 0.010279999881622674, 0.11821999863866074, 0.5581349877282513, 0.10510440769114873, 0.6306264461468923, 0.10510440769114873, 0.15262943684836042, 0.6105177473934417, 0.15262943684836042, 0.15262943684836042, 0.6907935521505644, 0.1726983880376411, 0.6969040990723624, 0.5581078544611263, 0.2250447972027031, 0.4500895944054062, 0.2250447972027031, 0.5306962659064238, 0.2653481329532119, 0.5701184672327719, 0.5570704720699605, 0.5801188359138368, 0.4904711074456581, 0.08174518457427635, 0.08174518457427635, 0.08174518457427635, 0.08174518457427635, 0.08174518457427635, 0.6989022293277249, 0.570096104287112, 0.5652691288739274, 0.6968336021502919, 0.27558513164117193, 0.5511702632823439, 0.569966569406368, 0.8579159921031076, 0.5700582639794198, 0.24136903762533218, 0.13642597778823123, 0.10494305983710095, 0.07346014188597066, 0.07870729487782571, 0.0996959068452459, 0.03673007094298533, 0.0892016008615358, 0.12593167180452114, 0.015741458975565142, 0.20098734527274417, 0.1802402644703964, 0.08169163065924441, 0.08428501575953788, 0.08169163065924441, 0.18542703467098334, 0.04149416160469557, 0.058351164756603145, 0.02982392865337494, 0.055757779656309674, 0.7000688305624052, 0.5298579138902818, 0.58018667173401, 0.7785384117516401, 0.5720493557262856, 0.2860246778631428, 0.5635983192256561, 0.290250458374522, 0.580500916749044, 0.18241314151738994, 0.19227331132914074, 0.1380423773645113, 0.10846186792925888, 0.07888135849400646, 0.06902118868225565, 0.009860169811750807, 0.12325212264688509, 0.03944067924700323, 0.05423093396462944, 0.7810839733814368, 0.5700989398945798, 0.3048284829812965, 0.11349996706750401, 0.08107140504821715, 0.10052854225978927, 0.12322853567329006, 0.0453999868270016, 0.02594284961542949, 0.08431426125014584, 0.10052854225978927, 0.02594284961542949, 0.0869343275373015, 0.0869343275373015, 0.347737310149206, 0.173868655074603, 0.173868655074603, 0.0869343275373015, 0.3963414613450085, 0.07621951179711701, 0.045731707078270206, 0.15243902359423403, 0.030487804718846805, 0.12195121887538722, 0.015243902359423403, 0.045731707078270206, 0.07621951179711701, 0.045731707078270206, 0.5636518917512084, 0.5802093306259432, 0.3866022589182621, 0.1990338832092077, 0.2919163620401713, 0.13268925547280513, 0.053075702189122054, 0.11942032992552462, 0.026537851094561027, 0.06634462773640257, 0.026537851094561027, 0.03980677664184154, 0.053075702189122054, 0.559128299604934, 0.279564149802467, 0.580232709828767, 0.7372253992506832, 0.7046552408096239, 0.24730117342236815, 0.06744577456973677, 0.2323132235179822, 0.059951799617543794, 0.14238552409166652, 0.044963849713157845, 0.06744577456973677, 0.037469874760964875, 0.06744577456973677, 0.037469874760964875, 0.09066386698460654, 0.10879664038152786, 0.14506218717537048, 0.07253109358768524, 0.10879664038152786, 0.21759328076305573, 0.07253109358768524, 0.07253109358768524, 0.07253109358768524, 0.05439832019076393, 0.3696919596451369, 0.6966635453904912, 0.5298400733549136, 0.6992124712759807, 0.6971788578926319, 0.5581058829836361, 0.24418248833656048, 0.17135613216600737, 0.06425854956225276, 0.20134345529505865, 0.047122936345652025, 0.05569074295395239, 0.08996196938715387, 0.04283903304150184, 0.047122936345652025, 0.03427122643320147, 0.22454489684579548, 0.056974078304157065, 0.11394815660831413, 0.14411090394580905, 0.06702832741665538, 0.07708257652915368, 0.08378540927081922, 0.0636769110458226, 0.10724532386664859, 0.060325494674989835, 0.10156972754879558, 0.10156972754879558, 0.08962034783717257, 0.25691166379989466, 0.02987344927905752, 0.07767096812554955, 0.08962034783717257, 0.09559503769298407, 0.11351910726041858, 0.04779751884649203, 0.6969132738157341, 0.22027236015140003, 0.44054472030280006, 0.6969599888037495, 0.7787944558962507, 0.3798522984536345, 0.3798522984536345, 0.13861822377701155, 0.2446203949006086, 0.10600217112359707, 0.09784815796024345, 0.1223101974503043, 0.0407700658167681, 0.03261605265341448, 0.04892407898012172, 0.14677223694036517, 0.01630802632670724, 0.5570952287698213, 0.7594797668857316, 0.5801704749957701, 0.18630922960535334, 0.55892768881606, 0.18630922960535334, 0.759806247499783, 0.18649379833134108, 0.18649379833134108, 0.5594813949940233, 0.18577645463762452, 0.13113632092067612, 0.07649618720372774, 0.1967044813810142, 0.0710321738320329, 0.08742421394711741, 0.03278408023016903, 0.15299237440745547, 0.027320066858474195, 0.043712106973558706, 0.692585678737707, 0.23086189291256903, 0.18639948255273572, 0.5591984476582071, 0.18639948255273572, 0.2137058584318219, 0.11066910525933635, 0.07632352086850783, 0.14119851360673946, 0.1774521860192807, 0.055334552629668174, 0.03625367241254122, 0.07441543284679512, 0.07059925680336973, 0.041977936477679306, 0.06602737867920964, 0.19808213603762895, 0.16506844669802412, 0.11554791268861689, 0.07428080101411086, 0.18982871370272775, 0.03301368933960482, 0.057773956344308444, 0.09078764568391326, 0.008253422334901206, 0.7567712751037781, 0.22291947768170392, 0.22291947768170392, 0.44583895536340784, 0.5268818171494896, 0.7377058734385825, 0.15879381586504385, 0.15879381586504385, 0.15879381586504385, 0.4763814475951315, 0.18388111152212647, 0.15406255289691678, 0.1789113517512582, 0.10436495518823395, 0.09442543564649739, 0.04969759770868283, 0.09442543564649739, 0.07951615633389253, 0.04969759770868283, 0.01490927931260485, 0.5704694721385206, 0.08149563887693152, 0.08149563887693152, 0.16299127775386305, 0.15345136936918122, 0.06864929682305475, 0.11105033309611799, 0.06461110289228683, 0.12518401185380573, 0.08480207254612646, 0.07268749075382268, 0.17768053295378877, 0.07268749075382268, 0.06864929682305475, 0.11584499886262742, 0.6950699931757645, 0.11584499886262742, 0.28578951330934715, 0.5715790266186943, 0.19253266709146344, 0.10241099313375715, 0.114700312309808, 0.09421811368305658, 0.061446595880254286, 0.1392789506619097, 0.04915727670420343, 0.09012167395770629, 0.061446595880254286, 0.10241099313375715, 0.19157491306004992, 0.2873623695900749, 0.11175203261836246, 0.07982288044168746, 0.07982288044168746, 0.03192915217667499, 0.015964576088337495, 0.11175203261836246, 0.07982288044168746, 0.015964576088337495, 0.5765188635828278, 0.2882594317914139, 0.08148472807909986, 0.2933450210847595, 0.16296945615819972, 0.01629694561581997, 0.11407861931073981, 0.01629694561581997, 0.06518778246327989, 0.08148472807909986, 0.16296945615819972, 0.697719849814676, 0.23712263172824474, 0.1491279051103414, 0.15283294623109525, 0.08058464437639568, 0.09355228829903406, 0.059280657932061186, 0.0778058635358303, 0.03427163036697287, 0.05557561681130736, 0.061133178492438094, 0.17446109352220343, 0.08723054676110172, 0.6106138273277121, 0.08723054676110172, 0.6970734557806668, 0.7448812603232768, 0.7565565465258978, 0.16143383966785757, 0.12417987666758275, 0.03725396300027482, 0.12417987666758275, 0.08692591366730792, 0.1986878026681324, 0.07450792600054965, 0.07450792600054965, 0.11176188900082447, 0.012417987666758275, 0.5283901247801018, 0.5570898207553626, 0.7596894017788905, 0.2282360017678053, 0.03566187527621958, 0.14977987616012223, 0.15691225121536614, 0.08558850066292699, 0.0927208757181709, 0.1426475011048783, 0.007132375055243916, 0.03566187527621958, 0.05705900044195133, 0.15253845990710643, 0.12348351516289569, 0.0581098894884215, 0.13074725134894838, 0.08716483423263224, 0.13801098753500107, 0.07263736186052687, 0.15980219609315913, 0.02905494474421075, 0.036318680930263435, 0.28375623415510715, 0.5675124683102143, 0.1712336367595023, 0.19458367813579805, 0.13231690113234268, 0.101183512630615, 0.08561681837975114, 0.03891673562715961, 0.15566694250863844, 0.046700082752591535, 0.05448342987802346, 0.015566694250863844, 0.5802252311737427, 0.19754001338711116, 0.24559028691370574, 0.09610054705318921, 0.09076162777245647, 0.06406703136879281, 0.10143946633392194, 0.05872811208806007, 0.021355677122930936, 0.07474486993025828, 0.05872811208806007, 0.5652566592976888, 0.558102504328566, 0.5676656962529755, 0.15545695321913988, 0.23318542982870982, 0.0950014714116966, 0.13818395841701323, 0.07772847660956994, 0.043182487005316635, 0.05181898440637996, 0.034545989604253306, 0.12091096361488658, 0.043182487005316635, 0.2778113479257015, 0.555622695851403, 0.5701275290751643, 0.5701063189969389, 0.5298774055216768, 0.6966666822798434, 0.5571112161425232, 0.5571178168605235, 0.533253071053009, 0.5701171072111904, 0.7682249198837751, 0.27773385518162225, 0.5554677103632445, 0.19212075411961968, 0.24267884730899328, 0.07078133046512304, 0.08089294910299775, 0.0505580931893736, 0.02022323727574944, 0.04044647455149888, 0.13145104229237137, 0.1011161863787472, 0.07078133046512304, 0.14438860809082113, 0.08493447534754185, 0.13589516055606696, 0.08493447534754185, 0.15288205562557533, 0.19534929329934625, 0.042467237673770926, 0.042467237673770926, 0.050960685208525106, 0.06794758027803348, 0.7372239828877059, 0.27822809835773665, 0.5564561967154733, 0.37624651528378333, 0.37624651528378333, 0.529879865788209, 0.6965294683578653, 0.6581069449537758, 0.7387963696566718, 0.7545921624868808, 0.5526698029441072, 0.5284005412051973, 0.19241367073769183, 0.09817024017229174, 0.17277962270323347, 0.14136514584810012, 0.09424343056540008, 0.05890214410337505, 0.07460938253094172, 0.07068257292405006, 0.0392680960689167, 0.05890214410337505, 0.27226773636477825, 0.5445354727295565, 0.5304255071995709, 0.17680850239985696, 0.17070270503525664, 0.24099205416742114, 0.11045469149340137, 0.055227345746700685, 0.14559936605948362, 0.08535135251762832, 0.03514467456608225, 0.0702893491321645, 0.03514467456608225, 0.050206677951546076, 0.2240063332035296, 0.2240063332035296, 0.4480126664070592, 0.3352049824206853, 0.10628450662119289, 0.09810877534263959, 0.0735815815069797, 0.0572301189498731, 0.06540585022842639, 0.0572301189498731, 0.0735815815069797, 0.10628450662119289, 0.024527193835659898, 0.7370463691547995, 0.7570155822982336, 0.7467935493991548, 0.16093690453269785, 0.057477465904534945, 0.1034594386281629, 0.3103783158844887, 0.08046845226634892, 0.06897295908544193, 0.057477465904534945, 0.04598197272362796, 0.04598197272362796, 0.06897295908544193, 0.7399918419893464, 0.696688419019012, 0.28194263470877234, 0.5638852694175447, 0.23620035520542831, 0.07278266759237036, 0.1812700400413752, 0.08376873062518096, 0.10711411456990354, 0.07278266759237036, 0.09612805153709292, 0.05493031516405309, 0.06454312031776238, 0.03158493121933053, 0.12399752697592628, 0.24799505395185256, 0.12399752697592628, 0.12399752697592628, 0.37199258092777887, 0.275501389709293, 0.551002779418586, 0.2639752847375515, 0.527950569475103, 0.350271622710549, 0.1386862262508773, 0.06045297041704907, 0.07823325583382822, 0.09245748416725152, 0.10490368395899692, 0.048006770625303674, 0.053340856250337416, 0.03733859937523619, 0.03556057083355828, 0.570124258055379, 0.2254621341810467, 0.6763864025431401, 0.21657297719468474, 0.030938996742097817, 0.12375598696839127, 0.030938996742097817, 0.09281699022629346, 0.1546949837104891, 0.061877993484195634, 0.24751197393678254, 0.030938996742097817, 0.1592116086612895, 0.14536712095161217, 0.1938228279354829, 0.06922243854838675, 0.055377950838709396, 0.055377950838709396, 0.0830669262580641, 0.04153346312903205, 0.0830669262580641, 0.11767814553225746, 0.1645271520621083, 0.10282947003881769, 0.11311241704269946, 0.15424420505822653, 0.1953759930737536, 0.061697682023290616, 0.020565894007763538, 0.11311241704269946, 0.010282947003881769, 0.061697682023290616, 0.15787918327610403, 0.08209717530357409, 0.1452488486140157, 0.037891003986264965, 0.10104267729670657, 0.08209717530357409, 0.1452488486140157, 0.05683650597939745, 0.12630334662088322, 0.05683650597939745, 0.17684328767856833, 0.058947762559522776, 0.058947762559522776, 0.209592044656081, 0.14409453070105568, 0.06549751395502532, 0.1047960223280405, 0.05239801116402025, 0.05239801116402025, 0.07859701674603037, 0.5283974717768974, 0.16691032007004752, 0.14338604677158445, 0.1635497095988385, 0.14450625026198743, 0.07729404083780723, 0.08961627923224028, 0.06049098848176219, 0.08513546527062826, 0.03808691867370212, 0.0324859012216871, 0.09289292325474094, 0.09289292325474094, 0.18578584650948188, 0.46446461627370467, 0.09289292325474094, 0.5802388576341243, 0.251995382497901, 0.18899653687342574, 0.05399901053526449, 0.09899818598131824, 0.06299884562447525, 0.11099796610026591, 0.08399846083263365, 0.04799912047579066, 0.06299884562447525, 0.038999285386579916, 0.5570885165110997, 0.2224230406785444, 0.6672691220356332, 0.14849016453799418, 0.07424508226899709, 0.07424508226899709, 0.5939606581519767, 0.07424508226899709, 0.20514392658421257, 0.07581405982460031, 0.13378951733752995, 0.08473336098043563, 0.1382491679154476, 0.13378951733752995, 0.05351580693501198, 0.07581405982460031, 0.05351580693501198, 0.05351580693501198, 0.2787754617136581, 0.13654308328832232, 0.1137859027402686, 0.09102872219221489, 0.1536109686993626, 0.045514361096107445, 0.05120365623312087, 0.0568929513701343, 0.03982506595909401, 0.045514361096107445, 0.7466986818514608, 0.7372493507373366, 0.5515731798171637, 0.20350055950638055, 0.1139603133235731, 0.06512017904204177, 0.12210033570382833, 0.05698015666178655, 0.04884013428153133, 0.08140022380255221, 0.17094046998535967, 0.08140022380255221, 0.06512017904204177, 0.21056851733096635, 0.631705551992899, 0.7759604332439334, 0.7371285598015735, 0.2186494460616544, 0.4372988921233088, 0.5526809892340617, 0.37762099667109855, 0.22802147872270448, 0.45604295744540896, 0.5581361341188539, 0.5571021323926382, 0.5700774018476543, 0.7029446733669855, 0.27638852993213325, 0.01727428312075833, 0.08637141560379165, 0.03454856624151666, 0.1209199818453083, 0.06045999092265415, 0.06909713248303331, 0.1727428312075833, 0.06045999092265415, 0.09500855716417081, 0.2339495053131112, 0.1169747526565556, 0.10347766581156842, 0.10797669475989749, 0.09897863686323936, 0.1529669842431881, 0.04499028948329062, 0.026994173689974373, 0.08548155001825218, 0.017996115793316246, 0.2753849533024543, 0.10053736390407063, 0.10053736390407063, 0.13550688178374737, 0.06556784602439389, 0.09616617416911102, 0.04808308708455551, 0.06119665628943429, 0.08305260496423225, 0.03934070761463633, 0.5801661911635818, 0.5567472806960493, 0.37661642556662583, 0.5021552340888344, 0.23959861861837978, 0.0706508747208043, 0.10444042350031939, 0.0952250920149971, 0.17816307538289777, 0.0798662062061266, 0.049148434588385595, 0.046076657426611496, 0.0737226518825784, 0.061435543235482, 0.7564657464185269, 0.701029418733787, 0.5298770789782855, 0.8539591074369329, 0.16904223319161718, 0.09391235177312066, 0.31930199602861026, 0.07512988141849652, 0.07512988141849652, 0.056347411063872394, 0.056347411063872394, 0.09391235177312066, 0.03756494070924826, 0.01878247035462413, 0.6968105797636203, 0.5571102284694058, 0.525731419089617, 0.17524380636320566, 0.17524380636320566, 0.10015286095561382, 0.10015286095561382, 0.10785692718296873, 0.084744728500904, 0.12326505963767856, 0.13096912586503345, 0.0770406622735491, 0.084744728500904, 0.14637725831974327, 0.03852033113677455, 0.08809541777951584, 0.08156983127732949, 0.0783070380262363, 0.06199307177077041, 0.13703731654591353, 0.1435629030480999, 0.1729280423079385, 0.11746055703935446, 0.06851865827295676, 0.04894189876639769, 0.18063491669910217, 0.056059112079031706, 0.14949096554408456, 0.12457580462007045, 0.11834701438906693, 0.04360153161702466, 0.07474548277204228, 0.062287902310035226, 0.13080459485107399, 0.062287902310035226, 0.22598074930485065, 0.032282964186407234, 0.06456592837281447, 0.06456592837281447, 0.12913185674562894, 0.0968488925592217, 0.32282964186407237, 0.032282964186407234, 0.032282964186407234, 0.6523397308575324, 0.13046794617150648, 0.13046794617150648, 0.786825251568625, 0.6644184108640594, 0.23057187911310667, 0.05764296977827667, 0.2882148488913833, 0.05764296977827667, 0.028821484889138334, 0.259393364002245, 0.05764296977827667, 0.028821484889138334, 0.028821484889138334, 0.2581839098578126, 0.07766507857511436, 0.1280424268400534, 0.11544808977381865, 0.08606130328593754, 0.12174525830693603, 0.04198112355411587, 0.04198112355411587, 0.11754714595152443, 0.010495280888528968, 0.23318188612021104, 0.10830248739232551, 0.1259845261502562, 0.10277685028047216, 0.13482554552922155, 0.08288455667780013, 0.06851790018698145, 0.07735891956594679, 0.04531022431719741, 0.02210254844741337, 0.5636460142986024, 0.23454238095588734, 0.09622251526395377, 0.11426423687594511, 0.15034768009992777, 0.108250329671948, 0.15034768009992777, 0.030069536019985556, 0.042097350427979775, 0.036083443223982666, 0.048111257631976885, 0.5570539372337993, 0.5795428580354679, 0.28977142901773395, 0.6948730207772457, 0.45650053506051724, 0.1014445633467816, 0.30433369004034483, 0.0507222816733908, 0.0507222816733908, 0.22323752344408937, 0.669712570332268, 0.7333739275925222, 0.5652754399758039, 0.2907148730812326, 0.2907148730812326, 0.7465024119244722, 0.7407396188931816, 0.6981028411039025, 0.5652732127113985, 0.10104492606809519, 0.10104492606809519, 0.10104492606809519, 0.10104492606809519, 0.10104492606809519, 0.10104492606809519, 0.40417970427238076, 0.745038530264407, 0.24758795898485886, 0.04384370107023542, 0.06963411346449155, 0.18311192799921852, 0.06705507222506595, 0.10574069081645014, 0.04900178354908665, 0.06447603098564032, 0.10058260833759891, 0.06963411346449155, 0.23307766033057797, 0.04661553206611559, 0.15538510688705198, 0.09323106413223119, 0.062154042754820796, 0.015538510688705199, 0.14761585154269938, 0.1087695748209364, 0.10100031947658379, 0.031077021377410398, 0.6750717565156612, 0.7433019273085099, 0.13984903584231845, 0.02542709742587608, 0.16527613326819451, 0.1271354871293804, 0.15256258455525648, 0.03814064613881412, 0.1907032306940706, 0.07628129227762824, 0.05085419485175216, 0.03814064613881412, 0.5700990847222897, 0.7500241415089927, 0.1585692236509573, 0.47570767095287186, 0.10571281576730486, 0.10571281576730486, 0.05285640788365243, 0.05285640788365243, 0.05285640788365243, 0.5298602704948723, 0.5581355352662147, 0.6992377395145906, 0.7565981184224589, 0.32964822296727736, 0.32964822296727736, 0.5255959138687575, 0.26279795693437874, 0.37675006639781833, 0.37675006639781833, 0.1660191541069216, 0.36133580599741766, 0.029297497783574402, 0.048829162972624005, 0.029297497783574402, 0.048829162972624005, 0.19531665189049602, 0.019531665189049602, 0.09765832594524801, 0.009765832594524801, 0.5802344343285294, 0.802698170955674, 0.5652840206215867, 0.4821499638831684, 0.1607166546277228, 0.1607166546277228, 0.3736217725524321, 0.5570964876762715, 0.1283605307034766, 0.1476146103089981, 0.16045066337934577, 0.10268842456278128, 0.08985237149243362, 0.07701631842208596, 0.05134421228139064, 0.10268842456278128, 0.03209013267586915, 0.11552447763312895, 0.47484392400988445, 0.14610582277227213, 0.14610582277227213, 0.03652645569306803, 0.03652645569306803, 0.03652645569306803, 0.07305291138613607, 0.03652645569306803, 0.03652645569306803, 0.2574022893925967, 0.09841852241481638, 0.07570655570370491, 0.07570655570370491, 0.10977450577037211, 0.16276909476296555, 0.026497294496296717, 0.05299458899259343, 0.034067950066667206, 0.10977450577037211, 0.18274345628698305, 0.09137172814349152, 0.18274345628698305, 0.45685864071745763, 0.20160824430799787, 0.11577503138479087, 0.1377323649232857, 0.061879758153939944, 0.059883636923167685, 0.049903030769306404, 0.16567806215409728, 0.06986424307702897, 0.11577503138479087, 0.021957333538494817, 0.8578420477620569, 0.7082237801000953, 0.5570697290221045, 0.6966653869304952, 0.25379798765147227, 0.10618079075214655, 0.0673341599891661, 0.1502069722835244, 0.05956483383657002, 0.05438528306817263, 0.11395011690474265, 0.062154609220768715, 0.07769326152596089, 0.05179550768397393, 0.2682763747478075, 0.0926192246153145, 0.10858805644554113, 0.06068156095486122, 0.1277506546418131, 0.05110026185672524, 0.12136312190972244, 0.10858805644554113, 0.0351314300264986, 0.02555013092836262, 0.5700989930089064, 0.5284082338608637, 0.7487420973449114, 0.19976982965649936, 0.19976982965649936, 0.4994245741412484, 0.14054139669815055, 0.14054139669815055, 0.14054139669815055, 0.4216241900944517, 0.37070576086688645, 0.07414115217337729, 0.44484691304026375, 0.694667219956506, 0.1663731677877786, 0.1276287314536384, 0.2461411249463026, 0.08660521062925462, 0.05013985878535794, 0.08660521062925462, 0.0911633796097417, 0.05469802776584502, 0.05241894327560148, 0.03874443633414022, 0.563625841138214, 0.5802261963655683, 0.696913565729739, 0.28184630877216016, 0.5636926175443203, 0.55812666812823, 0.19826343627329324, 0.09229504792032615, 0.14015173943456935, 0.15382507986721025, 0.07178503727136479, 0.12306006389376821, 0.06494836705504434, 0.08204004259584548, 0.05811169683872387, 0.01709167554080114, 0.5570946545871949, 0.7352164201147802, 0.5652759894753443, 0.570091775691316, 0.4560731695990755, 0.4560731695990755, 0.24012492511336325, 0.0706249779745186, 0.1412499559490372, 0.08474997356942232, 0.08474997356942232, 0.14831245374648908, 0.04237498678471116, 0.02824999118980744, 0.12712496035413348, 0.04237498678471116, 0.2781543070428031, 0.5563086140856062, 0.1731442889164224, 0.10883355303317979, 0.13356845144981155, 0.12367449208315885, 0.11378053271650614, 0.07915167493322166, 0.10883355303317979, 0.054416776516589896, 0.07420469524989531, 0.03957583746661083, 0.8579224501285205, 0.5570575583697733, 0.5700953641518078, 0.6967803805814405, 0.1423089434774376, 0.2846178869548752, 0.1423089434774376, 0.4269268304323128, 0.5581196804688138, 0.6970645803724483, 0.696769567821505, 0.3533396193947631, 0.7066792387895262, 0.22634531381953812, 0.20342426938211655, 0.11460522218710792, 0.01432565277338849, 0.06016774164823165, 0.05443748053887626, 0.07162826386694245, 0.06303287220290936, 0.10314469996839712, 0.08881904719500863, 0.7010476444258933, 0.3149535744400975, 0.11603552742529907, 0.16576503917899868, 0.016576503917899867, 0.03315300783579973, 0.03315300783579973, 0.03315300783579973, 0.0497295117536996, 0.08288251958949934, 0.1491885352610988, 0.13395162159968824, 0.14033027024729244, 0.19773810807573025, 0.12757297295208403, 0.08292243241885462, 0.06378648647604201, 0.08292243241885462, 0.051029189180833615, 0.07654378377125041, 0.04465054053322941, 0.44423346230657595, 0.22211673115328798, 0.781073030596766, 0.23676115407654508, 0.1639115682068389, 0.0789203846921817, 0.11534517762703478, 0.11534517762703478, 0.11534517762703478, 0.024283195289902058, 0.048566390579804115, 0.018212396467426544, 0.0789203846921817, 0.5531041995075638, 0.708938196129983, 0.10127688516142615, 0.10127688516142615, 0.3874690280922723, 0.28216900572203396, 0.5643380114440679, 0.5298597844844839, 0.5571115437765335, 0.188858400241369, 0.566575200724107, 0.3904606444090857, 0.2499122250695646, 0.06942006251932349, 0.21520219380990285, 0.10413009377898524, 0.09024608127512054, 0.034710031259661746, 0.0555360500154588, 0.13884012503864698, 0.0277680250077294, 0.020826018755797048, 0.8313472613812881, 0.1962795331170139, 0.1401996665121528, 0.028039933302430556, 0.08411979990729167, 0.2803993330243056, 0.028039933302430556, 0.05607986660486111, 0.05607986660486111, 0.08411979990729167, 0.028039933302430556, 0.3756558256969529, 0.3756558256969529, 0.5802361128447124, 0.5802301270547752, 0.16585695874731704, 0.20413164153515942, 0.15309873115136957, 0.10844493456555344, 0.05741202418176359, 0.09568670696960598, 0.07017025177771105, 0.07654936557568479, 0.03827468278784239, 0.03189556898986866, 0.7468053628108315, 0.18467026715676976, 0.18467026715676976, 0.5540108014703093, 0.19170409772906846, 0.13942116198477705, 0.07319611004200796, 0.24398703347335984, 0.10108034243896337, 0.11153692958782165, 0.013942116198477706, 0.06971058099238853, 0.01045658714885828, 0.045311877645052547, 0.7305963413212165, 0.18807675523121373, 0.09957004688711314, 0.2655201250323017, 0.13276006251615086, 0.05531669271506286, 0.044253354172050285, 0.06638003125807543, 0.033190015629037714, 0.08850670834410057, 0.022126677086025143, 0.5700687277359299, 0.37966371601836657, 0.1262317313642035, 0.13412121457446619, 0.21301604667709337, 0.1262317313642035, 0.0867843153128899, 0.0867843153128899, 0.06311586568210174, 0.055226382471839024, 0.09467379852315261, 0.007889483210262718, 0.37883544008913933, 0.11931305915966117, 0.1055461677181618, 0.12849098678732743, 0.22944819069165612, 0.07801238483516308, 0.055067565765997466, 0.059656529579830586, 0.07342342102132995, 0.09177927627666244, 0.055067565765997466, 0.5298754868329044, 0.6993912218963971, 0.7566753854562069, 0.7789072340430727, 0.16937934123452858, 0.10162760474071715, 0.14566623346169458, 0.10840277839009829, 0.12872829933824173, 0.06775173649381144, 0.09824001791602659, 0.09824001791602659, 0.050813802370358575, 0.03387586824690572, 0.4311589138363887, 0.1001401348265161, 0.08345011235543008, 0.09735846441466843, 0.06954176029619173, 0.047288397001410375, 0.0639784194724964, 0.030598374530324362, 0.02781670411847669, 0.05007006741325805, 0.6083326911695571, 0.15208317279238928, 0.15208317279238928, 0.15208317279238928, 0.5802039750583404, 0.5700793772625982, 0.5802294087329654, 0.11482609965555737, 0.22965219931111475, 0.05741304982777869, 0.11482609965555737, 0.4593043986222295, 0.05741304982777869, 0.12323139911520951, 0.12323139911520951, 0.12323139911520951, 0.49292559646083806, 0.12323139911520951, 0.18223016023746488, 0.5466904807123947, 0.18223016023746488, 0.6944648644977136, 0.756832175016144, 0.5283968266905495, 0.19204209853140236, 0.19204209853140236, 0.576126295594207, 0.3255275703965512, 0.08231731665200145, 0.09354240528636529, 0.17211802572691215, 0.07109222801763762, 0.0636088355947284, 0.05986713938327379, 0.048642050748909954, 0.056125443171819174, 0.02619187348018228, 0.5690751499312482, 0.44918536751791116, 0.22459268375895558, 0.5333132080045977, 0.04444276733371647, 0.1777710693348659, 0.04444276733371647, 0.04444276733371647, 0.04444276733371647, 0.08888553466743294, 0.04444276733371647, 0.6995414281001988, 0.2735369645387095, 0.547073929077419, 0.5744809015168802, 0.2872404507584401, 0.7473428595437575, 0.5802043553339536, 0.23895187359289147, 0.07522558983479917, 0.07965062453096383, 0.154876214365763, 0.11062586740411642, 0.12832600618877504, 0.01327510408849397, 0.10177579801178711, 0.05310041635397588, 0.04425034696164657, 0.17500239175102125, 0.08750119587551063, 0.04375059793775531, 0.08750119587551063, 0.08750119587551063, 0.3062541855642872, 0.04375059793775531, 0.13125179381326593, 0.04375059793775531, 0.15544345648243546, 0.11957188960187344, 0.05978594480093672, 0.07772172824121773, 0.20327221232318485, 0.12555048408196712, 0.047828755840749373, 0.02989297240046836, 0.1076147006416861, 0.06576453928103039, 0.7596725111838954, 0.5570900071967747, 0.41785204890698235, 0.07959086645847283, 0.07959086645847283, 0.019897716614618206, 0.07959086645847283, 0.03979543322923641, 0.03979543322923641, 0.13928401630232745, 0.07959086645847283, 0.5526932230899314, 0.10845300127573386, 0.5422650063786693, 0.10845300127573386, 0.10845300127573386, 0.19713004827466332, 0.05871958884777206, 0.09227363961792752, 0.07130235788658036, 0.08388512692538866, 0.10485640865673582, 0.18874153558212448, 0.04194256346269433, 0.07549661423284978, 0.07969087057911922, 0.5802287196215925, 0.557090587353861, 0.2596790666652082, 0.5193581333304164, 0.4464336175583376, 0.10181819347821734, 0.09398602474912371, 0.06265734983274913, 0.07832168729093641, 0.046993012374561854, 0.007832168729093642, 0.07832168729093641, 0.06265734983274913, 0.023496506187280927, 0.46940832639204294, 0.027612254493649582, 0.027612254493649582, 0.08283676348094875, 0.1932857814555471, 0.08283676348094875, 0.08283676348094875, 0.13913481818522816, 0.1264861983502074, 0.11383757851518667, 0.11383757851518667, 0.02529723967004148, 0.05059447934008296, 0.20237791736033184, 0.03794585950506222, 0.11383757851518667, 0.0632430991751037, 0.3721263474310642, 0.6967776038883514, 0.5682130574321085, 0.28410652871605424, 0.557101186154387, 0.5571036392303245, 0.5700361825364878, 0.05098273681631153, 0.10196547363262307, 0.05098273681631153, 0.05098273681631153, 0.05098273681631153, 0.05098273681631153, 0.30589642089786917, 0.05098273681631153, 0.20393094726524613, 0.12074968776327309, 0.15093710970409135, 0.09056226582245482, 0.15093710970409135, 0.030187421940818273, 0.060374843881636546, 0.030187421940818273, 0.24149937552654618, 0.060374843881636546, 0.060374843881636546, 0.7023735049753089, 0.06210685874700591, 0.06210685874700591, 0.06210685874700591, 0.18632057624101772, 0.37264115248203544, 0.06210685874700591, 0.12421371749401182, 0.06787273373489378, 0.5429818698791502, 0.20361820120468135, 0.06787273373489378, 0.21449315345660686, 0.14530181363189498, 0.13838267964942377, 0.027676535929884758, 0.07611047380718308, 0.17989748354425092, 0.07611047380718308, 0.04843393787729832, 0.04151480389482713, 0.055353071859769516, 0.5284057025137554, 0.29880559592326755, 0.06936558476790139, 0.11472000557768307, 0.10138047004539434, 0.07470139898081689, 0.07736930608727463, 0.0987125629389366, 0.05069023502269717, 0.05335814212915492, 0.05869395634207041, 0.2061719721696418, 0.2284608340258193, 0.1058720938168431, 0.0835832319606656, 0.05014993917639936, 0.12258874020897621, 0.03343329278426624, 0.07243880103257685, 0.0835832319606656, 0.01671664639213312, 0.7469203963135562, 0.14938407926271124, 0.20102821104767352, 0.22256694794563853, 0.1435915793197668, 0.15077115828575513, 0.07897536862587173, 0.04307747379593004, 0.014359157931976679, 0.05025705276191838, 0.05025705276191838, 0.04307747379593004, 0.6944323253637671, 0.22447873101838425, 0.1683590482637882, 0.02805984137729803, 0.02805984137729803, 0.05611968275459606, 0.30865825515027834, 0.05611968275459606, 0.11223936550919213, 0.2508944552784952, 0.1254472276392476, 0.1254472276392476, 0.37634168291774284, 0.2381031703929706, 0.07936772346432353, 0.07936772346432353, 0.3968386173216177, 0.07936772346432353, 0.07936772346432353, 0.7656418962280699, 0.6966297637147255, 0.5298699599765953, 0.5251052896651331, 0.5581099765315573, 0.7597208289404754, 0.25262425717330167, 0.045931683122418486, 0.11023603949380435, 0.10564287118156251, 0.1791335641774321, 0.03215217818569294, 0.08727019793259512, 0.08727019793259512, 0.08267702962035327, 0.018372673248967394, 0.5711275982644061, 0.28556379913220303, 0.5507518006347336, 0.207199375946349, 0.069066458648783, 0.207199375946349, 0.138132917297566, 0.34533229324391496, 0.7412070144142623, 0.5571145765998811, 0.29491310999623727, 0.5898262199924745, 0.5570525697689078, 0.3082069819498421, 0.10787244368244474, 0.12328279277993684, 0.10787244368244474, 0.04623104729247632, 0.03852587274373026, 0.04623104729247632, 0.04623104729247632, 0.1309879673286829, 0.03852587274373026, 0.3552740312868034, 0.08805937527621623, 0.07591325454846226, 0.17915528073437095, 0.09109590545815471, 0.05769407345683132, 0.04554795272907736, 0.039474892365200374, 0.04554795272907736, 0.024292241455507926, 0.24927702918546307, 0.06043079495405165, 0.1586308367543856, 0.1057538911695904, 0.1208615899081033, 0.06420771963867988, 0.0793154183771928, 0.06043079495405165, 0.03776924684628229, 0.06420771963867988, 0.5571143563389712, 0.07597242746782944, 0.3798621373391472, 0.07597242746782944, 0.07597242746782944, 0.07597242746782944, 0.15194485493565887, 0.07597242746782944, 0.7381496651844479, 0.6947111682888552, 0.5581494544882484, 0.558119017981308, 0.07079983340907672, 0.07079983340907672, 0.14159966681815345, 0.07079983340907672, 0.14159966681815345, 0.07079983340907672, 0.07079983340907672, 0.14159966681815345, 0.2831993336363069, 0.5652416290566332, 0.57201229978742, 0.28600614989371, 0.3515240419167001, 0.09934375097645873, 0.10698557797464786, 0.1375528859674044, 0.07641826998189133, 0.05349278898732393, 0.06113461598551306, 0.038209134990945665, 0.03056730799275653, 0.0458509619891348, 0.39344547788617246, 0.13619266542213662, 0.06053007352094961, 0.12106014704189921, 0.015132518380237402, 0.1664577021826114, 0.030265036760474803, 0.06053007352094961, 0.015132518380237402, 0.015132518380237402, 0.7803457569223009, 0.27396864553287814, 0.5479372910657563, 0.16328776733117073, 0.11061429399853502, 0.19489185133075218, 0.06847551533242643, 0.08954490466548073, 0.07374286266569001, 0.06847551533242643, 0.03160408399958144, 0.17908980933096147, 0.02633673666631786, 0.13584083792075616, 0.5433633516830246, 0.13584083792075616, 0.13584083792075616, 0.1713734551449197, 0.08568672757245985, 0.4284336378622992, 0.08568672757245985, 0.08568672757245985, 0.5299306821865091, 0.26496534109325454, 0.18303098888709335, 0.11905899277121605, 0.1386059915844008, 0.1545989906133701, 0.09240399438960052, 0.14038299147650848, 0.049755996979015664, 0.03376299795004634, 0.05864099643955418, 0.03198599805793864, 0.5580967784863325, 0.2410410485349693, 0.12052052426748465, 0.4820820970699386, 0.6967417759662112, 0.3218744774914819, 0.10510187020130023, 0.21020374040260045, 0.04598206821306885, 0.06568866887581264, 0.06568866887581264, 0.0722575357633939, 0.05911980198823137, 0.026275467550325057, 0.026275467550325057, 0.24189809604184806, 0.14004626612949098, 0.10185182991235708, 0.09548609054283476, 0.07638887243426781, 0.07002313306474549, 0.08912035117331245, 0.11458330865140172, 0.044560175586656224, 0.03182869684761159, 0.18415640039965775, 0.0736625601598631, 0.18415640039965775, 0.08944739447983377, 0.08944739447983377, 0.10523222879980443, 0.0736625601598631, 0.052616114399902214, 0.08418578303984355, 0.06313933727988266, 0.5700727120516348, 0.08519601552655962, 0.12779402328983944, 0.04259800776327981, 0.10649501940819953, 0.021299003881639904, 0.12779402328983944, 0.2768870504613188, 0.04259800776327981, 0.12779402328983944, 0.021299003881639904, 0.3191841575532192, 0.05020874388477606, 0.08248579352498923, 0.15421257050324075, 0.07889945467607666, 0.08248579352498923, 0.03944972733803833, 0.08607213237390181, 0.043036066186950904, 0.06455409928042635, 0.3413206662632563, 0.1383732430796985, 0.1383732430796985, 0.0737990629758392, 0.0737990629758392, 0.0276746486159397, 0.1014737115917789, 0.0368995314879196, 0.0461244143598995, 0.0092248828719799, 0.22600778819762088, 0.09262614270394298, 0.15931696545078194, 0.16672705686709738, 0.08892109699578526, 0.04816559420605035, 0.07780595987131211, 0.033345411373419474, 0.05928073133052351, 0.04446054849789263, 0.23136894543730196, 0.12211138786968716, 0.13817867574727757, 0.1317517605962414, 0.08997681211450632, 0.06748260908587975, 0.08194316817571111, 0.06426915151036167, 0.0465951348450122, 0.02249420302862658, 0.5636427275593685, 0.5701031731505547, 0.3382266971672146, 0.12191892572306572, 0.10618745143621854, 0.09832171429279493, 0.12191892572306572, 0.035395817145406176, 0.027530080001982583, 0.035395817145406176, 0.10618745143621854, 0.007865737143423595, 0.7598227594129715, 0.5298685649660262, 0.12508144937394783, 0.12508144937394783, 0.12508144937394783, 0.12508144937394783, 0.37524434812184354, 0.5571096683173152, 0.2931316527564277, 0.5862633055128554], \"Term\": [\"abit\", \"able\", \"able\", \"able\", \"able\", \"able\", \"able\", \"able\", \"able\", \"able\", \"able\", \"accent\", \"accessible\", \"accessible\", \"accessible\", \"accessible\", \"acompana\", \"adapt\", \"additives\", \"adjuster\", \"adjuster\", \"adjuster\", \"adjuster\", \"afford\", \"afford\", \"ag\", \"ahead\", \"aired\", \"alexa\", \"allergic\", \"allergic\", \"alone\", \"alone\", \"alone\", \"alone\", \"also\", \"also\", \"also\", \"also\", \"also\", \"also\", \"also\", \"also\", \"also\", \"also\", \"amazong\", \"american\", \"american\", \"angles\", \"aquaphor\", \"around\", \"around\", \"around\", \"around\", \"around\", \"around\", \"around\", \"around\", \"around\", \"around\", \"arranged\", \"arriatation\", \"arrived\", \"arrived\", \"arrived\", \"arrived\", \"arrived\", \"arrived\", \"arrived\", \"arrived\", \"arrived\", \"arrived\", \"aspect\", \"aspect\", \"ass\", \"assemble\", \"assemble\", \"assemble\", \"assemble\", \"assemble\", \"assemble\", \"assemble\", \"assemble\", \"assemble\", \"assemble\", \"attaching\", \"attaching\", \"attract\", \"aug\", \"away\", \"away\", \"away\", \"away\", \"away\", \"away\", \"away\", \"away\", \"away\", \"away\", \"awesome\", \"awesome\", \"awesome\", \"awesome\", \"awesome\", \"awesome\", \"awesome\", \"awesome\", \"awesome\", \"awesome\", \"baby\", \"baby\", \"baby\", \"baby\", \"baby\", \"baby\", \"baby\", \"baby\", \"baby\", \"baby\", \"babyhood\", \"babysit\", \"back\", \"back\", \"back\", \"back\", \"back\", \"back\", \"back\", \"back\", \"back\", \"back\", \"backups\", \"bag\", \"bag\", \"bag\", \"bag\", \"bag\", \"bag\", \"bag\", \"bag\", \"bag\", \"bag\", \"bags\", \"bags\", \"bags\", \"bags\", \"bags\", \"bags\", \"bags\", \"bags\", \"bags\", \"bags\", \"balm\", \"balm\", \"balm\", \"balm\", \"bananas\", \"base\", \"base\", \"base\", \"base\", \"base\", \"base\", \"base\", \"base\", \"base\", \"base\", \"basket\", \"basket\", \"basket\", \"basket\", \"basket\", \"basket\", \"basket\", \"basket\", \"basket\", \"basket\", \"battle\", \"beaver\", \"bed\", \"bed\", \"bed\", \"bed\", \"bed\", \"bed\", \"bed\", \"bed\", \"bed\", \"bed\", \"beep\", \"beige\", \"bell\", \"bello\", \"bello\", \"bentley\", \"better\", \"better\", \"better\", \"better\", \"better\", \"better\", \"better\", \"better\", \"better\", \"better\", \"bf\", \"big\", \"big\", \"big\", \"big\", \"big\", \"big\", \"big\", \"big\", \"big\", \"big\", \"biodegradeable\", \"blanket\", \"blanket\", \"blanket\", \"blanket\", \"blanket\", \"blanket\", \"blanket\", \"blanket\", \"blanket\", \"blanket\", \"blaze\", \"blend\", \"blend\", \"blend\", \"blend\", \"blending\", \"blinds\", \"blinds\", \"blocking\", \"blow\", \"blow\", \"blow\", \"boiling\", \"bookcase\", \"boost\", \"boton\", \"bottle\", \"bottle\", \"bottle\", \"bottle\", \"bottle\", \"bottle\", \"bottle\", \"bottle\", \"bottle\", \"bottle\", \"bottles\", \"bottles\", \"bottles\", \"bottles\", \"bottles\", \"bottles\", \"bottles\", \"bottles\", \"bottles\", \"bottles\", \"bottom\", \"bottom\", \"bottom\", \"bottom\", \"bottom\", \"bottom\", \"bottom\", \"bottom\", \"bottom\", \"bottom\", \"bought\", \"bought\", \"bought\", \"bought\", \"bought\", \"bought\", \"bought\", \"bought\", \"bought\", \"bought\", \"bouncy\", \"bowl\", \"bowl\", \"bowl\", \"bowl\", \"bowl\", \"bowl\", \"bowl\", \"bowl\", \"bowl\", \"bowl\", \"bows\", \"bows\", \"bows\", \"bows\", \"bows\", \"bows\", \"bows\", \"box\", \"box\", \"box\", \"box\", \"box\", \"box\", \"box\", \"box\", \"box\", \"box\", \"br\", \"br\", \"br\", \"br\", \"br\", \"br\", \"br\", \"br\", \"br\", \"br\", \"bracing\", \"branches\", \"breakdown\", \"breastfeeding\", \"breastfeeding\", \"breastfeeding\", \"breastfeeding\", \"breath\", \"breeze\", \"breeze\", \"breezeway\", \"broke\", \"broke\", \"broke\", \"broke\", \"broke\", \"broke\", \"broke\", \"broke\", \"broke\", \"broke\", \"brushes\", \"brushes\", \"bubbles\", \"bubbles\", \"bubbles\", \"buenas\", \"bugaboo\", \"bugs\", \"butter\", \"butter\", \"butter\", \"butterflies\", \"butterflies\", \"butterflies\", \"buy\", \"buy\", \"buy\", \"buy\", \"buy\", \"buy\", \"buy\", \"buy\", \"buy\", \"buy\", \"cake\", \"cake\", \"camelback\", \"camera\", \"camera\", \"camera\", \"camera\", \"camera\", \"camera\", \"camera\", \"camera\", \"camera\", \"camera\", \"canada\", \"canal\", \"car\", \"car\", \"car\", \"car\", \"car\", \"car\", \"car\", \"car\", \"car\", \"car\", \"cepillo\", \"chair\", \"chair\", \"chair\", \"chair\", \"chair\", \"chair\", \"chair\", \"chair\", \"chair\", \"chair\", \"cheese\", \"cheese\", \"chewy\", \"child\", \"child\", \"child\", \"child\", \"child\", \"child\", \"child\", \"child\", \"child\", \"child\", \"chilly\", \"chlorine\", \"chlorine\", \"citrus\", \"citrus\", \"clatter\", \"clean\", \"clean\", \"clean\", \"clean\", \"clean\", \"clean\", \"clean\", \"clean\", \"clean\", \"clean\", \"closet\", \"closet\", \"closet\", \"closet\", \"closet\", \"closet\", \"cm\", \"cm\", \"colchon\", \"color\", \"color\", \"color\", \"color\", \"color\", \"color\", \"color\", \"color\", \"color\", \"color\", \"colored\", \"colored\", \"colored\", \"colored\", \"colored\", \"coloreful\", \"colors\", \"colors\", \"colors\", \"colors\", \"colors\", \"colors\", \"colors\", \"colors\", \"colors\", \"colors\", \"combination\", \"combination\", \"combination\", \"combination\", \"combination\", \"combination\", \"combination\", \"come\", \"come\", \"come\", \"come\", \"come\", \"come\", \"come\", \"come\", \"come\", \"come\", \"comfortable\", \"comfortable\", \"comfortable\", \"comfortable\", \"comfortable\", \"comfortable\", \"comfortable\", \"comfortable\", \"comfortable\", \"comfortable\", \"comodas\", \"comparisons\", \"components\", \"conditioning\", \"confident\", \"confident\", \"confident\", \"confortable\", \"connections\", \"containers\", \"containers\", \"containers\", \"containers\", \"containers\", \"containers\", \"containers\", \"containers\", \"convert\", \"convert\", \"convert\", \"could\", \"could\", \"could\", \"could\", \"could\", \"could\", \"could\", \"could\", \"could\", \"could\", \"cover\", \"cover\", \"cover\", \"cover\", \"cover\", \"cover\", \"cover\", \"cover\", \"cover\", \"cover\", \"cracks\", \"cracks\", \"crannies\", \"creamy\", \"crib\", \"crib\", \"crib\", \"crib\", \"crib\", \"crib\", \"crib\", \"crib\", \"crib\", \"crib\", \"crossing\", \"crowd\", \"cup\", \"cup\", \"cup\", \"cup\", \"cup\", \"cup\", \"cup\", \"cup\", \"cup\", \"cup\", \"cups\", \"cups\", \"cups\", \"cups\", \"cups\", \"cups\", \"cups\", \"cups\", \"cups\", \"cups\", \"curtain\", \"curves\", \"cushions\", \"cushions\", \"cushions\", \"cute\", \"cute\", \"cute\", \"cute\", \"cute\", \"cute\", \"cute\", \"cute\", \"cute\", \"cute\", \"dandruff\", \"dandruff\", \"dates\", \"daughter\", \"daughter\", \"daughter\", \"daughter\", \"daughter\", \"daughter\", \"daughter\", \"daughter\", \"daughter\", \"daughter\", \"dealing\", \"death\", \"decal\", \"decal\", \"decal\", \"decent\", \"decent\", \"decent\", \"decent\", \"decent\", \"decent\", \"decent\", \"decent\", \"decent\", \"definitely\", \"definitely\", \"definitely\", \"definitely\", \"definitely\", \"definitely\", \"definitely\", \"definitely\", \"definitely\", \"definitely\", \"depict\", \"described\", \"described\", \"described\", \"described\", \"described\", \"described\", \"described\", \"described\", \"described\", \"desire\", \"diaper\", \"diaper\", \"diaper\", \"diaper\", \"diaper\", \"diaper\", \"diaper\", \"diaper\", \"diaper\", \"diaper\", \"diapers\", \"diapers\", \"diapers\", \"diapers\", \"diapers\", \"diapers\", \"diapers\", \"diapers\", \"diapers\", \"diapers\", \"digital\", \"dining\", \"dining\", \"dining\", \"disappointment\", \"disappointment\", \"disappointment\", \"disappointment\", \"disgusting\", \"disgusting\", \"dislodged\", \"disminuye\", \"disney\", \"disney\", \"disney\", \"doctor\", \"doctor\", \"doll\", \"dolly\", \"dominate\", \"doorway\", \"doorway\", \"doorway\", \"doorway\", \"doorway\", \"doorway\", \"dorpu\", \"dosent\", \"doublers\", \"dragging\", \"drainage\", \"drainage\", \"dressers\", \"drives\", \"duren\", \"easily\", \"easily\", \"easily\", \"easily\", \"easily\", \"easily\", \"easily\", \"easily\", \"easily\", \"easily\", \"easy\", \"easy\", \"easy\", \"easy\", \"easy\", \"easy\", \"easy\", \"easy\", \"easy\", \"easy\", \"eden\", \"eel\", \"effortless\", \"elephants\", \"elmo\", \"elmo\", \"encouraging\", \"english\", \"english\", \"enough\", \"enough\", \"enough\", \"enough\", \"enough\", \"enough\", \"enough\", \"enough\", \"enough\", \"enough\", \"entirely\", \"estrella\", \"even\", \"even\", \"even\", \"even\", \"even\", \"even\", \"even\", \"even\", \"even\", \"even\", \"excelente\", \"excelente\", \"excelente\", \"excelente\", \"excelente\", \"excelente\", \"excellent\", \"excellent\", \"excellent\", \"excellent\", \"excellent\", \"excellent\", \"excellent\", \"excellent\", \"excellent\", \"excellent\", \"expired\", \"explorer\", \"extend\", \"fabric\", \"fabric\", \"fabric\", \"fabric\", \"fabric\", \"fabric\", \"fabric\", \"fabric\", \"fabric\", \"fabric\", \"failed\", \"failed\", \"fairies\", \"familiar\", \"families\", \"far\", \"far\", \"far\", \"far\", \"far\", \"far\", \"far\", \"far\", \"far\", \"far\", \"fast\", \"fast\", \"fast\", \"fast\", \"fast\", \"fast\", \"fast\", \"fast\", \"fast\", \"fast\", \"faucets\", \"favor\", \"fdb\", \"fibers\", \"filter\", \"filthy\", \"first\", \"first\", \"first\", \"first\", \"first\", \"first\", \"first\", \"first\", \"first\", \"first\", \"fit\", \"fit\", \"fit\", \"fit\", \"fit\", \"fit\", \"fit\", \"fit\", \"fit\", \"fit\", \"fits\", \"fits\", \"fits\", \"fits\", \"fits\", \"fits\", \"fits\", \"fits\", \"fits\", \"fits\", \"flare\", \"flipping\", \"flipping\", \"floral\", \"flower\", \"foaming\", \"foaming\", \"food\", \"food\", \"food\", \"food\", \"food\", \"food\", \"food\", \"food\", \"food\", \"food\", \"fools\", \"footed\", \"ford\", \"forehead\", \"forehead\", \"forehead\", \"founder\", \"garage\", \"garage\", \"garage\", \"gate\", \"gate\", \"gate\", \"gate\", \"gate\", \"gate\", \"gate\", \"gate\", \"gate\", \"gate\", \"generic\", \"generic\", \"gerber\", \"gerber\", \"gerber\", \"get\", \"get\", \"get\", \"get\", \"get\", \"get\", \"get\", \"get\", \"get\", \"get\", \"gift\", \"gift\", \"gift\", \"gift\", \"gift\", \"gift\", \"gift\", \"gift\", \"gift\", \"gift\", \"gigi\", \"giraffe\", \"giraffe\", \"giraffe\", \"glasses\", \"glowing\", \"glue\", \"glue\", \"glue\", \"glue\", \"go\", \"go\", \"go\", \"go\", \"go\", \"go\", \"go\", \"go\", \"go\", \"go\", \"god\", \"god\", \"god\", \"god\", \"good\", \"good\", \"good\", \"good\", \"good\", \"good\", \"good\", \"good\", \"good\", \"good\", \"gorgeous\", \"gorgeous\", \"gorgeous\", \"gorilla\", \"gorilla\", \"got\", \"got\", \"got\", \"got\", \"got\", \"got\", \"got\", \"got\", \"got\", \"got\", \"granddaughter\", \"granddaughter\", \"granddaughter\", \"granddaughter\", \"granddaughter\", \"granddaughter\", \"granddaughter\", \"granddaughter\", \"granddaughter\", \"granddaughter\", \"grandmother\", \"grandmother\", \"grandson\", \"grandson\", \"grandson\", \"grandson\", \"grandson\", \"grandson\", \"grandson\", \"grandson\", \"grandson\", \"gravel\", \"great\", \"great\", \"great\", \"great\", \"great\", \"great\", \"great\", \"great\", \"great\", \"great\", \"grows\", \"grows\", \"grows\", \"grows\", \"gud\", \"guests\", \"gusto\", \"hand\", \"hand\", \"hand\", \"hand\", \"hand\", \"hand\", \"hand\", \"hand\", \"hand\", \"hand\", \"handlebar\", \"handled\", \"hangers\", \"happy\", \"happy\", \"happy\", \"happy\", \"happy\", \"happy\", \"happy\", \"happy\", \"happy\", \"happy\", \"hard\", \"hard\", \"hard\", \"hard\", \"hard\", \"hard\", \"hard\", \"hard\", \"hard\", \"hard\", \"hello\", \"hello\", \"high\", \"high\", \"high\", \"high\", \"high\", \"high\", \"high\", \"high\", \"high\", \"high\", \"hoes\", \"hold\", \"hold\", \"hold\", \"hold\", \"hold\", \"hold\", \"hold\", \"hold\", \"hold\", \"hold\", \"homes\", \"horns\", \"houdini\", \"however\", \"however\", \"however\", \"however\", \"however\", \"however\", \"however\", \"however\", \"however\", \"however\", \"hudson\", \"hudson\", \"humans\", \"humming\", \"hunters\", \"id\", \"identify\", \"iffy\", \"immediate\", \"impressions\", \"independence\", \"ink\", \"ink\", \"inside\", \"inside\", \"inside\", \"inside\", \"inside\", \"inside\", \"inside\", \"inside\", \"inside\", \"inside\", \"install\", \"install\", \"install\", \"install\", \"install\", \"install\", \"install\", \"install\", \"install\", \"install\", \"intercom\", \"interfere\", \"interfere\", \"jacked\", \"jacked\", \"jacslair\", \"january\", \"jeep\", \"jog\", \"ju\", \"jyst\", \"keeeps\", \"keep\", \"keep\", \"keep\", \"keep\", \"keep\", \"keep\", \"keep\", \"keep\", \"keep\", \"keep\", \"keyfit\", \"keyfit\", \"kicks\", \"kicks\", \"kids\", \"kids\", \"kids\", \"kids\", \"kids\", \"kids\", \"kids\", \"kids\", \"kids\", \"kids\", \"knee\", \"knee\", \"knee\", \"know\", \"know\", \"know\", \"know\", \"know\", \"know\", \"know\", \"know\", \"know\", \"know\", \"lamb\", \"laundering\", \"lavar\", \"leak\", \"leak\", \"leak\", \"leak\", \"leak\", \"leak\", \"leak\", \"leak\", \"leak\", \"leak\", \"leaky\", \"lego\", \"lighting\", \"lighting\", \"like\", \"like\", \"like\", \"like\", \"like\", \"like\", \"like\", \"like\", \"like\", \"like\", \"limited\", \"limited\", \"limited\", \"limited\", \"limited\", \"limpiar\", \"limpiar\", \"lit\", \"lit\", \"little\", \"little\", \"little\", \"little\", \"little\", \"little\", \"little\", \"little\", \"little\", \"little\", \"llega\", \"llego\", \"llego\", \"locks\", \"locks\", \"locks\", \"locks\", \"locks\", \"locks\", \"locks\", \"locks\", \"locks\", \"long\", \"long\", \"long\", \"long\", \"long\", \"long\", \"long\", \"long\", \"long\", \"long\", \"look\", \"look\", \"look\", \"look\", \"look\", \"look\", \"look\", \"look\", \"look\", \"look\", \"looks\", \"looks\", \"looks\", \"looks\", \"looks\", \"looks\", \"looks\", \"looks\", \"looks\", \"looks\", \"lot\", \"lot\", \"lot\", \"lot\", \"lot\", \"lot\", \"lot\", \"lot\", \"lot\", \"lot\", \"lotsa\", \"love\", \"love\", \"love\", \"love\", \"love\", \"love\", \"love\", \"love\", \"love\", \"love\", \"lovely\", \"lovely\", \"lovely\", \"lovely\", \"lovely\", \"lovers\", \"loves\", \"loves\", \"loves\", \"loves\", \"loves\", \"loves\", \"loves\", \"loves\", \"loves\", \"loves\", \"lulls\", \"luv\", \"luv\", \"luvs\", \"luvs\", \"luvs\", \"luvs\", \"luvs\", \"made\", \"made\", \"made\", \"made\", \"made\", \"made\", \"made\", \"made\", \"made\", \"made\", \"make\", \"make\", \"make\", \"make\", \"make\", \"make\", \"make\", \"make\", \"make\", \"make\", \"maltese\", \"manageable\", \"maneuver\", \"many\", \"many\", \"many\", \"many\", \"many\", \"many\", \"many\", \"many\", \"many\", \"many\", \"marathon\", \"marathon\", \"matress\", \"mayo\", \"member\", \"member\", \"memeres\", \"mercury\", \"mins\", \"mins\", \"mint\", \"mistakenly\", \"moisturized\", \"molded\", \"monitor\", \"monitor\", \"monitor\", \"monitor\", \"monitor\", \"monitor\", \"monitor\", \"monitor\", \"monitor\", \"monitor\", \"month\", \"month\", \"month\", \"month\", \"month\", \"month\", \"month\", \"month\", \"month\", \"month\", \"months\", \"months\", \"months\", \"months\", \"months\", \"months\", \"months\", \"months\", \"months\", \"months\", \"moomoo\", \"motorola\", \"mouse\", \"mouse\", \"much\", \"much\", \"much\", \"much\", \"much\", \"much\", \"much\", \"much\", \"much\", \"much\", \"mucho\", \"mudslide\", \"muffling\", \"muffs\", \"music\", \"music\", \"music\", \"music\", \"music\", \"music\", \"music\", \"music\", \"music\", \"music\", \"mustard\", \"nannys\", \"native\", \"native\", \"native\", \"needed\", \"needed\", \"needed\", \"needed\", \"needed\", \"needed\", \"needed\", \"needed\", \"needed\", \"needed\", \"nice\", \"nice\", \"nice\", \"nice\", \"nice\", \"nice\", \"nice\", \"nice\", \"nice\", \"nice\", \"night\", \"night\", \"night\", \"night\", \"night\", \"night\", \"night\", \"night\", \"night\", \"night\", \"nipple\", \"nipple\", \"nipple\", \"nipple\", \"nipple\", \"nipple\", \"nipple\", \"nipple\", \"nipple\", \"nojo\", \"nojo\", \"nojo\", \"nori\", \"nutramigen\", \"ok\", \"ok\", \"ok\", \"ok\", \"ok\", \"ok\", \"ok\", \"ok\", \"ok\", \"old\", \"old\", \"old\", \"old\", \"old\", \"old\", \"old\", \"old\", \"old\", \"old\", \"one\", \"one\", \"one\", \"one\", \"one\", \"one\", \"one\", \"one\", \"one\", \"one\", \"onthe\", \"open\", \"open\", \"open\", \"open\", \"open\", \"open\", \"open\", \"open\", \"open\", \"open\", \"otter\", \"ottoman\", \"ottoman\", \"outdoors\", \"outlet\", \"outlet\", \"outlet\", \"outlet\", \"outlet\", \"oxide\", \"oxide\", \"pac\", \"painting\", \"pairing\", \"pairing\", \"parabens\", \"parte\", \"particles\", \"peanut\", \"pen\", \"pen\", \"pen\", \"pen\", \"pen\", \"pen\", \"pen\", \"penaten\", \"perfect\", \"perfect\", \"perfect\", \"perfect\", \"perfect\", \"perfect\", \"perfect\", \"perfect\", \"perfect\", \"perfect\", \"perfectly\", \"perfectly\", \"perfectly\", \"perfectly\", \"perfectly\", \"perfectly\", \"perfectly\", \"perfectly\", \"perfectly\", \"perfectly\", \"personalized\", \"phases\", \"picture\", \"picture\", \"picture\", \"picture\", \"picture\", \"picture\", \"picture\", \"picture\", \"picture\", \"picture\", \"piel\", \"pitty\", \"plates\", \"plates\", \"plates\", \"plates\", \"plates\", \"plates\", \"plates\", \"plugging\", \"pockit\", \"pom\", \"pompoms\", \"pops\", \"pops\", \"por\", \"por\", \"posts\", \"posts\", \"potty\", \"potty\", \"potty\", \"potty\", \"potty\", \"potty\", \"potty\", \"potty\", \"potty\", \"potty\", \"pours\", \"powder\", \"praising\", \"pregnancy\", \"pregnancy\", \"pregnancy\", \"pressed\", \"presses\", \"pretty\", \"pretty\", \"pretty\", \"pretty\", \"pretty\", \"pretty\", \"pretty\", \"pretty\", \"pretty\", \"pretty\", \"prevent\", \"prevent\", \"prevent\", \"prevent\", \"prevent\", \"prevent\", \"prevent\", \"prevent\", \"prevent\", \"price\", \"price\", \"price\", \"price\", \"price\", \"price\", \"price\", \"price\", \"price\", \"price\", \"print\", \"print\", \"print\", \"print\", \"product\", \"product\", \"product\", \"product\", \"product\", \"product\", \"product\", \"product\", \"product\", \"product\", \"projector\", \"prompt\", \"proteja\", \"puree\", \"put\", \"put\", \"put\", \"put\", \"put\", \"put\", \"put\", \"put\", \"put\", \"put\", \"quality\", \"quality\", \"quality\", \"quality\", \"quality\", \"quality\", \"quality\", \"quality\", \"quality\", \"quality\", \"queda\", \"quedan\", \"quot\", \"rags\", \"rags\", \"rags\", \"rain\", \"rain\", \"rain\", \"rain\", \"rashes\", \"rashes\", \"rashes\", \"realizing\", \"really\", \"really\", \"really\", \"really\", \"really\", \"really\", \"really\", \"really\", \"really\", \"really\", \"reapplied\", \"recaro\", \"recipe\", \"recipient\", \"recipient\", \"recomendables\", \"recommend\", \"recommend\", \"recommend\", \"recommend\", \"recommend\", \"recommend\", \"recommend\", \"recommend\", \"recommend\", \"recommend\", \"reg\", \"reported\", \"resizable\", \"retracts\", \"rid\", \"rid\", \"right\", \"right\", \"right\", \"right\", \"right\", \"right\", \"right\", \"right\", \"right\", \"right\", \"rods\", \"rods\", \"room\", \"room\", \"room\", \"room\", \"room\", \"room\", \"room\", \"room\", \"room\", \"room\", \"ruby\", \"sais\", \"saludos\", \"samsung\", \"scented\", \"scented\", \"scented\", \"scented\", \"sceptical\", \"screamed\", \"screams\", \"sea\", \"sea\", \"seat\", \"seat\", \"seat\", \"seat\", \"seat\", \"seat\", \"seat\", \"seat\", \"seat\", \"seat\", \"seatback\", \"seats\", \"seats\", \"seats\", \"seats\", \"seats\", \"seats\", \"seats\", \"seats\", \"seats\", \"seats\", \"see\", \"see\", \"see\", \"see\", \"see\", \"see\", \"see\", \"see\", \"see\", \"see\", \"selection\", \"selection\", \"september\", \"set\", \"set\", \"set\", \"set\", \"set\", \"set\", \"set\", \"set\", \"set\", \"set\", \"seven\", \"shampoo\", \"shampoo\", \"shampoo\", \"shelving\", \"shipment\", \"shipment\", \"shoddy\", \"shoe\", \"shoulders\", \"shoulders\", \"shrinking\", \"side\", \"side\", \"side\", \"side\", \"side\", \"side\", \"side\", \"side\", \"side\", \"side\", \"sign\", \"silicone\", \"silicone\", \"silicone\", \"silicone\", \"silicone\", \"silicone\", \"silicone\", \"silicone\", \"silicone\", \"silicone\", \"simignon\", \"simignon\", \"similac\", \"simpler\", \"since\", \"since\", \"since\", \"since\", \"since\", \"since\", \"since\", \"since\", \"since\", \"since\", \"sip\", \"situation\", \"situation\", \"situation\", \"size\", \"size\", \"size\", \"size\", \"size\", \"size\", \"size\", \"size\", \"size\", \"size\", \"skiing\", \"skin\", \"skin\", \"skin\", \"skin\", \"skin\", \"skin\", \"skin\", \"skin\", \"skin\", \"skin\", \"sky\", \"slats\", \"sleep\", \"sleep\", \"sleep\", \"sleep\", \"sleep\", \"sleep\", \"sleep\", \"sleep\", \"sleep\", \"sleep\", \"sleigh\", \"small\", \"small\", \"small\", \"small\", \"small\", \"small\", \"small\", \"small\", \"small\", \"small\", \"smash\", \"smile\", \"snappis\", \"soaker\", \"soft\", \"soft\", \"soft\", \"soft\", \"soft\", \"soft\", \"soft\", \"soft\", \"soft\", \"soft\", \"son\", \"son\", \"son\", \"son\", \"son\", \"son\", \"son\", \"son\", \"son\", \"son\", \"soooo\", \"soooo\", \"soooo\", \"soooo\", \"spasilk\", \"speaks\", \"sponged\", \"spoons\", \"spoons\", \"spoons\", \"spoons\", \"spoons\", \"spoons\", \"sprayer\", \"sprayer\", \"sprayer\", \"sprayer\", \"sprayer\", \"sprout\", \"sprout\", \"sprout\", \"squirmy\", \"stabbed\", \"stair\", \"sterilize\", \"sterilize\", \"sterilize\", \"still\", \"still\", \"still\", \"still\", \"still\", \"still\", \"still\", \"still\", \"still\", \"still\", \"stink\", \"stitched\", \"stitched\", \"stopped\", \"stopped\", \"stopped\", \"stopped\", \"stopped\", \"stopped\", \"stopped\", \"stopped\", \"stoppers\", \"stops\", \"stops\", \"story\", \"story\", \"strapped\", \"stroll\", \"stroller\", \"stroller\", \"stroller\", \"stroller\", \"stroller\", \"stroller\", \"stroller\", \"stroller\", \"stroller\", \"stroller\", \"strollers\", \"strollers\", \"strollers\", \"strollers\", \"strollers\", \"strollers\", \"strollers\", \"strollers\", \"strollers\", \"sturdy\", \"sturdy\", \"sturdy\", \"sturdy\", \"sturdy\", \"sturdy\", \"sturdy\", \"sturdy\", \"sturdy\", \"sturdy\", \"subpar\", \"suckler\", \"suction\", \"suction\", \"suction\", \"suction\", \"suction\", \"suction\", \"suction\", \"suction\", \"suction\", \"suffocation\", \"suit\", \"suit\", \"suit\", \"suit\", \"super\", \"super\", \"super\", \"super\", \"super\", \"super\", \"super\", \"super\", \"super\", \"super\", \"superhero\", \"supper\", \"supply\", \"supply\", \"sure\", \"sure\", \"sure\", \"sure\", \"sure\", \"sure\", \"sure\", \"sure\", \"sure\", \"sure\", \"swing\", \"swing\", \"swing\", \"swing\", \"swing\", \"swing\", \"swing\", \"table\", \"table\", \"table\", \"table\", \"table\", \"table\", \"table\", \"table\", \"table\", \"table\", \"tal\", \"tamano\", \"tank\", \"tank\", \"tapa\", \"tbh\", \"techy\", \"teether\", \"teether\", \"teether\", \"teether\", \"teether\", \"teether\", \"teether\", \"teether\", \"teether\", \"tell\", \"tell\", \"tell\", \"tell\", \"tell\", \"tell\", \"tell\", \"tell\", \"tell\", \"tell\", \"temporary\", \"thermometer\", \"thermometer\", \"thermometer\", \"thermometer\", \"thermometer\", \"thermometer\", \"thermometer\", \"thicker\", \"thicker\", \"thicker\", \"thicker\", \"thing\", \"thing\", \"thing\", \"thing\", \"thing\", \"thing\", \"thing\", \"thing\", \"thing\", \"thing\", \"ticket\", \"time\", \"time\", \"time\", \"time\", \"time\", \"time\", \"time\", \"time\", \"time\", \"time\", \"toddler\", \"toddler\", \"toddler\", \"toddler\", \"toddler\", \"toddler\", \"toddler\", \"toddler\", \"toddler\", \"toddler\", \"tog\", \"tog\", \"top\", \"top\", \"top\", \"top\", \"top\", \"top\", \"top\", \"top\", \"top\", \"top\", \"tough\", \"training\", \"training\", \"training\", \"training\", \"training\", \"training\", \"training\", \"training\", \"trays\", \"trays\", \"trays\", \"trays\", \"tree\", \"tree\", \"tree\", \"tree\", \"tree\", \"tree\", \"trendplay\", \"trials\", \"trifold\", \"trim\", \"tripping\", \"twinkle\", \"two\", \"two\", \"two\", \"two\", \"two\", \"two\", \"two\", \"two\", \"two\", \"two\", \"typical\", \"typical\", \"ultrasound\", \"umbrella\", \"umbrella\", \"umbrella\", \"umbrella\", \"umbrella\", \"una\", \"unbuckle\", \"undamaged\", \"undamaged\", \"undertone\", \"us\", \"us\", \"us\", \"us\", \"us\", \"us\", \"us\", \"us\", \"us\", \"us\", \"used\", \"used\", \"used\", \"used\", \"used\", \"used\", \"used\", \"used\", \"used\", \"used\", \"using\", \"using\", \"using\", \"using\", \"using\", \"using\", \"using\", \"using\", \"using\", \"using\", \"ut\", \"utensils\", \"utensils\", \"utensils\", \"utensils\", \"utensils\", \"utensils\", \"utensils\", \"vegetables\", \"venian\", \"vertical\", \"vlog\", \"waist\", \"waist\", \"waist\", \"waist\", \"waist\", \"waist\", \"waist\", \"waist\", \"waist\", \"waits\", \"wan\", \"wan\", \"want\", \"want\", \"want\", \"want\", \"want\", \"want\", \"want\", \"want\", \"want\", \"want\", \"warm\", \"warm\", \"warm\", \"warm\", \"warm\", \"warm\", \"warm\", \"warm\", \"warm\", \"warm\", \"warms\", \"washcloth\", \"washcloth\", \"way\", \"way\", \"way\", \"way\", \"way\", \"way\", \"way\", \"way\", \"way\", \"way\", \"wears\", \"wears\", \"wears\", \"wears\", \"website\", \"website\", \"website\", \"website\", \"website\", \"weights\", \"weights\", \"well\", \"well\", \"well\", \"well\", \"well\", \"well\", \"well\", \"well\", \"well\", \"well\", \"wetl\", \"wheel\", \"wheel\", \"wheel\", \"wholesale\", \"wipes\", \"wipes\", \"wipes\", \"wipes\", \"wipes\", \"wipes\", \"wipes\", \"wipes\", \"wipes\", \"wipes\", \"wish\", \"wish\", \"wish\", \"wish\", \"wish\", \"wish\", \"wish\", \"wish\", \"wish\", \"wish\", \"without\", \"without\", \"without\", \"without\", \"without\", \"without\", \"without\", \"without\", \"without\", \"without\", \"wks\", \"wonderful\", \"wonderful\", \"wonderful\", \"wonderful\", \"wonderful\", \"wonderful\", \"wonderful\", \"wonderful\", \"wonderful\", \"wonderful\", \"work\", \"work\", \"work\", \"work\", \"work\", \"work\", \"work\", \"work\", \"work\", \"work\", \"worked\", \"worked\", \"worked\", \"worked\", \"worked\", \"worked\", \"worked\", \"worked\", \"worked\", \"worked\", \"works\", \"works\", \"works\", \"works\", \"works\", \"works\", \"works\", \"works\", \"works\", \"works\", \"would\", \"would\", \"would\", \"would\", \"would\", \"would\", \"would\", \"would\", \"would\", \"would\", \"wv\", \"xs\", \"year\", \"year\", \"year\", \"year\", \"year\", \"year\", \"year\", \"year\", \"year\", \"year\", \"yesss\", \"yetis\", \"zero\", \"zero\", \"zero\", \"zero\", \"zero\", \"ziptied\", \"zoomkit\", \"zoomkit\"]}, \"R\": 30, \"lambda.step\": 0.01, \"plot.opts\": {\"xlab\": \"PC1\", \"ylab\": \"PC2\"}, \"topic.order\": [3, 6, 9, 4, 8, 2, 5, 10, 7, 1]};\n",
       "\n",
       "function LDAvis_load_lib(url, callback){\n",
       "  var s = document.createElement('script');\n",
       "  s.src = url;\n",
       "  s.async = true;\n",
       "  s.onreadystatechange = s.onload = callback;\n",
       "  s.onerror = function(){console.warn(\"failed to load library \" + url);};\n",
       "  document.getElementsByTagName(\"head\")[0].appendChild(s);\n",
       "}\n",
       "\n",
       "if(typeof(LDAvis) !== \"undefined\"){\n",
       "   // already loaded: just create the visualization\n",
       "   !function(LDAvis){\n",
       "       new LDAvis(\"#\" + \"ldavis_el828825149326826405874994158\", ldavis_el828825149326826405874994158_data);\n",
       "   }(LDAvis);\n",
       "}else if(typeof define === \"function\" && define.amd){\n",
       "   // require.js is available: use it to load d3/LDAvis\n",
       "   require.config({paths: {d3: \"https://d3js.org/d3.v5\"}});\n",
       "   require([\"d3\"], function(d3){\n",
       "      window.d3 = d3;\n",
       "      LDAvis_load_lib(\"https://cdn.jsdelivr.net/gh/bmabey/pyLDAvis@3.4.0/pyLDAvis/js/ldavis.v3.0.0.js\", function(){\n",
       "        new LDAvis(\"#\" + \"ldavis_el828825149326826405874994158\", ldavis_el828825149326826405874994158_data);\n",
       "      });\n",
       "    });\n",
       "}else{\n",
       "    // require.js not available: dynamically load d3 & LDAvis\n",
       "    LDAvis_load_lib(\"https://d3js.org/d3.v5.js\", function(){\n",
       "         LDAvis_load_lib(\"https://cdn.jsdelivr.net/gh/bmabey/pyLDAvis@3.4.0/pyLDAvis/js/ldavis.v3.0.0.js\", function(){\n",
       "                 new LDAvis(\"#\" + \"ldavis_el828825149326826405874994158\", ldavis_el828825149326826405874994158_data);\n",
       "            })\n",
       "         });\n",
       "}\n",
       "</script>"
      ],
      "text/plain": [
       "PreparedData(topic_coordinates=              x         y  topics  cluster       Freq\n",
       "topic                                                \n",
       "2     -0.008200  0.005882       1        1  20.707813\n",
       "5     -0.020898  0.012858       2        1  12.271996\n",
       "8     -0.012751 -0.005976       3        1  11.870955\n",
       "3     -0.019409  0.004087       4        1  11.007595\n",
       "7     -0.003250  0.012244       5        1   9.495353\n",
       "1     -0.014634  0.035687       6        1   8.426141\n",
       "4      0.011326 -0.054000       7        1   7.201162\n",
       "9     -0.000247  0.014326       8        1   7.028692\n",
       "6     -0.009161 -0.039777       9        1   7.021669\n",
       "0      0.077224  0.014669      10        1   4.968625, topic_info=        Term         Freq        Total Category  logprob  loglift\n",
       "28        br  1244.000000  1244.000000  Default  30.0000  30.0000\n",
       "84      good   495.000000   495.000000  Default  29.0000  29.0000\n",
       "34      easy   771.000000   771.000000  Default  28.0000  28.0000\n",
       "3    product   500.000000   500.000000  Default  27.0000  27.0000\n",
       "164     nice   306.000000   306.000000  Default  26.0000  26.0000\n",
       "..       ...          ...          ...      ...      ...      ...\n",
       "300   little    20.373601   562.420668  Topic10  -5.4793  -0.3160\n",
       "159     baby    21.506828  1026.175116  Topic10  -5.4252  -0.8632\n",
       "178      one    20.484387   904.873031  Topic10  -5.4739  -0.7861\n",
       "61      well    17.860855   562.746236  Topic10  -5.6109  -0.4482\n",
       "28        br    19.494440  1244.514923  Topic10  -5.5234  -1.1543\n",
       "\n",
       "[853 rows x 6 columns], token_table=      Topic      Freq     Term\n",
       "term                          \n",
       "8592      8  0.557109     abit\n",
       "337       1  0.192379     able\n",
       "337       2  0.090178     able\n",
       "337       3  0.132260     able\n",
       "337       4  0.198391     able\n",
       "...     ...       ...      ...\n",
       "4684      8  0.125081     zero\n",
       "4684      9  0.375244     zero\n",
       "4444      8  0.557110  ziptied\n",
       "4795      7  0.293132  zoomkit\n",
       "4795     10  0.586263  zoomkit\n",
       "\n",
       "[2349 rows x 3 columns], R=30, lambda_step=0.01, plot_opts={'xlab': 'PC1', 'ylab': 'PC2'}, topic_order=[3, 6, 9, 4, 8, 2, 5, 10, 7, 1])"
      ]
     },
     "execution_count": 62,
     "metadata": {},
     "output_type": "execute_result"
    }
   ],
   "source": [
    "# Analisando os resultados:\n",
    "\n",
    "import pyLDAvis.gensim\n",
    "import pickle \n",
    "import pyLDAvis\n",
    "\n",
    "# Visualize the topics\n",
    "pyLDAvis.enable_notebook()\n",
    "LDAvis_data_filepath = os.path.join('lda_results'+str(num_topics))\n",
    "# # this is a bit time consuming - make the if statement True\n",
    "# # if you want to execute visualization prep yourself\n",
    "\n",
    "LDAvis_prepared = pyLDAvis.gensim.prepare(lda_model, corpus, id2word)\n",
    "with open(LDAvis_data_filepath, 'wb') as f:\n",
    "    pickle.dump(LDAvis_prepared, f)\n",
    "\n",
    "# load the pre-prepared pyLDAvis data from disk\n",
    "with open(LDAvis_data_filepath, 'rb') as f:\n",
    "    LDAvis_prepared = pickle.load(f)\n",
    "\n",
    "# pyLDAvis.save_html(LDAvis_prepared, 'lda_results'+ str(num_topics) +'.html')\n",
    "LDAvis_prepared"
   ]
  },
  {
   "cell_type": "markdown",
   "metadata": {},
   "source": [
    "**proximos passos:**\n",
    "- avaliar com todos mais conjuntos de dados que coletei (manter mais ou menos o mesmo numero de reviews)\n",
    "- fazer a geração de topicos com BERT e com LDA\n",
    "- encontrar pontos em comum como avaliação de tópicos, ou resultados do proprio dataset no hugging face para comparar "
   ]
  },
  {
   "cell_type": "code",
   "execution_count": null,
   "metadata": {},
   "outputs": [],
   "source": []
  }
 ],
 "metadata": {
  "kernelspec": {
   "display_name": "Python 3",
   "language": "python",
   "name": "python3"
  },
  "language_info": {
   "codemirror_mode": {
    "name": "ipython",
    "version": 3
   },
   "file_extension": ".py",
   "mimetype": "text/x-python",
   "name": "python",
   "nbconvert_exporter": "python",
   "pygments_lexer": "ipython3",
   "version": "3.11.9"
  }
 },
 "nbformat": 4,
 "nbformat_minor": 2
}
