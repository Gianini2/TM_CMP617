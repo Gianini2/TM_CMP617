{
 "cells": [
  {
   "cell_type": "code",
   "execution_count": 1,
   "metadata": {},
   "outputs": [],
   "source": [
    "# unused here:\n",
    "# !pip install --upgrade huggingface_hub -q\n",
    "# !pip install --upgrade pip\n",
    "# !pip install ipywidgets"
   ]
  },
  {
   "cell_type": "code",
   "execution_count": 2,
   "metadata": {},
   "outputs": [],
   "source": [
    "# BERTopic only work's properly with torch 2.2.1, higher versions you can have issues\n",
    "!pip install torch==2.2.1\n",
    "!pip install bertopic\n",
    "!pip install bertopic[flair]\n",
    "!pip install bertopic[gensim]\n",
    "!pip install bertopic[spacy] \n",
    "# this one is having an issue:\n",
    "# !pip install bertopic[use]\n",
    " \n",
    "from IPython.display import clear_output\n",
    "clear_output()"
   ]
  },
  {
   "cell_type": "markdown",
   "metadata": {},
   "source": [
    "In case bertopic complains to install in windows due to long paths, enable long paths to install **bertopic** in windows:\n",
    "1. Open PowerShell as Administrator.\n",
    "2. In the PowerShell window that opened with administrative privileges, type the following command and press Enter:\n",
    "```bash\n",
    "New-ItemProperty -Path \"HKLM:\\SYSTEM\\CurrentControlSet\\Control\\FileSystem\" -Name \"LongPathsEnabled\" -Value 1 -PropertyType DWORD -Force\n",
    "```\n",
    "3. Restart your computer."
   ]
  },
  {
   "cell_type": "code",
   "execution_count": 16,
   "metadata": {},
   "outputs": [
    {
     "name": "stderr",
     "output_type": "stream",
     "text": [
      "[nltk_data] Downloading package punkt to\n",
      "[nltk_data]     C:\\Users\\gutog\\AppData\\Roaming\\nltk_data...\n",
      "[nltk_data]   Package punkt is already up-to-date!\n"
     ]
    },
    {
     "data": {
      "text/plain": [
       "True"
      ]
     },
     "execution_count": 16,
     "metadata": {},
     "output_type": "execute_result"
    }
   ],
   "source": [
    "from bertopic import BERTopic\n",
    "from sklearn.datasets import fetch_20newsgroups\n",
    "import json\n",
    "import random\n",
    "\n",
    "from sentence_transformers import SentenceTransformer\n",
    "import pandas as pd\n",
    "import numpy as np\n",
    "import nltk\n",
    "nltk.download('punkt')"
   ]
  },
  {
   "cell_type": "code",
   "execution_count": 11,
   "metadata": {},
   "outputs": [],
   "source": [
    "# 37s to load's the data\n",
    "# 1m34s to append the data into a list\n",
    "# Open the jsonl file\n",
    "\n",
    "BabyProductsDict = []\n",
    "\n",
    "with open('data/Baby_Products.jsonl', 'r') as file:\n",
    "    # Read each line in the file\n",
    "    for line in file:\n",
    "        # Parse the JSON data on the line\n",
    "        BabyProductsDict.append(json.loads(line))\n",
    "        # Now data is a dictionary representing the JSON object\n",
    "        # print(data)"
   ]
  },
  {
   "cell_type": "code",
   "execution_count": 12,
   "metadata": {},
   "outputs": [
    {
     "name": "stdout",
     "output_type": "stream",
     "text": [
      "len(): 6028884 type: <class 'list'>\n"
     ]
    }
   ],
   "source": [
    "print('len():',len(BabyProductsDict),'type:',type(BabyProductsDict))"
   ]
  },
  {
   "cell_type": "code",
   "execution_count": 14,
   "metadata": {},
   "outputs": [
    {
     "data": {
      "text/plain": [
       "'I bought two of these for my kids for nap time at their preschool. But they also use at home to &#34;camp&#34;...lol. They seem to work pretty well are cute designs and have held up through multiple washings on the gentle cycle and air fluff or lay flat to dry. They still look brand new to me! They are a little stiff at first ( and sometimes after washing) but with use they do become softer and the inside is plenty soft for sleeping- my kiddos have not complaints!'"
      ]
     },
     "execution_count": 14,
     "metadata": {},
     "output_type": "execute_result"
    }
   ],
   "source": [
    "# sample\n",
    "BabyProductsDict[0]['text']"
   ]
  },
  {
   "cell_type": "code",
   "execution_count": 17,
   "metadata": {},
   "outputs": [
    {
     "name": "stdout",
     "output_type": "stream",
     "text": [
      "1000000\n"
     ]
    }
   ],
   "source": [
    "max_samples = 1000000\n",
    "\n",
    "if len(BabyProductsDict) > max_samples:\n",
    "    sampled_list = random.sample(BabyProductsDict, max_samples)\n",
    "else:\n",
    "    sampled_list = BabyProductsDict\n",
    "\n",
    "# Print or use the sampled list as needed\n",
    "print(len(sampled_list))  # Should be max_samples if the original list has more than max_samples items"
   ]
  },
  {
   "cell_type": "code",
   "execution_count": 19,
   "metadata": {},
   "outputs": [
    {
     "data": {
      "text/plain": [
       "{'rating': 5.0,\n",
       " 'title': 'So much easier!',\n",
       " 'text': 'Makes pumping so much easier and the time goes by faster being able to do other things with your hands. Been able to feed my baby at the same time with a bottle, use my phone and even nap!',\n",
       " 'images': [],\n",
       " 'asin': 'B07875D5G1',\n",
       " 'parent_asin': 'B07875D5G1',\n",
       " 'user_id': 'AHPI24Q2J73QFGBSMU6VJMEFUPQQ',\n",
       " 'timestamp': 1524526106601,\n",
       " 'helpful_vote': 0,\n",
       " 'verified_purchase': True}"
      ]
     },
     "execution_count": 19,
     "metadata": {},
     "output_type": "execute_result"
    }
   ],
   "source": [
    "sampled_list[0]"
   ]
  },
  {
   "cell_type": "code",
   "execution_count": 3,
   "metadata": {},
   "outputs": [],
   "source": [
    "# sample\n",
    "docs = fetch_20newsgroups(subset='all',  remove=('headers', 'footers', 'quotes'))['data']\n",
    "\n",
    "# model\n",
    "topic_model = BERTopic()"
   ]
  }
 ],
 "metadata": {
  "kernelspec": {
   "display_name": "Python 3",
   "language": "python",
   "name": "python3"
  },
  "language_info": {
   "codemirror_mode": {
    "name": "ipython",
    "version": 3
   },
   "file_extension": ".py",
   "mimetype": "text/x-python",
   "name": "python",
   "nbconvert_exporter": "python",
   "pygments_lexer": "ipython3",
   "version": "3.11.9"
  }
 },
 "nbformat": 4,
 "nbformat_minor": 2
}
